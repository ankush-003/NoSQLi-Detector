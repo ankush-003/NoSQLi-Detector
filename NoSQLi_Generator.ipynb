{
  "cells": [
    {
      "cell_type": "code",
      "execution_count": 1,
      "metadata": {
        "colab": {
          "base_uri": "https://localhost:8080/"
        },
        "id": "2VcudOstmVV6",
        "outputId": "6f90e6c3-8a9a-493e-8870-0db102b9378e"
      },
      "outputs": [
        {
          "name": "stdout",
          "output_type": "stream",
          "text": [
            "/bin/bash: /home/gariman/anaconda3/lib/libtinfo.so.6: no version information available (required by /bin/bash)\n",
            "Requirement already satisfied: accelerate in /home/gariman/anaconda3/lib/python3.10/site-packages (0.21.0)\n",
            "Requirement already satisfied: pyyaml in /home/gariman/.local/lib/python3.10/site-packages (from accelerate) (6.0)\n",
            "Requirement already satisfied: psutil in /home/gariman/anaconda3/lib/python3.10/site-packages (from accelerate) (5.9.0)\n",
            "Requirement already satisfied: packaging>=20.0 in /home/gariman/.local/lib/python3.10/site-packages (from accelerate) (23.1)\n",
            "Requirement already satisfied: numpy>=1.17 in /home/gariman/.local/lib/python3.10/site-packages (from accelerate) (1.23.5)\n",
            "Requirement already satisfied: torch>=1.10.0 in /home/gariman/.local/lib/python3.10/site-packages (from accelerate) (2.0.1+cu118)\n",
            "Requirement already satisfied: networkx in /home/gariman/.local/lib/python3.10/site-packages (from torch>=1.10.0->accelerate) (3.0)\n",
            "Requirement already satisfied: filelock in /home/gariman/.local/lib/python3.10/site-packages (from torch>=1.10.0->accelerate) (3.9.0)\n",
            "Requirement already satisfied: jinja2 in /home/gariman/.local/lib/python3.10/site-packages (from torch>=1.10.0->accelerate) (3.1.2)\n",
            "Requirement already satisfied: triton==2.0.0 in /home/gariman/.local/lib/python3.10/site-packages (from torch>=1.10.0->accelerate) (2.0.0)\n",
            "Requirement already satisfied: typing-extensions in /home/gariman/anaconda3/lib/python3.10/site-packages (from torch>=1.10.0->accelerate) (4.7.1)\n",
            "Requirement already satisfied: sympy in /home/gariman/.local/lib/python3.10/site-packages (from torch>=1.10.0->accelerate) (1.11.1)\n",
            "Requirement already satisfied: cmake in /home/gariman/.local/lib/python3.10/site-packages (from triton==2.0.0->torch>=1.10.0->accelerate) (3.25.0)\n",
            "Requirement already satisfied: lit in /home/gariman/.local/lib/python3.10/site-packages (from triton==2.0.0->torch>=1.10.0->accelerate) (15.0.7)\n",
            "Requirement already satisfied: MarkupSafe>=2.0 in /home/gariman/.local/lib/python3.10/site-packages (from jinja2->torch>=1.10.0->accelerate) (2.1.3)\n",
            "Requirement already satisfied: mpmath>=0.19 in /home/gariman/.local/lib/python3.10/site-packages (from sympy->torch>=1.10.0->accelerate) (1.2.1)\n",
            "/bin/bash: /home/gariman/anaconda3/lib/libtinfo.so.6: no version information available (required by /bin/bash)\n",
            "Requirement already satisfied: transformers in /home/gariman/anaconda3/lib/python3.10/site-packages (4.31.0.dev0)\n",
            "Requirement already satisfied: pyyaml>=5.1 in /home/gariman/.local/lib/python3.10/site-packages (from transformers) (6.0)\n",
            "Requirement already satisfied: filelock in /home/gariman/.local/lib/python3.10/site-packages (from transformers) (3.9.0)\n",
            "Requirement already satisfied: numpy>=1.17 in /home/gariman/.local/lib/python3.10/site-packages (from transformers) (1.23.5)\n",
            "Requirement already satisfied: huggingface-hub<1.0,>=0.14.1 in /home/gariman/anaconda3/lib/python3.10/site-packages (from transformers) (0.16.4)\n",
            "Requirement already satisfied: regex!=2019.12.17 in /home/gariman/anaconda3/lib/python3.10/site-packages (from transformers) (2022.7.9)\n",
            "Requirement already satisfied: tokenizers!=0.11.3,<0.14,>=0.11.1 in /home/gariman/anaconda3/lib/python3.10/site-packages (from transformers) (0.11.4)\n",
            "Requirement already satisfied: requests in /home/gariman/anaconda3/lib/python3.10/site-packages (from transformers) (2.28.1)\n",
            "Requirement already satisfied: packaging>=20.0 in /home/gariman/.local/lib/python3.10/site-packages (from transformers) (23.1)\n",
            "Requirement already satisfied: tqdm>=4.27 in /home/gariman/.local/lib/python3.10/site-packages (from transformers) (4.65.0)\n",
            "Requirement already satisfied: safetensors>=0.3.1 in /home/gariman/anaconda3/lib/python3.10/site-packages (from transformers) (0.3.1)\n",
            "Requirement already satisfied: fsspec in /home/gariman/anaconda3/lib/python3.10/site-packages (from huggingface-hub<1.0,>=0.14.1->transformers) (2022.11.0)\n",
            "Requirement already satisfied: typing-extensions>=3.7.4.3 in /home/gariman/anaconda3/lib/python3.10/site-packages (from huggingface-hub<1.0,>=0.14.1->transformers) (4.7.1)\n",
            "Requirement already satisfied: idna<4,>=2.5 in /home/gariman/anaconda3/lib/python3.10/site-packages (from requests->transformers) (3.4)\n",
            "Requirement already satisfied: urllib3<1.27,>=1.21.1 in /home/gariman/anaconda3/lib/python3.10/site-packages (from requests->transformers) (1.26.14)\n",
            "Requirement already satisfied: certifi>=2017.4.17 in /home/gariman/anaconda3/lib/python3.10/site-packages (from requests->transformers) (2023.5.7)\n",
            "Requirement already satisfied: charset-normalizer<3,>=2 in /home/gariman/anaconda3/lib/python3.10/site-packages (from requests->transformers) (2.0.4)\n",
            "/bin/bash: /home/gariman/anaconda3/lib/libtinfo.so.6: no version information available (required by /bin/bash)\n",
            "Requirement already satisfied: huggingface_hub in /home/gariman/anaconda3/lib/python3.10/site-packages (0.16.4)\n",
            "Requirement already satisfied: requests in /home/gariman/anaconda3/lib/python3.10/site-packages (from huggingface_hub) (2.28.1)\n",
            "Requirement already satisfied: tqdm>=4.42.1 in /home/gariman/.local/lib/python3.10/site-packages (from huggingface_hub) (4.65.0)\n",
            "Requirement already satisfied: fsspec in /home/gariman/anaconda3/lib/python3.10/site-packages (from huggingface_hub) (2022.11.0)\n",
            "Requirement already satisfied: typing-extensions>=3.7.4.3 in /home/gariman/anaconda3/lib/python3.10/site-packages (from huggingface_hub) (4.7.1)\n",
            "Requirement already satisfied: packaging>=20.9 in /home/gariman/.local/lib/python3.10/site-packages (from huggingface_hub) (23.1)\n",
            "Requirement already satisfied: pyyaml>=5.1 in /home/gariman/.local/lib/python3.10/site-packages (from huggingface_hub) (6.0)\n",
            "Requirement already satisfied: filelock in /home/gariman/.local/lib/python3.10/site-packages (from huggingface_hub) (3.9.0)\n",
            "Requirement already satisfied: charset-normalizer<3,>=2 in /home/gariman/anaconda3/lib/python3.10/site-packages (from requests->huggingface_hub) (2.0.4)\n",
            "Requirement already satisfied: urllib3<1.27,>=1.21.1 in /home/gariman/anaconda3/lib/python3.10/site-packages (from requests->huggingface_hub) (1.26.14)\n",
            "Requirement already satisfied: idna<4,>=2.5 in /home/gariman/anaconda3/lib/python3.10/site-packages (from requests->huggingface_hub) (3.4)\n",
            "Requirement already satisfied: certifi>=2017.4.17 in /home/gariman/anaconda3/lib/python3.10/site-packages (from requests->huggingface_hub) (2023.5.7)\n",
            "/bin/bash: /home/gariman/anaconda3/lib/libtinfo.so.6: no version information available (required by /bin/bash)\n",
            "Requirement already satisfied: evaluate in /home/gariman/anaconda3/lib/python3.10/site-packages (0.4.0)\n",
            "Requirement already satisfied: numpy>=1.17 in /home/gariman/.local/lib/python3.10/site-packages (from evaluate) (1.23.5)\n",
            "Requirement already satisfied: pandas in /home/gariman/anaconda3/lib/python3.10/site-packages (from evaluate) (1.5.3)\n",
            "Requirement already satisfied: packaging in /home/gariman/.local/lib/python3.10/site-packages (from evaluate) (23.1)\n",
            "Requirement already satisfied: huggingface-hub>=0.7.0 in /home/gariman/anaconda3/lib/python3.10/site-packages (from evaluate) (0.16.4)\n",
            "Requirement already satisfied: requests>=2.19.0 in /home/gariman/anaconda3/lib/python3.10/site-packages (from evaluate) (2.28.1)\n",
            "Requirement already satisfied: multiprocess in /home/gariman/anaconda3/lib/python3.10/site-packages (from evaluate) (0.70.14)\n",
            "Requirement already satisfied: tqdm>=4.62.1 in /home/gariman/.local/lib/python3.10/site-packages (from evaluate) (4.65.0)\n",
            "Requirement already satisfied: fsspec[http]>=2021.05.0 in /home/gariman/anaconda3/lib/python3.10/site-packages (from evaluate) (2022.11.0)\n",
            "Requirement already satisfied: responses<0.19 in /home/gariman/anaconda3/lib/python3.10/site-packages (from evaluate) (0.18.0)\n",
            "Requirement already satisfied: datasets>=2.0.0 in /home/gariman/anaconda3/lib/python3.10/site-packages (from evaluate) (2.13.1)\n",
            "Requirement already satisfied: dill in /home/gariman/anaconda3/lib/python3.10/site-packages (from evaluate) (0.3.6)\n",
            "Requirement already satisfied: xxhash in /home/gariman/anaconda3/lib/python3.10/site-packages (from evaluate) (3.2.0)\n",
            "Requirement already satisfied: pyarrow>=8.0.0 in /home/gariman/anaconda3/lib/python3.10/site-packages (from datasets>=2.0.0->evaluate) (12.0.1)\n",
            "Requirement already satisfied: aiohttp in /home/gariman/anaconda3/lib/python3.10/site-packages (from datasets>=2.0.0->evaluate) (3.8.4)\n",
            "Requirement already satisfied: pyyaml>=5.1 in /home/gariman/.local/lib/python3.10/site-packages (from datasets>=2.0.0->evaluate) (6.0)\n",
            "Requirement already satisfied: typing-extensions>=3.7.4.3 in /home/gariman/anaconda3/lib/python3.10/site-packages (from huggingface-hub>=0.7.0->evaluate) (4.7.1)\n",
            "Requirement already satisfied: filelock in /home/gariman/.local/lib/python3.10/site-packages (from huggingface-hub>=0.7.0->evaluate) (3.9.0)\n",
            "Requirement already satisfied: charset-normalizer<3,>=2 in /home/gariman/anaconda3/lib/python3.10/site-packages (from requests>=2.19.0->evaluate) (2.0.4)\n",
            "Requirement already satisfied: urllib3<1.27,>=1.21.1 in /home/gariman/anaconda3/lib/python3.10/site-packages (from requests>=2.19.0->evaluate) (1.26.14)\n",
            "Requirement already satisfied: idna<4,>=2.5 in /home/gariman/anaconda3/lib/python3.10/site-packages (from requests>=2.19.0->evaluate) (3.4)\n",
            "Requirement already satisfied: certifi>=2017.4.17 in /home/gariman/anaconda3/lib/python3.10/site-packages (from requests>=2.19.0->evaluate) (2023.5.7)\n",
            "Requirement already satisfied: python-dateutil>=2.8.1 in /home/gariman/anaconda3/lib/python3.10/site-packages (from pandas->evaluate) (2.8.2)\n",
            "Requirement already satisfied: pytz>=2020.1 in /home/gariman/anaconda3/lib/python3.10/site-packages (from pandas->evaluate) (2022.7)\n",
            "Requirement already satisfied: aiosignal>=1.1.2 in /home/gariman/anaconda3/lib/python3.10/site-packages (from aiohttp->datasets>=2.0.0->evaluate) (1.3.1)\n",
            "Requirement already satisfied: async-timeout<5.0,>=4.0.0a3 in /home/gariman/anaconda3/lib/python3.10/site-packages (from aiohttp->datasets>=2.0.0->evaluate) (4.0.2)\n",
            "Requirement already satisfied: frozenlist>=1.1.1 in /home/gariman/anaconda3/lib/python3.10/site-packages (from aiohttp->datasets>=2.0.0->evaluate) (1.4.0)\n",
            "Requirement already satisfied: attrs>=17.3.0 in /home/gariman/anaconda3/lib/python3.10/site-packages (from aiohttp->datasets>=2.0.0->evaluate) (22.1.0)\n",
            "Requirement already satisfied: yarl<2.0,>=1.0 in /home/gariman/anaconda3/lib/python3.10/site-packages (from aiohttp->datasets>=2.0.0->evaluate) (1.9.2)\n",
            "Requirement already satisfied: multidict<7.0,>=4.5 in /home/gariman/anaconda3/lib/python3.10/site-packages (from aiohttp->datasets>=2.0.0->evaluate) (6.0.4)\n",
            "Requirement already satisfied: six>=1.5 in /home/gariman/anaconda3/lib/python3.10/site-packages (from python-dateutil>=2.8.1->pandas->evaluate) (1.16.0)\n"
          ]
        }
      ],
      "source": [
        "!pip install -U accelerate\n",
        "!pip install -U transformers\n",
        "!pip install --upgrade huggingface_hub\n",
        "!pip install evaluate"
      ]
    },
    {
      "cell_type": "code",
      "execution_count": null,
      "metadata": {
        "colab": {
          "base_uri": "https://localhost:8080/",
          "height": 145,
          "referenced_widgets": [
            "5c4e887134084fc09b4cd95f414fea25",
            "cd521b7617564dbd894fa14186f5e4b7",
            "d9f442a6e3cf4ca580e0ffdc5284f0d3",
            "7e0172357b3747b0ab569c618e70d5ae",
            "7b92a0a9051f48969aa8295a192c270c",
            "f223a91848aa407d9c5215c9cc5e6d6a",
            "57e94991aff34481bcaa26d7adde667d",
            "373e03a6dd8d4fb7814b9a794aaf79a8",
            "0c9b382bc02542058e2f4697cab3113e",
            "eba5746697c942eca5555f38d06546e6",
            "6209242d1f174d9b943aebabd3de0736",
            "024547e07c4a44babc1a5b688824bce8",
            "5617344a46e54802902249a465f882d1",
            "94941b5c8c0a40bea3b417cef6868eae",
            "0e906d65d7c6403d8e8111d2d0127484",
            "0ebb981f94c741eca4e2b9d862e2ae9e",
            "19f5e15d98e249a899826754f034ceb7",
            "9287d0b98f834e198ac28be1f7ed5f32",
            "e2bc85b91b2b4b4eb0d97507ba6f61f7",
            "1be02e79fa1d4663a72f8e9c55fa2472",
            "5fd597cae83f4332aa1820a038bafe41",
            "1f5787bb824f4afca28281259a5f9709",
            "892311fbaa614e97ad38d9061cd4c604",
            "2773c08782a44aeb8ee2c3a0b0cd0d73",
            "514f21d6f48d4f8c8b336c559e5fa614",
            "0365b05cd4db4690965531565e430360",
            "a867f1ec4f18432d890f489e542d225b",
            "dcb421b29db648129271f8e94eafa2ca",
            "0bbbde99f9e84ddfa7512cb2c70e3a82",
            "7079cb6aca34426ab80d393448e8b183",
            "7d2b67838e164b90b062d4cffbb88346",
            "e0c9a2dfd8d64d88bb4432d5357b9ebe"
          ]
        },
        "id": "2Yrgj6FkprO9",
        "outputId": "dcb0c4f0-ba4d-47d8-8f2c-15ac3f01c9a8"
      },
      "outputs": [],
      "source": [
        "from huggingface_hub import login\n",
        "login()"
      ]
    },
    {
      "cell_type": "code",
      "execution_count": null,
      "metadata": {
        "colab": {
          "base_uri": "https://localhost:8080/",
          "height": 92
        },
        "id": "Zq4q7wLLmoct",
        "outputId": "1a6068a3-d30d-40f7-dbf8-dc8a197df5ea"
      },
      "outputs": [],
      "source": [
        "from google.colab import files\n",
        "\n",
        "uploaded = files.upload()\n",
        "fnames = []\n",
        "for fn in uploaded.keys():\n",
        "  fnames.append(fn)\n",
        "  print('User uploaded file \"{name}\" with length {length} bytes'.format(\n",
        "      name=fn, length=len(uploaded[fn])))"
      ]
    },
    {
      "cell_type": "code",
      "execution_count": null,
      "metadata": {
        "colab": {
          "base_uri": "https://localhost:8080/"
        },
        "id": "216jUTWJnOd-",
        "outputId": "923d50de-1e5c-4d70-b966-5bc20a1e35f8"
      },
      "outputs": [],
      "source": [
        "print(\"nosql_injection_dataset.json\")"
      ]
    },
    {
      "cell_type": "code",
      "execution_count": 2,
      "metadata": {},
      "outputs": [
        {
          "data": {
            "text/plain": [
              "0"
            ]
          },
          "execution_count": 2,
          "metadata": {},
          "output_type": "execute_result"
        }
      ],
      "source": [
        "import gc\n",
        "import torch\n",
        "torch.cuda.empty_cache()\n",
        "gc.collect()"
      ]
    },
    {
      "cell_type": "code",
      "execution_count": 5,
      "metadata": {
        "colab": {
          "base_uri": "https://localhost:8080/",
          "height": 243
        },
        "id": "LYKkOU8HmfWT",
        "outputId": "dca2e25d-0294-4d9c-a8a8-afea1544c465"
      },
      "outputs": [
        {
          "name": "stderr",
          "output_type": "stream",
          "text": [
            "Some weights of the model checkpoint at distilroberta-base were not used when initializing RobertaForMaskedLM: ['roberta.pooler.dense.bias', 'roberta.pooler.dense.weight']\n",
            "- This IS expected if you are initializing RobertaForMaskedLM from the checkpoint of a model trained on another task or with another architecture (e.g. initializing a BertForSequenceClassification model from a BertForPreTraining model).\n",
            "- This IS NOT expected if you are initializing RobertaForMaskedLM from the checkpoint of a model that you expect to be exactly identical (initializing a BertForSequenceClassification model from a BertForSequenceClassification model).\n",
            "/home/gariman/Downloads/angus/fine-tuned-distilroberta-nosql-injection is already a clone of https://huggingface.co/ankush-003/fine-tuned-distilroberta-nosql-injection. Make sure you pull the latest changes with `repo.git_pull()`.\n",
            "/home/gariman/anaconda3/lib/python3.10/site-packages/transformers/optimization.py:411: FutureWarning: This implementation of AdamW is deprecated and will be removed in a future version. Use the PyTorch implementation torch.optim.AdamW instead, or set `no_deprecation_warning=True` to disable this warning\n",
            "  warnings.warn(\n"
          ]
        },
        {
          "data": {
            "application/vnd.jupyter.widget-view+json": {
              "model_id": "2b996121753d4640b596ff2f54cd2903",
              "version_major": 2,
              "version_minor": 0
            },
            "text/plain": [
              "  0%|          | 0/11850 [00:00<?, ?it/s]"
            ]
          },
          "metadata": {},
          "output_type": "display_data"
        },
        {
          "name": "stderr",
          "output_type": "stream",
          "text": [
            "You're using a RobertaTokenizerFast tokenizer. Please note that with a fast tokenizer, using the `__call__` method is faster than using a method to encode the text followed by a call to the `pad` method to get a padded encoding.\n"
          ]
        },
        {
          "data": {
            "application/vnd.jupyter.widget-view+json": {
              "model_id": "f8d45c7423a447d89ed8568e0db02a40",
              "version_major": 2,
              "version_minor": 0
            },
            "text/plain": [
              "  0%|          | 0/9 [00:00<?, ?it/s]"
            ]
          },
          "metadata": {},
          "output_type": "display_data"
        },
        {
          "name": "stdout",
          "output_type": "stream",
          "text": [
            "{'eval_loss': 0.3011210858821869, 'eval_runtime': 1.3023, 'eval_samples_per_second': 53.753, 'eval_steps_per_second': 6.911, 'epoch': 1.0}\n",
            "{'loss': 1.3847, 'learning_rate': 2e-05, 'epoch': 1.27}\n"
          ]
        },
        {
          "data": {
            "application/vnd.jupyter.widget-view+json": {
              "model_id": "bf6ccb5186784574849ef3726d5da326",
              "version_major": 2,
              "version_minor": 0
            },
            "text/plain": [
              "  0%|          | 0/9 [00:00<?, ?it/s]"
            ]
          },
          "metadata": {},
          "output_type": "display_data"
        },
        {
          "name": "stdout",
          "output_type": "stream",
          "text": [
            "{'eval_loss': 0.10107681900262833, 'eval_runtime': 1.3018, 'eval_samples_per_second': 53.771, 'eval_steps_per_second': 6.913, 'epoch': 2.0}\n",
            "{'loss': 0.2019, 'learning_rate': 1.9829787234042554e-05, 'epoch': 2.53}\n"
          ]
        },
        {
          "data": {
            "application/vnd.jupyter.widget-view+json": {
              "model_id": "d0abf607e2ab4759bc59c25e62db54a4",
              "version_major": 2,
              "version_minor": 0
            },
            "text/plain": [
              "  0%|          | 0/9 [00:00<?, ?it/s]"
            ]
          },
          "metadata": {},
          "output_type": "display_data"
        },
        {
          "name": "stdout",
          "output_type": "stream",
          "text": [
            "{'eval_loss': 0.033887967467308044, 'eval_runtime': 1.3036, 'eval_samples_per_second': 53.696, 'eval_steps_per_second': 6.904, 'epoch': 3.0}\n",
            "{'loss': 0.1007, 'learning_rate': 1.9659574468085107e-05, 'epoch': 3.8}\n"
          ]
        },
        {
          "data": {
            "application/vnd.jupyter.widget-view+json": {
              "model_id": "51c8364726734451981ae9e56afcc8a1",
              "version_major": 2,
              "version_minor": 0
            },
            "text/plain": [
              "  0%|          | 0/9 [00:00<?, ?it/s]"
            ]
          },
          "metadata": {},
          "output_type": "display_data"
        },
        {
          "name": "stdout",
          "output_type": "stream",
          "text": [
            "{'eval_loss': 0.05867771431803703, 'eval_runtime': 1.3242, 'eval_samples_per_second': 52.86, 'eval_steps_per_second': 6.796, 'epoch': 4.0}\n"
          ]
        },
        {
          "data": {
            "application/vnd.jupyter.widget-view+json": {
              "model_id": "cd65cd291130425998ce814fc72eff74",
              "version_major": 2,
              "version_minor": 0
            },
            "text/plain": [
              "  0%|          | 0/9 [00:00<?, ?it/s]"
            ]
          },
          "metadata": {},
          "output_type": "display_data"
        },
        {
          "name": "stdout",
          "output_type": "stream",
          "text": [
            "{'eval_loss': 0.00014390223077498376, 'eval_runtime': 1.3231, 'eval_samples_per_second': 52.907, 'eval_steps_per_second': 6.802, 'epoch': 5.0}\n",
            "{'loss': 0.0514, 'learning_rate': 1.948936170212766e-05, 'epoch': 5.06}\n"
          ]
        },
        {
          "data": {
            "application/vnd.jupyter.widget-view+json": {
              "model_id": "abd3e1f15175448895b3313516b05ee1",
              "version_major": 2,
              "version_minor": 0
            },
            "text/plain": [
              "  0%|          | 0/9 [00:00<?, ?it/s]"
            ]
          },
          "metadata": {},
          "output_type": "display_data"
        },
        {
          "name": "stdout",
          "output_type": "stream",
          "text": [
            "{'eval_loss': 0.08753480017185211, 'eval_runtime': 1.3322, 'eval_samples_per_second': 52.546, 'eval_steps_per_second': 6.756, 'epoch': 6.0}\n",
            "{'loss': 0.0781, 'learning_rate': 1.9319148936170213e-05, 'epoch': 6.33}\n"
          ]
        },
        {
          "data": {
            "application/vnd.jupyter.widget-view+json": {
              "model_id": "296ffb4d92c24744a89f6e433847cdf8",
              "version_major": 2,
              "version_minor": 0
            },
            "text/plain": [
              "  0%|          | 0/9 [00:00<?, ?it/s]"
            ]
          },
          "metadata": {},
          "output_type": "display_data"
        },
        {
          "name": "stdout",
          "output_type": "stream",
          "text": [
            "{'eval_loss': 0.0007181544788181782, 'eval_runtime': 1.3245, 'eval_samples_per_second': 52.849, 'eval_steps_per_second': 6.795, 'epoch': 7.0}\n",
            "{'loss': 0.0378, 'learning_rate': 1.914893617021277e-05, 'epoch': 7.59}\n"
          ]
        },
        {
          "data": {
            "application/vnd.jupyter.widget-view+json": {
              "model_id": "fda25ec056f548fb998f2791001e4f55",
              "version_major": 2,
              "version_minor": 0
            },
            "text/plain": [
              "  0%|          | 0/9 [00:00<?, ?it/s]"
            ]
          },
          "metadata": {},
          "output_type": "display_data"
        },
        {
          "name": "stdout",
          "output_type": "stream",
          "text": [
            "{'eval_loss': 0.034958504140377045, 'eval_runtime': 1.32, 'eval_samples_per_second': 53.029, 'eval_steps_per_second': 6.818, 'epoch': 8.0}\n",
            "{'loss': 0.0642, 'learning_rate': 1.8978723404255322e-05, 'epoch': 8.86}\n"
          ]
        },
        {
          "data": {
            "application/vnd.jupyter.widget-view+json": {
              "model_id": "7666d35dcbf24e88a16acf8df1704c05",
              "version_major": 2,
              "version_minor": 0
            },
            "text/plain": [
              "  0%|          | 0/9 [00:00<?, ?it/s]"
            ]
          },
          "metadata": {},
          "output_type": "display_data"
        },
        {
          "name": "stdout",
          "output_type": "stream",
          "text": [
            "{'eval_loss': 0.04979095607995987, 'eval_runtime': 1.3229, 'eval_samples_per_second': 52.916, 'eval_steps_per_second': 6.803, 'epoch': 9.0}\n"
          ]
        },
        {
          "data": {
            "application/vnd.jupyter.widget-view+json": {
              "model_id": "47a7d2ddc63c4fe3915df3ac58e786ce",
              "version_major": 2,
              "version_minor": 0
            },
            "text/plain": [
              "  0%|          | 0/9 [00:00<?, ?it/s]"
            ]
          },
          "metadata": {},
          "output_type": "display_data"
        },
        {
          "name": "stdout",
          "output_type": "stream",
          "text": [
            "{'eval_loss': 0.025163767859339714, 'eval_runtime': 1.3157, 'eval_samples_per_second': 53.203, 'eval_steps_per_second': 6.84, 'epoch': 10.0}\n",
            "{'loss': 0.0327, 'learning_rate': 1.8808510638297875e-05, 'epoch': 10.13}\n"
          ]
        },
        {
          "data": {
            "application/vnd.jupyter.widget-view+json": {
              "model_id": "00b35ee8192542c69230f662d430ac89",
              "version_major": 2,
              "version_minor": 0
            },
            "text/plain": [
              "  0%|          | 0/9 [00:00<?, ?it/s]"
            ]
          },
          "metadata": {},
          "output_type": "display_data"
        },
        {
          "name": "stdout",
          "output_type": "stream",
          "text": [
            "{'eval_loss': 0.02622557431459427, 'eval_runtime': 1.2967, 'eval_samples_per_second': 53.984, 'eval_steps_per_second': 6.941, 'epoch': 11.0}\n",
            "{'loss': 0.0333, 'learning_rate': 1.8638297872340427e-05, 'epoch': 11.39}\n"
          ]
        },
        {
          "data": {
            "application/vnd.jupyter.widget-view+json": {
              "model_id": "e05712a12352440aa7668bcdbc9e9a2d",
              "version_major": 2,
              "version_minor": 0
            },
            "text/plain": [
              "  0%|          | 0/9 [00:00<?, ?it/s]"
            ]
          },
          "metadata": {},
          "output_type": "display_data"
        },
        {
          "name": "stdout",
          "output_type": "stream",
          "text": [
            "{'eval_loss': 0.00640893867239356, 'eval_runtime': 1.2935, 'eval_samples_per_second': 54.115, 'eval_steps_per_second': 6.958, 'epoch': 12.0}\n",
            "{'loss': 0.0182, 'learning_rate': 1.846808510638298e-05, 'epoch': 12.66}\n"
          ]
        },
        {
          "data": {
            "application/vnd.jupyter.widget-view+json": {
              "model_id": "281162d9585840b2834d8d9a197090fc",
              "version_major": 2,
              "version_minor": 0
            },
            "text/plain": [
              "  0%|          | 0/9 [00:00<?, ?it/s]"
            ]
          },
          "metadata": {},
          "output_type": "display_data"
        },
        {
          "name": "stdout",
          "output_type": "stream",
          "text": [
            "{'eval_loss': 0.000153319924720563, 'eval_runtime': 1.2912, 'eval_samples_per_second': 54.214, 'eval_steps_per_second': 6.97, 'epoch': 13.0}\n",
            "{'loss': 0.0157, 'learning_rate': 1.8297872340425533e-05, 'epoch': 13.92}\n"
          ]
        },
        {
          "data": {
            "application/vnd.jupyter.widget-view+json": {
              "model_id": "50f519bbb6f64270b5e1025d68346199",
              "version_major": 2,
              "version_minor": 0
            },
            "text/plain": [
              "  0%|          | 0/9 [00:00<?, ?it/s]"
            ]
          },
          "metadata": {},
          "output_type": "display_data"
        },
        {
          "name": "stdout",
          "output_type": "stream",
          "text": [
            "{'eval_loss': 0.02145283669233322, 'eval_runtime': 1.2937, 'eval_samples_per_second': 54.108, 'eval_steps_per_second': 6.957, 'epoch': 14.0}\n"
          ]
        },
        {
          "data": {
            "application/vnd.jupyter.widget-view+json": {
              "model_id": "1509f8f1790b4e6bbde877da2403e718",
              "version_major": 2,
              "version_minor": 0
            },
            "text/plain": [
              "  0%|          | 0/9 [00:00<?, ?it/s]"
            ]
          },
          "metadata": {},
          "output_type": "display_data"
        },
        {
          "name": "stdout",
          "output_type": "stream",
          "text": [
            "{'eval_loss': 0.044944606721401215, 'eval_runtime': 1.299, 'eval_samples_per_second': 53.887, 'eval_steps_per_second': 6.928, 'epoch': 15.0}\n",
            "{'loss': 0.0332, 'learning_rate': 1.8127659574468086e-05, 'epoch': 15.19}\n"
          ]
        },
        {
          "data": {
            "application/vnd.jupyter.widget-view+json": {
              "model_id": "5464d5fed2f44640af97f63c3dfe91c4",
              "version_major": 2,
              "version_minor": 0
            },
            "text/plain": [
              "  0%|          | 0/9 [00:00<?, ?it/s]"
            ]
          },
          "metadata": {},
          "output_type": "display_data"
        },
        {
          "name": "stdout",
          "output_type": "stream",
          "text": [
            "{'eval_loss': 9.825106826610863e-05, 'eval_runtime': 1.2952, 'eval_samples_per_second': 54.044, 'eval_steps_per_second': 6.949, 'epoch': 16.0}\n",
            "{'loss': 0.019, 'learning_rate': 1.795744680851064e-05, 'epoch': 16.46}\n"
          ]
        },
        {
          "data": {
            "application/vnd.jupyter.widget-view+json": {
              "model_id": "46b6c1e564244a15b9334bf8c43bf2b4",
              "version_major": 2,
              "version_minor": 0
            },
            "text/plain": [
              "  0%|          | 0/9 [00:00<?, ?it/s]"
            ]
          },
          "metadata": {},
          "output_type": "display_data"
        },
        {
          "name": "stdout",
          "output_type": "stream",
          "text": [
            "{'eval_loss': 4.878370600636117e-05, 'eval_runtime': 1.2913, 'eval_samples_per_second': 54.21, 'eval_steps_per_second': 6.97, 'epoch': 17.0}\n",
            "{'loss': 0.0178, 'learning_rate': 1.778723404255319e-05, 'epoch': 17.72}\n"
          ]
        },
        {
          "data": {
            "application/vnd.jupyter.widget-view+json": {
              "model_id": "e954e2f448fb4bc2a4a5a6149a2d2acf",
              "version_major": 2,
              "version_minor": 0
            },
            "text/plain": [
              "  0%|          | 0/9 [00:00<?, ?it/s]"
            ]
          },
          "metadata": {},
          "output_type": "display_data"
        },
        {
          "name": "stdout",
          "output_type": "stream",
          "text": [
            "{'eval_loss': 0.0011430656304582953, 'eval_runtime': 1.3423, 'eval_samples_per_second': 52.15, 'eval_steps_per_second': 6.705, 'epoch': 18.0}\n",
            "{'loss': 0.0225, 'learning_rate': 1.7617021276595748e-05, 'epoch': 18.99}\n"
          ]
        },
        {
          "data": {
            "application/vnd.jupyter.widget-view+json": {
              "model_id": "14c04f87c14440e8990d86ce808cad69",
              "version_major": 2,
              "version_minor": 0
            },
            "text/plain": [
              "  0%|          | 0/9 [00:00<?, ?it/s]"
            ]
          },
          "metadata": {},
          "output_type": "display_data"
        },
        {
          "name": "stdout",
          "output_type": "stream",
          "text": [
            "{'eval_loss': 0.02952680177986622, 'eval_runtime': 1.3198, 'eval_samples_per_second': 53.039, 'eval_steps_per_second': 6.819, 'epoch': 19.0}\n"
          ]
        },
        {
          "data": {
            "application/vnd.jupyter.widget-view+json": {
              "model_id": "5cef76bd510042e1b9cf2f687be91a89",
              "version_major": 2,
              "version_minor": 0
            },
            "text/plain": [
              "  0%|          | 0/9 [00:00<?, ?it/s]"
            ]
          },
          "metadata": {},
          "output_type": "display_data"
        },
        {
          "name": "stdout",
          "output_type": "stream",
          "text": [
            "{'eval_loss': 0.05346585810184479, 'eval_runtime': 1.3156, 'eval_samples_per_second': 53.209, 'eval_steps_per_second': 6.841, 'epoch': 20.0}\n",
            "{'loss': 0.0312, 'learning_rate': 1.74468085106383e-05, 'epoch': 20.25}\n"
          ]
        },
        {
          "data": {
            "application/vnd.jupyter.widget-view+json": {
              "model_id": "951aaba3e70e49bfb9aa5e0ab6047ff3",
              "version_major": 2,
              "version_minor": 0
            },
            "text/plain": [
              "  0%|          | 0/9 [00:00<?, ?it/s]"
            ]
          },
          "metadata": {},
          "output_type": "display_data"
        },
        {
          "name": "stdout",
          "output_type": "stream",
          "text": [
            "{'eval_loss': 0.008948014117777348, 'eval_runtime': 1.3274, 'eval_samples_per_second': 52.733, 'eval_steps_per_second': 6.78, 'epoch': 21.0}\n",
            "{'loss': 0.0318, 'learning_rate': 1.7276595744680853e-05, 'epoch': 21.52}\n"
          ]
        },
        {
          "data": {
            "application/vnd.jupyter.widget-view+json": {
              "model_id": "dc25ab113d5b4e5f8c6c7fb6fdc17137",
              "version_major": 2,
              "version_minor": 0
            },
            "text/plain": [
              "  0%|          | 0/9 [00:00<?, ?it/s]"
            ]
          },
          "metadata": {},
          "output_type": "display_data"
        },
        {
          "name": "stdout",
          "output_type": "stream",
          "text": [
            "{'eval_loss': 0.007452068850398064, 'eval_runtime': 1.3293, 'eval_samples_per_second': 52.658, 'eval_steps_per_second': 6.77, 'epoch': 22.0}\n",
            "{'loss': 0.0127, 'learning_rate': 1.7106382978723406e-05, 'epoch': 22.78}\n"
          ]
        },
        {
          "data": {
            "application/vnd.jupyter.widget-view+json": {
              "model_id": "486c4103faa746039129bd0b58e8a3d2",
              "version_major": 2,
              "version_minor": 0
            },
            "text/plain": [
              "  0%|          | 0/9 [00:00<?, ?it/s]"
            ]
          },
          "metadata": {},
          "output_type": "display_data"
        },
        {
          "name": "stdout",
          "output_type": "stream",
          "text": [
            "{'eval_loss': 2.755537752818782e-05, 'eval_runtime': 1.3273, 'eval_samples_per_second': 52.739, 'eval_steps_per_second': 6.781, 'epoch': 23.0}\n"
          ]
        },
        {
          "data": {
            "application/vnd.jupyter.widget-view+json": {
              "model_id": "4bc6f267994744e6a78b27a3b6e0e0b1",
              "version_major": 2,
              "version_minor": 0
            },
            "text/plain": [
              "  0%|          | 0/9 [00:00<?, ?it/s]"
            ]
          },
          "metadata": {},
          "output_type": "display_data"
        },
        {
          "name": "stdout",
          "output_type": "stream",
          "text": [
            "{'eval_loss': 0.012273619882762432, 'eval_runtime': 1.3047, 'eval_samples_per_second': 53.654, 'eval_steps_per_second': 6.898, 'epoch': 24.0}\n",
            "{'loss': 0.0364, 'learning_rate': 1.693617021276596e-05, 'epoch': 24.05}\n"
          ]
        },
        {
          "data": {
            "application/vnd.jupyter.widget-view+json": {
              "model_id": "721e3e462541402ba83cd9a039cb0d25",
              "version_major": 2,
              "version_minor": 0
            },
            "text/plain": [
              "  0%|          | 0/9 [00:00<?, ?it/s]"
            ]
          },
          "metadata": {},
          "output_type": "display_data"
        },
        {
          "name": "stdout",
          "output_type": "stream",
          "text": [
            "{'eval_loss': 0.003195340745151043, 'eval_runtime': 1.3313, 'eval_samples_per_second': 52.58, 'eval_steps_per_second': 6.76, 'epoch': 25.0}\n",
            "{'loss': 0.029, 'learning_rate': 1.676595744680851e-05, 'epoch': 25.32}\n"
          ]
        },
        {
          "data": {
            "application/vnd.jupyter.widget-view+json": {
              "model_id": "46d6c67a1de14e288dcc33b23ef6a3f6",
              "version_major": 2,
              "version_minor": 0
            },
            "text/plain": [
              "  0%|          | 0/9 [00:00<?, ?it/s]"
            ]
          },
          "metadata": {},
          "output_type": "display_data"
        },
        {
          "name": "stdout",
          "output_type": "stream",
          "text": [
            "{'eval_loss': 0.10899050533771515, 'eval_runtime': 1.3182, 'eval_samples_per_second': 53.104, 'eval_steps_per_second': 6.828, 'epoch': 26.0}\n",
            "{'loss': 0.0205, 'learning_rate': 1.6595744680851064e-05, 'epoch': 26.58}\n"
          ]
        },
        {
          "data": {
            "application/vnd.jupyter.widget-view+json": {
              "model_id": "04ebd283a74c4acdb7f38e8722b7ab2f",
              "version_major": 2,
              "version_minor": 0
            },
            "text/plain": [
              "  0%|          | 0/9 [00:00<?, ?it/s]"
            ]
          },
          "metadata": {},
          "output_type": "display_data"
        },
        {
          "name": "stdout",
          "output_type": "stream",
          "text": [
            "{'eval_loss': 0.01085022184997797, 'eval_runtime': 1.3226, 'eval_samples_per_second': 52.926, 'eval_steps_per_second': 6.805, 'epoch': 27.0}\n",
            "{'loss': 0.0327, 'learning_rate': 1.6425531914893617e-05, 'epoch': 27.85}\n"
          ]
        },
        {
          "data": {
            "application/vnd.jupyter.widget-view+json": {
              "model_id": "fc67e23f21894e0cae53090b7f9263ce",
              "version_major": 2,
              "version_minor": 0
            },
            "text/plain": [
              "  0%|          | 0/9 [00:00<?, ?it/s]"
            ]
          },
          "metadata": {},
          "output_type": "display_data"
        },
        {
          "name": "stdout",
          "output_type": "stream",
          "text": [
            "{'eval_loss': 0.02530031092464924, 'eval_runtime': 1.334, 'eval_samples_per_second': 52.474, 'eval_steps_per_second': 6.747, 'epoch': 28.0}\n"
          ]
        },
        {
          "data": {
            "application/vnd.jupyter.widget-view+json": {
              "model_id": "b2afe6160ade41c386dd780e2f0a6e4f",
              "version_major": 2,
              "version_minor": 0
            },
            "text/plain": [
              "  0%|          | 0/9 [00:00<?, ?it/s]"
            ]
          },
          "metadata": {},
          "output_type": "display_data"
        },
        {
          "name": "stdout",
          "output_type": "stream",
          "text": [
            "{'eval_loss': 0.03386286273598671, 'eval_runtime': 1.3227, 'eval_samples_per_second': 52.923, 'eval_steps_per_second': 6.804, 'epoch': 29.0}\n",
            "{'loss': 0.0157, 'learning_rate': 1.625531914893617e-05, 'epoch': 29.11}\n"
          ]
        },
        {
          "data": {
            "application/vnd.jupyter.widget-view+json": {
              "model_id": "1303b72d79c348cf8252a4d9b52475d6",
              "version_major": 2,
              "version_minor": 0
            },
            "text/plain": [
              "  0%|          | 0/9 [00:00<?, ?it/s]"
            ]
          },
          "metadata": {},
          "output_type": "display_data"
        },
        {
          "name": "stdout",
          "output_type": "stream",
          "text": [
            "{'eval_loss': 0.054205358028411865, 'eval_runtime': 1.3283, 'eval_samples_per_second': 52.7, 'eval_steps_per_second': 6.776, 'epoch': 30.0}\n",
            "{'loss': 0.0179, 'learning_rate': 1.6085106382978726e-05, 'epoch': 30.38}\n"
          ]
        },
        {
          "data": {
            "application/vnd.jupyter.widget-view+json": {
              "model_id": "d67a783bebb144a5a0b6c0c06cb12df5",
              "version_major": 2,
              "version_minor": 0
            },
            "text/plain": [
              "  0%|          | 0/9 [00:00<?, ?it/s]"
            ]
          },
          "metadata": {},
          "output_type": "display_data"
        },
        {
          "name": "stdout",
          "output_type": "stream",
          "text": [
            "{'eval_loss': 0.04587416723370552, 'eval_runtime': 1.3145, 'eval_samples_per_second': 53.253, 'eval_steps_per_second': 6.847, 'epoch': 31.0}\n",
            "{'loss': 0.0156, 'learning_rate': 1.591489361702128e-05, 'epoch': 31.65}\n"
          ]
        },
        {
          "data": {
            "application/vnd.jupyter.widget-view+json": {
              "model_id": "aac21e3025ff431dbddaf3f238b56866",
              "version_major": 2,
              "version_minor": 0
            },
            "text/plain": [
              "  0%|          | 0/9 [00:00<?, ?it/s]"
            ]
          },
          "metadata": {},
          "output_type": "display_data"
        },
        {
          "name": "stdout",
          "output_type": "stream",
          "text": [
            "{'eval_loss': 0.04927567020058632, 'eval_runtime': 1.354, 'eval_samples_per_second': 51.697, 'eval_steps_per_second': 6.647, 'epoch': 32.0}\n",
            "{'loss': 0.013, 'learning_rate': 1.5744680851063832e-05, 'epoch': 32.91}\n"
          ]
        },
        {
          "data": {
            "application/vnd.jupyter.widget-view+json": {
              "model_id": "9ebf57468c2d4f3d84025d40c8c40548",
              "version_major": 2,
              "version_minor": 0
            },
            "text/plain": [
              "  0%|          | 0/9 [00:00<?, ?it/s]"
            ]
          },
          "metadata": {},
          "output_type": "display_data"
        },
        {
          "name": "stdout",
          "output_type": "stream",
          "text": [
            "{'eval_loss': 7.427171112794895e-06, 'eval_runtime': 1.3208, 'eval_samples_per_second': 52.998, 'eval_steps_per_second': 6.814, 'epoch': 33.0}\n"
          ]
        },
        {
          "data": {
            "application/vnd.jupyter.widget-view+json": {
              "model_id": "5d90c16495864c6b88a67846bc584839",
              "version_major": 2,
              "version_minor": 0
            },
            "text/plain": [
              "  0%|          | 0/9 [00:00<?, ?it/s]"
            ]
          },
          "metadata": {},
          "output_type": "display_data"
        },
        {
          "name": "stdout",
          "output_type": "stream",
          "text": [
            "{'eval_loss': 0.026564503088593483, 'eval_runtime': 1.3268, 'eval_samples_per_second': 52.758, 'eval_steps_per_second': 6.783, 'epoch': 34.0}\n",
            "{'loss': 0.0137, 'learning_rate': 1.5574468085106385e-05, 'epoch': 34.18}\n"
          ]
        },
        {
          "data": {
            "application/vnd.jupyter.widget-view+json": {
              "model_id": "d8c0dabaebc740e08531390e5f743c83",
              "version_major": 2,
              "version_minor": 0
            },
            "text/plain": [
              "  0%|          | 0/9 [00:00<?, ?it/s]"
            ]
          },
          "metadata": {},
          "output_type": "display_data"
        },
        {
          "name": "stdout",
          "output_type": "stream",
          "text": [
            "{'eval_loss': 0.004302626010030508, 'eval_runtime': 1.3308, 'eval_samples_per_second': 52.599, 'eval_steps_per_second': 6.763, 'epoch': 35.0}\n",
            "{'loss': 0.0103, 'learning_rate': 1.5404255319148937e-05, 'epoch': 35.44}\n"
          ]
        },
        {
          "data": {
            "application/vnd.jupyter.widget-view+json": {
              "model_id": "226556a72fdb4c428a5b733030480365",
              "version_major": 2,
              "version_minor": 0
            },
            "text/plain": [
              "  0%|          | 0/9 [00:00<?, ?it/s]"
            ]
          },
          "metadata": {},
          "output_type": "display_data"
        },
        {
          "name": "stdout",
          "output_type": "stream",
          "text": [
            "{'eval_loss': 0.00013188217417337, 'eval_runtime': 1.3313, 'eval_samples_per_second': 52.581, 'eval_steps_per_second': 6.76, 'epoch': 36.0}\n",
            "{'loss': 0.0247, 'learning_rate': 1.523404255319149e-05, 'epoch': 36.71}\n"
          ]
        },
        {
          "data": {
            "application/vnd.jupyter.widget-view+json": {
              "model_id": "e30894bcffe149848c542d3d6b82e624",
              "version_major": 2,
              "version_minor": 0
            },
            "text/plain": [
              "  0%|          | 0/9 [00:00<?, ?it/s]"
            ]
          },
          "metadata": {},
          "output_type": "display_data"
        },
        {
          "name": "stdout",
          "output_type": "stream",
          "text": [
            "{'eval_loss': 3.7021668504166882e-06, 'eval_runtime': 1.3319, 'eval_samples_per_second': 52.558, 'eval_steps_per_second': 6.757, 'epoch': 37.0}\n",
            "{'loss': 0.0121, 'learning_rate': 1.5063829787234043e-05, 'epoch': 37.97}\n"
          ]
        },
        {
          "data": {
            "application/vnd.jupyter.widget-view+json": {
              "model_id": "d9c11783891b43d1b4c0c2633dbe443f",
              "version_major": 2,
              "version_minor": 0
            },
            "text/plain": [
              "  0%|          | 0/9 [00:00<?, ?it/s]"
            ]
          },
          "metadata": {},
          "output_type": "display_data"
        },
        {
          "name": "stdout",
          "output_type": "stream",
          "text": [
            "{'eval_loss': 0.000166982805239968, 'eval_runtime': 1.3766, 'eval_samples_per_second': 50.85, 'eval_steps_per_second': 6.538, 'epoch': 38.0}\n"
          ]
        },
        {
          "data": {
            "application/vnd.jupyter.widget-view+json": {
              "model_id": "c726713e2065498388f873fcc353670e",
              "version_major": 2,
              "version_minor": 0
            },
            "text/plain": [
              "  0%|          | 0/9 [00:00<?, ?it/s]"
            ]
          },
          "metadata": {},
          "output_type": "display_data"
        },
        {
          "name": "stdout",
          "output_type": "stream",
          "text": [
            "{'eval_loss': 0.011934910900890827, 'eval_runtime': 1.3123, 'eval_samples_per_second': 53.343, 'eval_steps_per_second': 6.858, 'epoch': 39.0}\n",
            "{'loss': 0.014, 'learning_rate': 1.4893617021276596e-05, 'epoch': 39.24}\n"
          ]
        },
        {
          "data": {
            "application/vnd.jupyter.widget-view+json": {
              "model_id": "3be875448de14451a2db2df7503a813a",
              "version_major": 2,
              "version_minor": 0
            },
            "text/plain": [
              "  0%|          | 0/9 [00:00<?, ?it/s]"
            ]
          },
          "metadata": {},
          "output_type": "display_data"
        },
        {
          "name": "stdout",
          "output_type": "stream",
          "text": [
            "{'eval_loss': 1.929118297994137e-06, 'eval_runtime': 1.3293, 'eval_samples_per_second': 52.657, 'eval_steps_per_second': 6.77, 'epoch': 40.0}\n",
            "{'loss': 0.0126, 'learning_rate': 1.4723404255319149e-05, 'epoch': 40.51}\n"
          ]
        },
        {
          "data": {
            "application/vnd.jupyter.widget-view+json": {
              "model_id": "8c8a53cbd11344878d3c447108cba08f",
              "version_major": 2,
              "version_minor": 0
            },
            "text/plain": [
              "  0%|          | 0/9 [00:00<?, ?it/s]"
            ]
          },
          "metadata": {},
          "output_type": "display_data"
        },
        {
          "name": "stdout",
          "output_type": "stream",
          "text": [
            "{'eval_loss': 0.01634996198117733, 'eval_runtime': 1.3213, 'eval_samples_per_second': 52.979, 'eval_steps_per_second': 6.812, 'epoch': 41.0}\n",
            "{'loss': 0.0115, 'learning_rate': 1.4553191489361705e-05, 'epoch': 41.77}\n"
          ]
        },
        {
          "data": {
            "application/vnd.jupyter.widget-view+json": {
              "model_id": "b73377531e22459fb275f69255a05f80",
              "version_major": 2,
              "version_minor": 0
            },
            "text/plain": [
              "  0%|          | 0/9 [00:00<?, ?it/s]"
            ]
          },
          "metadata": {},
          "output_type": "display_data"
        },
        {
          "name": "stdout",
          "output_type": "stream",
          "text": [
            "{'eval_loss': 0.001647616969421506, 'eval_runtime': 1.3357, 'eval_samples_per_second': 52.408, 'eval_steps_per_second': 6.738, 'epoch': 42.0}\n"
          ]
        },
        {
          "data": {
            "application/vnd.jupyter.widget-view+json": {
              "model_id": "717ef33b4c5344b8bb22af788a664cd7",
              "version_major": 2,
              "version_minor": 0
            },
            "text/plain": [
              "  0%|          | 0/9 [00:00<?, ?it/s]"
            ]
          },
          "metadata": {},
          "output_type": "display_data"
        },
        {
          "name": "stdout",
          "output_type": "stream",
          "text": [
            "{'eval_loss': 0.05397982522845268, 'eval_runtime': 1.3257, 'eval_samples_per_second': 52.801, 'eval_steps_per_second': 6.789, 'epoch': 43.0}\n",
            "{'loss': 0.0136, 'learning_rate': 1.4382978723404258e-05, 'epoch': 43.04}\n"
          ]
        },
        {
          "data": {
            "application/vnd.jupyter.widget-view+json": {
              "model_id": "cd7d6be1c80f4968845f4c3cc4fda41d",
              "version_major": 2,
              "version_minor": 0
            },
            "text/plain": [
              "  0%|          | 0/9 [00:00<?, ?it/s]"
            ]
          },
          "metadata": {},
          "output_type": "display_data"
        },
        {
          "name": "stdout",
          "output_type": "stream",
          "text": [
            "{'eval_loss': 0.023286500945687294, 'eval_runtime': 1.32, 'eval_samples_per_second': 53.029, 'eval_steps_per_second': 6.818, 'epoch': 44.0}\n",
            "{'loss': 0.0161, 'learning_rate': 1.421276595744681e-05, 'epoch': 44.3}\n"
          ]
        },
        {
          "data": {
            "application/vnd.jupyter.widget-view+json": {
              "model_id": "78bbaa6478e0488091bd6256b8199dec",
              "version_major": 2,
              "version_minor": 0
            },
            "text/plain": [
              "  0%|          | 0/9 [00:00<?, ?it/s]"
            ]
          },
          "metadata": {},
          "output_type": "display_data"
        },
        {
          "name": "stdout",
          "output_type": "stream",
          "text": [
            "{'eval_loss': 0.027368685230612755, 'eval_runtime': 1.3307, 'eval_samples_per_second': 52.604, 'eval_steps_per_second': 6.763, 'epoch': 45.0}\n",
            "{'loss': 0.0197, 'learning_rate': 1.4042553191489363e-05, 'epoch': 45.57}\n"
          ]
        },
        {
          "data": {
            "application/vnd.jupyter.widget-view+json": {
              "model_id": "ff758b2e2b0047608c4551fc55948b7c",
              "version_major": 2,
              "version_minor": 0
            },
            "text/plain": [
              "  0%|          | 0/9 [00:00<?, ?it/s]"
            ]
          },
          "metadata": {},
          "output_type": "display_data"
        },
        {
          "name": "stdout",
          "output_type": "stream",
          "text": [
            "{'eval_loss': 6.291528734436724e-06, 'eval_runtime': 1.3304, 'eval_samples_per_second': 52.615, 'eval_steps_per_second': 6.765, 'epoch': 46.0}\n",
            "{'loss': 0.0084, 'learning_rate': 1.3872340425531916e-05, 'epoch': 46.84}\n"
          ]
        },
        {
          "data": {
            "application/vnd.jupyter.widget-view+json": {
              "model_id": "5f0620ce611841e3b5fdd608c3607192",
              "version_major": 2,
              "version_minor": 0
            },
            "text/plain": [
              "  0%|          | 0/9 [00:00<?, ?it/s]"
            ]
          },
          "metadata": {},
          "output_type": "display_data"
        },
        {
          "name": "stdout",
          "output_type": "stream",
          "text": [
            "{'eval_loss': 0.01008768379688263, 'eval_runtime': 1.3104, 'eval_samples_per_second': 53.419, 'eval_steps_per_second': 6.868, 'epoch': 47.0}\n"
          ]
        },
        {
          "data": {
            "application/vnd.jupyter.widget-view+json": {
              "model_id": "30fde127791240c69c388af7ea2be3e4",
              "version_major": 2,
              "version_minor": 0
            },
            "text/plain": [
              "  0%|          | 0/9 [00:00<?, ?it/s]"
            ]
          },
          "metadata": {},
          "output_type": "display_data"
        },
        {
          "name": "stdout",
          "output_type": "stream",
          "text": [
            "{'eval_loss': 0.007417975924909115, 'eval_runtime': 1.3128, 'eval_samples_per_second': 53.321, 'eval_steps_per_second': 6.856, 'epoch': 48.0}\n",
            "{'loss': 0.009, 'learning_rate': 1.3702127659574469e-05, 'epoch': 48.1}\n"
          ]
        },
        {
          "data": {
            "application/vnd.jupyter.widget-view+json": {
              "model_id": "33d4199394e244b69089b0988f1ac1fd",
              "version_major": 2,
              "version_minor": 0
            },
            "text/plain": [
              "  0%|          | 0/9 [00:00<?, ?it/s]"
            ]
          },
          "metadata": {},
          "output_type": "display_data"
        },
        {
          "name": "stdout",
          "output_type": "stream",
          "text": [
            "{'eval_loss': 0.023264024406671524, 'eval_runtime': 1.3254, 'eval_samples_per_second': 52.813, 'eval_steps_per_second': 6.79, 'epoch': 49.0}\n",
            "{'loss': 0.0146, 'learning_rate': 1.3531914893617022e-05, 'epoch': 49.37}\n"
          ]
        },
        {
          "data": {
            "application/vnd.jupyter.widget-view+json": {
              "model_id": "27e434a2ec0b4af08c06f3dcb9743412",
              "version_major": 2,
              "version_minor": 0
            },
            "text/plain": [
              "  0%|          | 0/9 [00:00<?, ?it/s]"
            ]
          },
          "metadata": {},
          "output_type": "display_data"
        },
        {
          "name": "stdout",
          "output_type": "stream",
          "text": [
            "{'eval_loss': 0.0032640465069562197, 'eval_runtime': 1.3296, 'eval_samples_per_second': 52.647, 'eval_steps_per_second': 6.769, 'epoch': 50.0}\n",
            "{'loss': 0.0189, 'learning_rate': 1.3361702127659574e-05, 'epoch': 50.63}\n"
          ]
        },
        {
          "data": {
            "application/vnd.jupyter.widget-view+json": {
              "model_id": "3c6f28813cb341f3adb3479db0b0a9b3",
              "version_major": 2,
              "version_minor": 0
            },
            "text/plain": [
              "  0%|          | 0/9 [00:00<?, ?it/s]"
            ]
          },
          "metadata": {},
          "output_type": "display_data"
        },
        {
          "name": "stdout",
          "output_type": "stream",
          "text": [
            "{'eval_loss': 3.2396067126683192e-06, 'eval_runtime': 1.3398, 'eval_samples_per_second': 52.246, 'eval_steps_per_second': 6.717, 'epoch': 51.0}\n",
            "{'loss': 0.0078, 'learning_rate': 1.3191489361702127e-05, 'epoch': 51.9}\n"
          ]
        },
        {
          "data": {
            "application/vnd.jupyter.widget-view+json": {
              "model_id": "f4d4d4ec54134384bb61d835dce191c3",
              "version_major": 2,
              "version_minor": 0
            },
            "text/plain": [
              "  0%|          | 0/9 [00:00<?, ?it/s]"
            ]
          },
          "metadata": {},
          "output_type": "display_data"
        },
        {
          "name": "stdout",
          "output_type": "stream",
          "text": [
            "{'eval_loss': 0.0002845053968485445, 'eval_runtime': 1.323, 'eval_samples_per_second': 52.908, 'eval_steps_per_second': 6.802, 'epoch': 52.0}\n"
          ]
        },
        {
          "data": {
            "application/vnd.jupyter.widget-view+json": {
              "model_id": "9a5c263c738945528a44d817ca1f87fc",
              "version_major": 2,
              "version_minor": 0
            },
            "text/plain": [
              "  0%|          | 0/9 [00:00<?, ?it/s]"
            ]
          },
          "metadata": {},
          "output_type": "display_data"
        },
        {
          "name": "stdout",
          "output_type": "stream",
          "text": [
            "{'eval_loss': 0.027484958991408348, 'eval_runtime': 1.3316, 'eval_samples_per_second': 52.568, 'eval_steps_per_second': 6.759, 'epoch': 53.0}\n",
            "{'loss': 0.011, 'learning_rate': 1.3021276595744683e-05, 'epoch': 53.16}\n"
          ]
        },
        {
          "data": {
            "application/vnd.jupyter.widget-view+json": {
              "model_id": "78ab564723304ca0a16a51e680ea4517",
              "version_major": 2,
              "version_minor": 0
            },
            "text/plain": [
              "  0%|          | 0/9 [00:00<?, ?it/s]"
            ]
          },
          "metadata": {},
          "output_type": "display_data"
        },
        {
          "name": "stdout",
          "output_type": "stream",
          "text": [
            "{'eval_loss': 9.303264050686266e-06, 'eval_runtime': 1.3253, 'eval_samples_per_second': 52.818, 'eval_steps_per_second': 6.791, 'epoch': 54.0}\n",
            "{'loss': 0.0097, 'learning_rate': 1.2851063829787236e-05, 'epoch': 54.43}\n"
          ]
        },
        {
          "data": {
            "application/vnd.jupyter.widget-view+json": {
              "model_id": "89cebed9d4794f90a1bac28443374acd",
              "version_major": 2,
              "version_minor": 0
            },
            "text/plain": [
              "  0%|          | 0/9 [00:00<?, ?it/s]"
            ]
          },
          "metadata": {},
          "output_type": "display_data"
        },
        {
          "name": "stdout",
          "output_type": "stream",
          "text": [
            "{'eval_loss': 0.0011183959431946278, 'eval_runtime': 1.3254, 'eval_samples_per_second': 52.816, 'eval_steps_per_second': 6.791, 'epoch': 55.0}\n",
            "{'loss': 0.0108, 'learning_rate': 1.2680851063829789e-05, 'epoch': 55.7}\n"
          ]
        },
        {
          "data": {
            "application/vnd.jupyter.widget-view+json": {
              "model_id": "4f911fbe22624a9c9dfda270eb18a64a",
              "version_major": 2,
              "version_minor": 0
            },
            "text/plain": [
              "  0%|          | 0/9 [00:00<?, ?it/s]"
            ]
          },
          "metadata": {},
          "output_type": "display_data"
        },
        {
          "name": "stdout",
          "output_type": "stream",
          "text": [
            "{'eval_loss': 0.012685008347034454, 'eval_runtime': 1.3302, 'eval_samples_per_second': 52.624, 'eval_steps_per_second': 6.766, 'epoch': 56.0}\n",
            "{'loss': 0.0131, 'learning_rate': 1.2510638297872342e-05, 'epoch': 56.96}\n"
          ]
        },
        {
          "data": {
            "application/vnd.jupyter.widget-view+json": {
              "model_id": "137a250a289a4baebac9abd199c596f3",
              "version_major": 2,
              "version_minor": 0
            },
            "text/plain": [
              "  0%|          | 0/9 [00:00<?, ?it/s]"
            ]
          },
          "metadata": {},
          "output_type": "display_data"
        },
        {
          "name": "stdout",
          "output_type": "stream",
          "text": [
            "{'eval_loss': 0.0068496111780405045, 'eval_runtime': 1.322, 'eval_samples_per_second': 52.95, 'eval_steps_per_second': 6.808, 'epoch': 57.0}\n"
          ]
        },
        {
          "data": {
            "application/vnd.jupyter.widget-view+json": {
              "model_id": "0630d4c920854a40a360b140af128992",
              "version_major": 2,
              "version_minor": 0
            },
            "text/plain": [
              "  0%|          | 0/9 [00:00<?, ?it/s]"
            ]
          },
          "metadata": {},
          "output_type": "display_data"
        },
        {
          "name": "stdout",
          "output_type": "stream",
          "text": [
            "{'eval_loss': 2.403990765742492e-05, 'eval_runtime': 1.3158, 'eval_samples_per_second': 53.198, 'eval_steps_per_second': 6.84, 'epoch': 58.0}\n",
            "{'loss': 0.0199, 'learning_rate': 1.2340425531914895e-05, 'epoch': 58.23}\n"
          ]
        },
        {
          "data": {
            "application/vnd.jupyter.widget-view+json": {
              "model_id": "ff0a0c21e3ae4c89b595566564b5d555",
              "version_major": 2,
              "version_minor": 0
            },
            "text/plain": [
              "  0%|          | 0/9 [00:00<?, ?it/s]"
            ]
          },
          "metadata": {},
          "output_type": "display_data"
        },
        {
          "name": "stdout",
          "output_type": "stream",
          "text": [
            "{'eval_loss': 3.5078601285931654e-06, 'eval_runtime': 1.3283, 'eval_samples_per_second': 52.698, 'eval_steps_per_second': 6.775, 'epoch': 59.0}\n",
            "{'loss': 0.0144, 'learning_rate': 1.2170212765957448e-05, 'epoch': 59.49}\n"
          ]
        },
        {
          "data": {
            "application/vnd.jupyter.widget-view+json": {
              "model_id": "0a0091a9adb44791b7803dfc2a75fce4",
              "version_major": 2,
              "version_minor": 0
            },
            "text/plain": [
              "  0%|          | 0/9 [00:00<?, ?it/s]"
            ]
          },
          "metadata": {},
          "output_type": "display_data"
        },
        {
          "name": "stdout",
          "output_type": "stream",
          "text": [
            "{'eval_loss': 0.024271508678793907, 'eval_runtime': 1.3469, 'eval_samples_per_second': 51.971, 'eval_steps_per_second': 6.682, 'epoch': 60.0}\n",
            "{'loss': 0.0157, 'learning_rate': 1.2e-05, 'epoch': 60.76}\n"
          ]
        },
        {
          "data": {
            "application/vnd.jupyter.widget-view+json": {
              "model_id": "4623cdad2af047748b2762f6320a0d98",
              "version_major": 2,
              "version_minor": 0
            },
            "text/plain": [
              "  0%|          | 0/9 [00:00<?, ?it/s]"
            ]
          },
          "metadata": {},
          "output_type": "display_data"
        },
        {
          "name": "stdout",
          "output_type": "stream",
          "text": [
            "{'eval_loss': 8.309705776810006e-07, 'eval_runtime': 1.3396, 'eval_samples_per_second': 52.253, 'eval_steps_per_second': 6.718, 'epoch': 61.0}\n"
          ]
        },
        {
          "data": {
            "application/vnd.jupyter.widget-view+json": {
              "model_id": "1c5850a3d53f49e58245c0ce11f1c262",
              "version_major": 2,
              "version_minor": 0
            },
            "text/plain": [
              "  0%|          | 0/9 [00:00<?, ?it/s]"
            ]
          },
          "metadata": {},
          "output_type": "display_data"
        },
        {
          "name": "stdout",
          "output_type": "stream",
          "text": [
            "{'eval_loss': 0.035509057343006134, 'eval_runtime': 1.3327, 'eval_samples_per_second': 52.524, 'eval_steps_per_second': 6.753, 'epoch': 62.0}\n",
            "{'loss': 0.0042, 'learning_rate': 1.1829787234042553e-05, 'epoch': 62.03}\n"
          ]
        },
        {
          "data": {
            "application/vnd.jupyter.widget-view+json": {
              "model_id": "16d9aeb24ba446aa80c2940745c5dd5d",
              "version_major": 2,
              "version_minor": 0
            },
            "text/plain": [
              "  0%|          | 0/9 [00:00<?, ?it/s]"
            ]
          },
          "metadata": {},
          "output_type": "display_data"
        },
        {
          "name": "stdout",
          "output_type": "stream",
          "text": [
            "{'eval_loss': 7.083729656187643e-07, 'eval_runtime': 1.3275, 'eval_samples_per_second': 52.73, 'eval_steps_per_second': 6.78, 'epoch': 63.0}\n",
            "{'loss': 0.0014, 'learning_rate': 1.1659574468085106e-05, 'epoch': 63.29}\n"
          ]
        },
        {
          "data": {
            "application/vnd.jupyter.widget-view+json": {
              "model_id": "238d1621eb414e26bf0604f3cac9edc3",
              "version_major": 2,
              "version_minor": 0
            },
            "text/plain": [
              "  0%|          | 0/9 [00:00<?, ?it/s]"
            ]
          },
          "metadata": {},
          "output_type": "display_data"
        },
        {
          "name": "stdout",
          "output_type": "stream",
          "text": [
            "{'eval_loss': 0.03554113209247589, 'eval_runtime': 1.3214, 'eval_samples_per_second': 52.973, 'eval_steps_per_second': 6.811, 'epoch': 64.0}\n",
            "{'loss': 0.0234, 'learning_rate': 1.1489361702127662e-05, 'epoch': 64.56}\n"
          ]
        },
        {
          "data": {
            "application/vnd.jupyter.widget-view+json": {
              "model_id": "1688f0cc79ea4258878fd7cff7c1535a",
              "version_major": 2,
              "version_minor": 0
            },
            "text/plain": [
              "  0%|          | 0/9 [00:00<?, ?it/s]"
            ]
          },
          "metadata": {},
          "output_type": "display_data"
        },
        {
          "name": "stdout",
          "output_type": "stream",
          "text": [
            "{'eval_loss': 0.015472366474568844, 'eval_runtime': 1.3188, 'eval_samples_per_second': 53.08, 'eval_steps_per_second': 6.825, 'epoch': 65.0}\n",
            "{'loss': 0.0133, 'learning_rate': 1.1319148936170215e-05, 'epoch': 65.82}\n"
          ]
        },
        {
          "data": {
            "application/vnd.jupyter.widget-view+json": {
              "model_id": "b4000e82ca994a3780583d037bef57a4",
              "version_major": 2,
              "version_minor": 0
            },
            "text/plain": [
              "  0%|          | 0/9 [00:00<?, ?it/s]"
            ]
          },
          "metadata": {},
          "output_type": "display_data"
        },
        {
          "name": "stdout",
          "output_type": "stream",
          "text": [
            "{'eval_loss': 0.021416399627923965, 'eval_runtime': 1.3255, 'eval_samples_per_second': 52.812, 'eval_steps_per_second': 6.79, 'epoch': 66.0}\n"
          ]
        },
        {
          "data": {
            "application/vnd.jupyter.widget-view+json": {
              "model_id": "9481fee81eb248729657bae65329a753",
              "version_major": 2,
              "version_minor": 0
            },
            "text/plain": [
              "  0%|          | 0/9 [00:00<?, ?it/s]"
            ]
          },
          "metadata": {},
          "output_type": "display_data"
        },
        {
          "name": "stdout",
          "output_type": "stream",
          "text": [
            "{'eval_loss': 0.007455151528120041, 'eval_runtime': 1.3209, 'eval_samples_per_second': 52.993, 'eval_steps_per_second': 6.813, 'epoch': 67.0}\n",
            "{'loss': 0.0054, 'learning_rate': 1.1148936170212768e-05, 'epoch': 67.09}\n"
          ]
        },
        {
          "data": {
            "application/vnd.jupyter.widget-view+json": {
              "model_id": "c16ccf9bc03d457e8b02a4e16ed6027a",
              "version_major": 2,
              "version_minor": 0
            },
            "text/plain": [
              "  0%|          | 0/9 [00:00<?, ?it/s]"
            ]
          },
          "metadata": {},
          "output_type": "display_data"
        },
        {
          "name": "stdout",
          "output_type": "stream",
          "text": [
            "{'eval_loss': 6.051724881217524e-07, 'eval_runtime': 1.3263, 'eval_samples_per_second': 52.78, 'eval_steps_per_second': 6.786, 'epoch': 68.0}\n",
            "{'loss': 0.0138, 'learning_rate': 1.097872340425532e-05, 'epoch': 68.35}\n"
          ]
        },
        {
          "data": {
            "application/vnd.jupyter.widget-view+json": {
              "model_id": "ea729cff7cb54ad08aedfbbc0054eb52",
              "version_major": 2,
              "version_minor": 0
            },
            "text/plain": [
              "  0%|          | 0/9 [00:00<?, ?it/s]"
            ]
          },
          "metadata": {},
          "output_type": "display_data"
        },
        {
          "name": "stdout",
          "output_type": "stream",
          "text": [
            "{'eval_loss': 0.00045315054012462497, 'eval_runtime': 1.3195, 'eval_samples_per_second': 53.049, 'eval_steps_per_second': 6.821, 'epoch': 69.0}\n",
            "{'loss': 0.0089, 'learning_rate': 1.0808510638297873e-05, 'epoch': 69.62}\n"
          ]
        },
        {
          "data": {
            "application/vnd.jupyter.widget-view+json": {
              "model_id": "20da980c926f49f3b64827c5b8510689",
              "version_major": 2,
              "version_minor": 0
            },
            "text/plain": [
              "  0%|          | 0/9 [00:00<?, ?it/s]"
            ]
          },
          "metadata": {},
          "output_type": "display_data"
        },
        {
          "name": "stdout",
          "output_type": "stream",
          "text": [
            "{'eval_loss': 0.0003282603865955025, 'eval_runtime': 1.3373, 'eval_samples_per_second': 52.346, 'eval_steps_per_second': 6.73, 'epoch': 70.0}\n",
            "{'loss': 0.0009, 'learning_rate': 1.0638297872340426e-05, 'epoch': 70.89}\n"
          ]
        },
        {
          "data": {
            "application/vnd.jupyter.widget-view+json": {
              "model_id": "e04aae9ad9434951bab0ccfc45f6eaa0",
              "version_major": 2,
              "version_minor": 0
            },
            "text/plain": [
              "  0%|          | 0/9 [00:00<?, ?it/s]"
            ]
          },
          "metadata": {},
          "output_type": "display_data"
        },
        {
          "name": "stdout",
          "output_type": "stream",
          "text": [
            "{'eval_loss': 8.696822078491095e-06, 'eval_runtime': 1.3397, 'eval_samples_per_second': 52.251, 'eval_steps_per_second': 6.718, 'epoch': 71.0}\n"
          ]
        },
        {
          "data": {
            "application/vnd.jupyter.widget-view+json": {
              "model_id": "62e8e2c3d0e244128d14ac8ef0fe61c8",
              "version_major": 2,
              "version_minor": 0
            },
            "text/plain": [
              "  0%|          | 0/9 [00:00<?, ?it/s]"
            ]
          },
          "metadata": {},
          "output_type": "display_data"
        },
        {
          "name": "stdout",
          "output_type": "stream",
          "text": [
            "{'eval_loss': 7.243010259117e-06, 'eval_runtime': 1.3231, 'eval_samples_per_second': 52.905, 'eval_steps_per_second': 6.802, 'epoch': 72.0}\n",
            "{'loss': 0.0081, 'learning_rate': 1.0468085106382979e-05, 'epoch': 72.15}\n"
          ]
        },
        {
          "data": {
            "application/vnd.jupyter.widget-view+json": {
              "model_id": "19818307cf744969a9de43db3349e673",
              "version_major": 2,
              "version_minor": 0
            },
            "text/plain": [
              "  0%|          | 0/9 [00:00<?, ?it/s]"
            ]
          },
          "metadata": {},
          "output_type": "display_data"
        },
        {
          "name": "stdout",
          "output_type": "stream",
          "text": [
            "{'eval_loss': 0.009519356302917004, 'eval_runtime': 1.3228, 'eval_samples_per_second': 52.919, 'eval_steps_per_second': 6.804, 'epoch': 73.0}\n",
            "{'loss': 0.0282, 'learning_rate': 1.0297872340425532e-05, 'epoch': 73.42}\n"
          ]
        },
        {
          "data": {
            "application/vnd.jupyter.widget-view+json": {
              "model_id": "0127e56bf9a246d68ea7898616be8b8a",
              "version_major": 2,
              "version_minor": 0
            },
            "text/plain": [
              "  0%|          | 0/9 [00:00<?, ?it/s]"
            ]
          },
          "metadata": {},
          "output_type": "display_data"
        },
        {
          "name": "stdout",
          "output_type": "stream",
          "text": [
            "{'eval_loss': 0.009790594689548016, 'eval_runtime': 1.3243, 'eval_samples_per_second': 52.858, 'eval_steps_per_second': 6.796, 'epoch': 74.0}\n",
            "{'loss': 0.0062, 'learning_rate': 1.0127659574468085e-05, 'epoch': 74.68}\n"
          ]
        },
        {
          "data": {
            "application/vnd.jupyter.widget-view+json": {
              "model_id": "d729c9dee96b4069b1f1dcd281d229c2",
              "version_major": 2,
              "version_minor": 0
            },
            "text/plain": [
              "  0%|          | 0/9 [00:00<?, ?it/s]"
            ]
          },
          "metadata": {},
          "output_type": "display_data"
        },
        {
          "name": "stdout",
          "output_type": "stream",
          "text": [
            "{'eval_loss': 1.3187939657655079e-05, 'eval_runtime': 1.3339, 'eval_samples_per_second': 52.477, 'eval_steps_per_second': 6.747, 'epoch': 75.0}\n",
            "{'loss': 0.0044, 'learning_rate': 9.957446808510639e-06, 'epoch': 75.95}\n"
          ]
        },
        {
          "data": {
            "application/vnd.jupyter.widget-view+json": {
              "model_id": "f388e470523f450e98315dd0be1f6664",
              "version_major": 2,
              "version_minor": 0
            },
            "text/plain": [
              "  0%|          | 0/9 [00:00<?, ?it/s]"
            ]
          },
          "metadata": {},
          "output_type": "display_data"
        },
        {
          "name": "stdout",
          "output_type": "stream",
          "text": [
            "{'eval_loss': 0.014937964268028736, 'eval_runtime': 1.3052, 'eval_samples_per_second': 53.63, 'eval_steps_per_second': 6.895, 'epoch': 76.0}\n"
          ]
        },
        {
          "data": {
            "application/vnd.jupyter.widget-view+json": {
              "model_id": "6d2ee7bfa17449ae8c7ab87c0c856b8f",
              "version_major": 2,
              "version_minor": 0
            },
            "text/plain": [
              "  0%|          | 0/9 [00:00<?, ?it/s]"
            ]
          },
          "metadata": {},
          "output_type": "display_data"
        },
        {
          "name": "stdout",
          "output_type": "stream",
          "text": [
            "{'eval_loss': 1.005325998448825e-06, 'eval_runtime': 1.3037, 'eval_samples_per_second': 53.695, 'eval_steps_per_second': 6.904, 'epoch': 77.0}\n",
            "{'loss': 0.008, 'learning_rate': 9.787234042553192e-06, 'epoch': 77.22}\n"
          ]
        },
        {
          "data": {
            "application/vnd.jupyter.widget-view+json": {
              "model_id": "d8ff40a233c144d788c4e263deb43fa3",
              "version_major": 2,
              "version_minor": 0
            },
            "text/plain": [
              "  0%|          | 0/9 [00:00<?, ?it/s]"
            ]
          },
          "metadata": {},
          "output_type": "display_data"
        },
        {
          "name": "stdout",
          "output_type": "stream",
          "text": [
            "{'eval_loss': 0.09598194807767868, 'eval_runtime': 1.3062, 'eval_samples_per_second': 53.589, 'eval_steps_per_second': 6.89, 'epoch': 78.0}\n",
            "{'loss': 0.0067, 'learning_rate': 9.617021276595745e-06, 'epoch': 78.48}\n"
          ]
        },
        {
          "data": {
            "application/vnd.jupyter.widget-view+json": {
              "model_id": "e1fe49a18631422b9f00fec0ba6be571",
              "version_major": 2,
              "version_minor": 0
            },
            "text/plain": [
              "  0%|          | 0/9 [00:00<?, ?it/s]"
            ]
          },
          "metadata": {},
          "output_type": "display_data"
        },
        {
          "name": "stdout",
          "output_type": "stream",
          "text": [
            "{'eval_loss': 0.07726605981588364, 'eval_runtime': 1.3462, 'eval_samples_per_second': 51.999, 'eval_steps_per_second': 6.686, 'epoch': 79.0}\n",
            "{'loss': 0.0119, 'learning_rate': 9.446808510638299e-06, 'epoch': 79.75}\n"
          ]
        },
        {
          "data": {
            "application/vnd.jupyter.widget-view+json": {
              "model_id": "9d38f5db943240fda27df591e0ab528e",
              "version_major": 2,
              "version_minor": 0
            },
            "text/plain": [
              "  0%|          | 0/9 [00:00<?, ?it/s]"
            ]
          },
          "metadata": {},
          "output_type": "display_data"
        },
        {
          "name": "stdout",
          "output_type": "stream",
          "text": [
            "{'eval_loss': 0.01794789358973503, 'eval_runtime': 1.34, 'eval_samples_per_second': 52.24, 'eval_steps_per_second': 6.717, 'epoch': 80.0}\n"
          ]
        },
        {
          "data": {
            "application/vnd.jupyter.widget-view+json": {
              "model_id": "528d80d405354de19f668d512d956b6f",
              "version_major": 2,
              "version_minor": 0
            },
            "text/plain": [
              "  0%|          | 0/9 [00:00<?, ?it/s]"
            ]
          },
          "metadata": {},
          "output_type": "display_data"
        },
        {
          "name": "stdout",
          "output_type": "stream",
          "text": [
            "{'eval_loss': 0.011820195242762566, 'eval_runtime': 1.3321, 'eval_samples_per_second': 52.549, 'eval_steps_per_second': 6.756, 'epoch': 81.0}\n",
            "{'loss': 0.0205, 'learning_rate': 9.276595744680852e-06, 'epoch': 81.01}\n"
          ]
        }
      ],
      "source": [
        "import torch\n",
        "import accelerate\n",
        "from transformers import AutoModelForMaskedLM, AutoTokenizer, DataCollatorForLanguageModeling\n",
        "from transformers import Trainer, TrainingArguments\n",
        "from torch.utils.data import Dataset, DataLoader\n",
        "import json\n",
        "\n",
        "# Define the dataset class\n",
        "import torch\n",
        "from torch.utils.data import Dataset, TensorDataset\n",
        "\n",
        "import torch\n",
        "from torch.utils.data import Dataset\n",
        "\n",
        "class NoSQLInjectionDataset(Dataset):\n",
        "    def __init__(self, dataset, tokenizer, split_ratio=0.9):\n",
        "        self.dataset = dataset\n",
        "        self.tokenizer = tokenizer\n",
        "        self.split_ratio = split_ratio\n",
        "        self.train_dataset = self.dataset[:int(len(self.dataset) * self.split_ratio)]\n",
        "        self.eval_dataset = self.dataset[int(len(self.dataset) * self.split_ratio):]\n",
        "\n",
        "    def __len__(self):\n",
        "        return len(self.train_dataset)\n",
        "\n",
        "    def __getitem__(self, idx):\n",
        "        sample = self.train_dataset[idx]\n",
        "        template = sample[\"template\"]\n",
        "        payload = sample[\"payload\"]\n",
        "\n",
        "        # Tokenize template and payload\n",
        "        tokenized_inputs = self.tokenizer.encode_plus(\n",
        "            template,\n",
        "            payload,\n",
        "            truncation=True,\n",
        "            padding=\"max_length\",\n",
        "            max_length=512,\n",
        "            return_tensors=\"pt\"\n",
        "        )\n",
        "\n",
        "        input_ids = tokenized_inputs[\"input_ids\"].squeeze()\n",
        "        attention_mask = tokenized_inputs[\"attention_mask\"].squeeze()\n",
        "\n",
        "        return {\n",
        "            \"input_ids\": input_ids,\n",
        "            \"attention_mask\": attention_mask,\n",
        "            \"labels\": input_ids\n",
        "        }\n",
        "\n",
        "    def get_eval_dataset(self):\n",
        "        eval_dataset = []\n",
        "        for sample in self.eval_dataset:\n",
        "            template = sample[\"template\"]\n",
        "            payload = sample[\"payload\"]\n",
        "\n",
        "            tokenized_inputs = self.tokenizer.encode_plus(\n",
        "                template,\n",
        "                payload,\n",
        "                truncation=True,\n",
        "                padding=\"max_length\",\n",
        "                max_length=512,\n",
        "                return_tensors=\"pt\"\n",
        "            )\n",
        "\n",
        "            input_ids = tokenized_inputs[\"input_ids\"].squeeze()\n",
        "            attention_mask = tokenized_inputs[\"attention_mask\"].squeeze()\n",
        "\n",
        "            eval_dataset.append({\n",
        "                \"input_ids\": input_ids,\n",
        "                \"attention_mask\": attention_mask,\n",
        "                \"labels\": input_ids\n",
        "            })\n",
        "\n",
        "        return eval_dataset\n",
        "\n",
        "tokenizer = AutoTokenizer.from_pretrained(\"distilroberta-base\")\n",
        "tokenizer.pad_token = tokenizer.eos_token\n",
        "data_collator = DataCollatorForLanguageModeling(tokenizer=tokenizer, mlm_probability=0.15)\n",
        "# Load the tokenizer and model\n",
        "model = AutoModelForMaskedLM.from_pretrained(\"distilroberta-base\")\n",
        "# Convert the dataset into a PyTorch Dataset\n",
        "train_dataset = NoSQLInjectionDataset(dataset, tokenizer)\n",
        "eval_dataset = train_dataset.get_eval_dataset()\n",
        "# Set up the training arguments and trainer\n",
        "training_args = TrainingArguments(\n",
        "    output_dir=\"fine-tuned-distilroberta-nosql-injection\",\n",
        "    evaluation_strategy=\"epoch\",\n",
        "    num_train_epochs=150, \n",
        "    per_device_train_batch_size=8,\n",
        "    save_steps=1000, \n",
        "    logging_steps=100, # used to adjust the frequency of logging loss values\n",
        "    logging_dir=\"./logs\",\n",
        "    overwrite_output_dir=True,\n",
        "    learning_rate=2e-5,  # Adjust as needed\n",
        "    warmup_steps=100,  # Adjust as needed\n",
        "    weight_decay=0.01,  # Adjust as needed\n",
        "    push_to_hub=True\n",
        ")\n",
        "\n",
        "device = torch.device(\"cuda\" if torch.cuda.is_available() else \"cpu\")\n",
        "model.to(device)\n",
        "\n",
        "trainer = Trainer(\n",
        "    model=model,\n",
        "    args=training_args,\n",
        "    train_dataset=train_dataset,\n",
        "    eval_dataset=eval_dataset,\n",
        "    data_collator=data_collator,\n",
        ")\n",
        "\n",
        "# Fine-tune the model\n",
        "trainer.train()\n",
        "\n",
        "# Save the fine-tuned model\n",
        "\n",
        "# Push the fine-tuned model to the Hugging Face Model Hub\n",
        "trainer.push_to_hub(\"fine-tuned-distilroberta-nosql-injection\")\n",
        "tokenizer.push_to_hub(\"fine-tuned-distilroberta-nosql-injection\")\n",
        "print(\"Fine-tuned model saved and pushed to the Hugging Face Model Hub.\")"
      ]
    },
    {
      "cell_type": "code",
      "execution_count": null,
      "metadata": {},
      "outputs": [],
      "source": [
        "import math\n",
        "\n",
        "eval_results = trainer.evaluate()\n",
        "print(f\"Perplexity: {math.exp(eval_results['eval_loss']):.2f}\")\n",
        "trainer.push_to_hub()\n",
        "tokenizer.push_to_hub()"
      ]
    },
    {
      "cell_type": "code",
      "execution_count": null,
      "metadata": {
        "id": "bB6FJ7Qwqhs3"
      },
      "outputs": [],
      "source": [
        "from transformers import pipeline\n",
        "\n",
        "mask_filler = pipeline(\"fill-mask\", \"ankush-003/fine-tuned-distilroberta-nosql-injection\")\n",
        "\n",
        "mask_filler(\"{username: <mask>, password: anksh}\", top_k=3)"
      ]
    }
  ],
  "metadata": {
    "colab": {
      "provenance": []
    },
    "kernelspec": {
      "display_name": "Python 3",
      "name": "python3"
    },
    "language_info": {
      "codemirror_mode": {
        "name": "ipython",
        "version": 3
      },
      "file_extension": ".py",
      "mimetype": "text/x-python",
      "name": "python",
      "nbconvert_exporter": "python",
      "pygments_lexer": "ipython3",
      "version": "3.10.9"
    },
    "widgets": {
      "application/vnd.jupyter.widget-state+json": {
        "024547e07c4a44babc1a5b688824bce8": {
          "model_module": "@jupyter-widgets/base",
          "model_module_version": "1.2.0",
          "model_name": "LayoutModel",
          "state": {
            "_model_module": "@jupyter-widgets/base",
            "_model_module_version": "1.2.0",
            "_model_name": "LayoutModel",
            "_view_count": null,
            "_view_module": "@jupyter-widgets/base",
            "_view_module_version": "1.2.0",
            "_view_name": "LayoutView",
            "align_content": null,
            "align_items": null,
            "align_self": null,
            "border": null,
            "bottom": null,
            "display": null,
            "flex": null,
            "flex_flow": null,
            "grid_area": null,
            "grid_auto_columns": null,
            "grid_auto_flow": null,
            "grid_auto_rows": null,
            "grid_column": null,
            "grid_gap": null,
            "grid_row": null,
            "grid_template_areas": null,
            "grid_template_columns": null,
            "grid_template_rows": null,
            "height": null,
            "justify_content": null,
            "justify_items": null,
            "left": null,
            "margin": null,
            "max_height": null,
            "max_width": null,
            "min_height": null,
            "min_width": null,
            "object_fit": null,
            "object_position": null,
            "order": null,
            "overflow": null,
            "overflow_x": null,
            "overflow_y": null,
            "padding": null,
            "right": null,
            "top": null,
            "visibility": null,
            "width": null
          }
        },
        "0365b05cd4db4690965531565e430360": {
          "model_module": "@jupyter-widgets/controls",
          "model_module_version": "1.5.0",
          "model_name": "DescriptionStyleModel",
          "state": {
            "_model_module": "@jupyter-widgets/controls",
            "_model_module_version": "1.5.0",
            "_model_name": "DescriptionStyleModel",
            "_view_count": null,
            "_view_module": "@jupyter-widgets/base",
            "_view_module_version": "1.2.0",
            "_view_name": "StyleView",
            "description_width": ""
          }
        },
        "0bbbde99f9e84ddfa7512cb2c70e3a82": {
          "model_module": "@jupyter-widgets/base",
          "model_module_version": "1.2.0",
          "model_name": "LayoutModel",
          "state": {
            "_model_module": "@jupyter-widgets/base",
            "_model_module_version": "1.2.0",
            "_model_name": "LayoutModel",
            "_view_count": null,
            "_view_module": "@jupyter-widgets/base",
            "_view_module_version": "1.2.0",
            "_view_name": "LayoutView",
            "align_content": null,
            "align_items": null,
            "align_self": null,
            "border": null,
            "bottom": null,
            "display": null,
            "flex": null,
            "flex_flow": null,
            "grid_area": null,
            "grid_auto_columns": null,
            "grid_auto_flow": null,
            "grid_auto_rows": null,
            "grid_column": null,
            "grid_gap": null,
            "grid_row": null,
            "grid_template_areas": null,
            "grid_template_columns": null,
            "grid_template_rows": null,
            "height": null,
            "justify_content": null,
            "justify_items": null,
            "left": null,
            "margin": null,
            "max_height": null,
            "max_width": null,
            "min_height": null,
            "min_width": null,
            "object_fit": null,
            "object_position": null,
            "order": null,
            "overflow": null,
            "overflow_x": null,
            "overflow_y": null,
            "padding": null,
            "right": null,
            "top": null,
            "visibility": null,
            "width": null
          }
        },
        "0c9b382bc02542058e2f4697cab3113e": {
          "model_module": "@jupyter-widgets/controls",
          "model_module_version": "1.5.0",
          "model_name": "DescriptionStyleModel",
          "state": {
            "_model_module": "@jupyter-widgets/controls",
            "_model_module_version": "1.5.0",
            "_model_name": "DescriptionStyleModel",
            "_view_count": null,
            "_view_module": "@jupyter-widgets/base",
            "_view_module_version": "1.2.0",
            "_view_name": "StyleView",
            "description_width": ""
          }
        },
        "0e906d65d7c6403d8e8111d2d0127484": {
          "model_module": "@jupyter-widgets/controls",
          "model_module_version": "1.5.0",
          "model_name": "ButtonStyleModel",
          "state": {
            "_model_module": "@jupyter-widgets/controls",
            "_model_module_version": "1.5.0",
            "_model_name": "ButtonStyleModel",
            "_view_count": null,
            "_view_module": "@jupyter-widgets/base",
            "_view_module_version": "1.2.0",
            "_view_name": "StyleView",
            "button_color": null,
            "font_weight": ""
          }
        },
        "0ebb981f94c741eca4e2b9d862e2ae9e": {
          "model_module": "@jupyter-widgets/base",
          "model_module_version": "1.2.0",
          "model_name": "LayoutModel",
          "state": {
            "_model_module": "@jupyter-widgets/base",
            "_model_module_version": "1.2.0",
            "_model_name": "LayoutModel",
            "_view_count": null,
            "_view_module": "@jupyter-widgets/base",
            "_view_module_version": "1.2.0",
            "_view_name": "LayoutView",
            "align_content": null,
            "align_items": null,
            "align_self": null,
            "border": null,
            "bottom": null,
            "display": null,
            "flex": null,
            "flex_flow": null,
            "grid_area": null,
            "grid_auto_columns": null,
            "grid_auto_flow": null,
            "grid_auto_rows": null,
            "grid_column": null,
            "grid_gap": null,
            "grid_row": null,
            "grid_template_areas": null,
            "grid_template_columns": null,
            "grid_template_rows": null,
            "height": null,
            "justify_content": null,
            "justify_items": null,
            "left": null,
            "margin": null,
            "max_height": null,
            "max_width": null,
            "min_height": null,
            "min_width": null,
            "object_fit": null,
            "object_position": null,
            "order": null,
            "overflow": null,
            "overflow_x": null,
            "overflow_y": null,
            "padding": null,
            "right": null,
            "top": null,
            "visibility": null,
            "width": null
          }
        },
        "19f5e15d98e249a899826754f034ceb7": {
          "model_module": "@jupyter-widgets/controls",
          "model_module_version": "1.5.0",
          "model_name": "DescriptionStyleModel",
          "state": {
            "_model_module": "@jupyter-widgets/controls",
            "_model_module_version": "1.5.0",
            "_model_name": "DescriptionStyleModel",
            "_view_count": null,
            "_view_module": "@jupyter-widgets/base",
            "_view_module_version": "1.2.0",
            "_view_name": "StyleView",
            "description_width": ""
          }
        },
        "1be02e79fa1d4663a72f8e9c55fa2472": {
          "model_module": "@jupyter-widgets/controls",
          "model_module_version": "1.5.0",
          "model_name": "DescriptionStyleModel",
          "state": {
            "_model_module": "@jupyter-widgets/controls",
            "_model_module_version": "1.5.0",
            "_model_name": "DescriptionStyleModel",
            "_view_count": null,
            "_view_module": "@jupyter-widgets/base",
            "_view_module_version": "1.2.0",
            "_view_name": "StyleView",
            "description_width": ""
          }
        },
        "1f5787bb824f4afca28281259a5f9709": {
          "model_module": "@jupyter-widgets/controls",
          "model_module_version": "1.5.0",
          "model_name": "LabelModel",
          "state": {
            "_dom_classes": [],
            "_model_module": "@jupyter-widgets/controls",
            "_model_module_version": "1.5.0",
            "_model_name": "LabelModel",
            "_view_count": null,
            "_view_module": "@jupyter-widgets/controls",
            "_view_module_version": "1.5.0",
            "_view_name": "LabelView",
            "description": "",
            "description_tooltip": null,
            "layout": "IPY_MODEL_a867f1ec4f18432d890f489e542d225b",
            "placeholder": "​",
            "style": "IPY_MODEL_dcb421b29db648129271f8e94eafa2ca",
            "value": "Your token has been saved in your configured git credential helpers (store)."
          }
        },
        "2773c08782a44aeb8ee2c3a0b0cd0d73": {
          "model_module": "@jupyter-widgets/controls",
          "model_module_version": "1.5.0",
          "model_name": "LabelModel",
          "state": {
            "_dom_classes": [],
            "_model_module": "@jupyter-widgets/controls",
            "_model_module_version": "1.5.0",
            "_model_name": "LabelModel",
            "_view_count": null,
            "_view_module": "@jupyter-widgets/controls",
            "_view_module_version": "1.5.0",
            "_view_name": "LabelView",
            "description": "",
            "description_tooltip": null,
            "layout": "IPY_MODEL_7d2b67838e164b90b062d4cffbb88346",
            "placeholder": "​",
            "style": "IPY_MODEL_e0c9a2dfd8d64d88bb4432d5357b9ebe",
            "value": "Login successful"
          }
        },
        "373e03a6dd8d4fb7814b9a794aaf79a8": {
          "model_module": "@jupyter-widgets/base",
          "model_module_version": "1.2.0",
          "model_name": "LayoutModel",
          "state": {
            "_model_module": "@jupyter-widgets/base",
            "_model_module_version": "1.2.0",
            "_model_name": "LayoutModel",
            "_view_count": null,
            "_view_module": "@jupyter-widgets/base",
            "_view_module_version": "1.2.0",
            "_view_name": "LayoutView",
            "align_content": null,
            "align_items": null,
            "align_self": null,
            "border": null,
            "bottom": null,
            "display": null,
            "flex": null,
            "flex_flow": null,
            "grid_area": null,
            "grid_auto_columns": null,
            "grid_auto_flow": null,
            "grid_auto_rows": null,
            "grid_column": null,
            "grid_gap": null,
            "grid_row": null,
            "grid_template_areas": null,
            "grid_template_columns": null,
            "grid_template_rows": null,
            "height": null,
            "justify_content": null,
            "justify_items": null,
            "left": null,
            "margin": null,
            "max_height": null,
            "max_width": null,
            "min_height": null,
            "min_width": null,
            "object_fit": null,
            "object_position": null,
            "order": null,
            "overflow": null,
            "overflow_x": null,
            "overflow_y": null,
            "padding": null,
            "right": null,
            "top": null,
            "visibility": null,
            "width": null
          }
        },
        "514f21d6f48d4f8c8b336c559e5fa614": {
          "model_module": "@jupyter-widgets/base",
          "model_module_version": "1.2.0",
          "model_name": "LayoutModel",
          "state": {
            "_model_module": "@jupyter-widgets/base",
            "_model_module_version": "1.2.0",
            "_model_name": "LayoutModel",
            "_view_count": null,
            "_view_module": "@jupyter-widgets/base",
            "_view_module_version": "1.2.0",
            "_view_name": "LayoutView",
            "align_content": null,
            "align_items": null,
            "align_self": null,
            "border": null,
            "bottom": null,
            "display": null,
            "flex": null,
            "flex_flow": null,
            "grid_area": null,
            "grid_auto_columns": null,
            "grid_auto_flow": null,
            "grid_auto_rows": null,
            "grid_column": null,
            "grid_gap": null,
            "grid_row": null,
            "grid_template_areas": null,
            "grid_template_columns": null,
            "grid_template_rows": null,
            "height": null,
            "justify_content": null,
            "justify_items": null,
            "left": null,
            "margin": null,
            "max_height": null,
            "max_width": null,
            "min_height": null,
            "min_width": null,
            "object_fit": null,
            "object_position": null,
            "order": null,
            "overflow": null,
            "overflow_x": null,
            "overflow_y": null,
            "padding": null,
            "right": null,
            "top": null,
            "visibility": null,
            "width": null
          }
        },
        "5617344a46e54802902249a465f882d1": {
          "model_module": "@jupyter-widgets/controls",
          "model_module_version": "1.5.0",
          "model_name": "DescriptionStyleModel",
          "state": {
            "_model_module": "@jupyter-widgets/controls",
            "_model_module_version": "1.5.0",
            "_model_name": "DescriptionStyleModel",
            "_view_count": null,
            "_view_module": "@jupyter-widgets/base",
            "_view_module_version": "1.2.0",
            "_view_name": "StyleView",
            "description_width": ""
          }
        },
        "57e94991aff34481bcaa26d7adde667d": {
          "model_module": "@jupyter-widgets/base",
          "model_module_version": "1.2.0",
          "model_name": "LayoutModel",
          "state": {
            "_model_module": "@jupyter-widgets/base",
            "_model_module_version": "1.2.0",
            "_model_name": "LayoutModel",
            "_view_count": null,
            "_view_module": "@jupyter-widgets/base",
            "_view_module_version": "1.2.0",
            "_view_name": "LayoutView",
            "align_content": null,
            "align_items": "center",
            "align_self": null,
            "border": null,
            "bottom": null,
            "display": "flex",
            "flex": null,
            "flex_flow": "column",
            "grid_area": null,
            "grid_auto_columns": null,
            "grid_auto_flow": null,
            "grid_auto_rows": null,
            "grid_column": null,
            "grid_gap": null,
            "grid_row": null,
            "grid_template_areas": null,
            "grid_template_columns": null,
            "grid_template_rows": null,
            "height": null,
            "justify_content": null,
            "justify_items": null,
            "left": null,
            "margin": null,
            "max_height": null,
            "max_width": null,
            "min_height": null,
            "min_width": null,
            "object_fit": null,
            "object_position": null,
            "order": null,
            "overflow": null,
            "overflow_x": null,
            "overflow_y": null,
            "padding": null,
            "right": null,
            "top": null,
            "visibility": null,
            "width": "50%"
          }
        },
        "5c4e887134084fc09b4cd95f414fea25": {
          "model_module": "@jupyter-widgets/controls",
          "model_module_version": "1.5.0",
          "model_name": "VBoxModel",
          "state": {
            "_dom_classes": [],
            "_model_module": "@jupyter-widgets/controls",
            "_model_module_version": "1.5.0",
            "_model_name": "VBoxModel",
            "_view_count": null,
            "_view_module": "@jupyter-widgets/controls",
            "_view_module_version": "1.5.0",
            "_view_name": "VBoxView",
            "box_style": "",
            "children": [
              "IPY_MODEL_5fd597cae83f4332aa1820a038bafe41",
              "IPY_MODEL_1f5787bb824f4afca28281259a5f9709",
              "IPY_MODEL_892311fbaa614e97ad38d9061cd4c604",
              "IPY_MODEL_2773c08782a44aeb8ee2c3a0b0cd0d73"
            ],
            "layout": "IPY_MODEL_57e94991aff34481bcaa26d7adde667d"
          }
        },
        "5fd597cae83f4332aa1820a038bafe41": {
          "model_module": "@jupyter-widgets/controls",
          "model_module_version": "1.5.0",
          "model_name": "LabelModel",
          "state": {
            "_dom_classes": [],
            "_model_module": "@jupyter-widgets/controls",
            "_model_module_version": "1.5.0",
            "_model_name": "LabelModel",
            "_view_count": null,
            "_view_module": "@jupyter-widgets/controls",
            "_view_module_version": "1.5.0",
            "_view_name": "LabelView",
            "description": "",
            "description_tooltip": null,
            "layout": "IPY_MODEL_514f21d6f48d4f8c8b336c559e5fa614",
            "placeholder": "​",
            "style": "IPY_MODEL_0365b05cd4db4690965531565e430360",
            "value": "Token is valid (permission: write)."
          }
        },
        "6209242d1f174d9b943aebabd3de0736": {
          "model_module": "@jupyter-widgets/controls",
          "model_module_version": "1.5.0",
          "model_name": "DescriptionStyleModel",
          "state": {
            "_model_module": "@jupyter-widgets/controls",
            "_model_module_version": "1.5.0",
            "_model_name": "DescriptionStyleModel",
            "_view_count": null,
            "_view_module": "@jupyter-widgets/base",
            "_view_module_version": "1.2.0",
            "_view_name": "StyleView",
            "description_width": ""
          }
        },
        "7079cb6aca34426ab80d393448e8b183": {
          "model_module": "@jupyter-widgets/controls",
          "model_module_version": "1.5.0",
          "model_name": "DescriptionStyleModel",
          "state": {
            "_model_module": "@jupyter-widgets/controls",
            "_model_module_version": "1.5.0",
            "_model_name": "DescriptionStyleModel",
            "_view_count": null,
            "_view_module": "@jupyter-widgets/base",
            "_view_module_version": "1.2.0",
            "_view_name": "StyleView",
            "description_width": ""
          }
        },
        "7b92a0a9051f48969aa8295a192c270c": {
          "model_module": "@jupyter-widgets/controls",
          "model_module_version": "1.5.0",
          "model_name": "ButtonModel",
          "state": {
            "_dom_classes": [],
            "_model_module": "@jupyter-widgets/controls",
            "_model_module_version": "1.5.0",
            "_model_name": "ButtonModel",
            "_view_count": null,
            "_view_module": "@jupyter-widgets/controls",
            "_view_module_version": "1.5.0",
            "_view_name": "ButtonView",
            "button_style": "",
            "description": "Login",
            "disabled": false,
            "icon": "",
            "layout": "IPY_MODEL_94941b5c8c0a40bea3b417cef6868eae",
            "style": "IPY_MODEL_0e906d65d7c6403d8e8111d2d0127484",
            "tooltip": ""
          }
        },
        "7d2b67838e164b90b062d4cffbb88346": {
          "model_module": "@jupyter-widgets/base",
          "model_module_version": "1.2.0",
          "model_name": "LayoutModel",
          "state": {
            "_model_module": "@jupyter-widgets/base",
            "_model_module_version": "1.2.0",
            "_model_name": "LayoutModel",
            "_view_count": null,
            "_view_module": "@jupyter-widgets/base",
            "_view_module_version": "1.2.0",
            "_view_name": "LayoutView",
            "align_content": null,
            "align_items": null,
            "align_self": null,
            "border": null,
            "bottom": null,
            "display": null,
            "flex": null,
            "flex_flow": null,
            "grid_area": null,
            "grid_auto_columns": null,
            "grid_auto_flow": null,
            "grid_auto_rows": null,
            "grid_column": null,
            "grid_gap": null,
            "grid_row": null,
            "grid_template_areas": null,
            "grid_template_columns": null,
            "grid_template_rows": null,
            "height": null,
            "justify_content": null,
            "justify_items": null,
            "left": null,
            "margin": null,
            "max_height": null,
            "max_width": null,
            "min_height": null,
            "min_width": null,
            "object_fit": null,
            "object_position": null,
            "order": null,
            "overflow": null,
            "overflow_x": null,
            "overflow_y": null,
            "padding": null,
            "right": null,
            "top": null,
            "visibility": null,
            "width": null
          }
        },
        "7e0172357b3747b0ab569c618e70d5ae": {
          "model_module": "@jupyter-widgets/controls",
          "model_module_version": "1.5.0",
          "model_name": "CheckboxModel",
          "state": {
            "_dom_classes": [],
            "_model_module": "@jupyter-widgets/controls",
            "_model_module_version": "1.5.0",
            "_model_name": "CheckboxModel",
            "_view_count": null,
            "_view_module": "@jupyter-widgets/controls",
            "_view_module_version": "1.5.0",
            "_view_name": "CheckboxView",
            "description": "Add token as git credential?",
            "description_tooltip": null,
            "disabled": false,
            "indent": true,
            "layout": "IPY_MODEL_024547e07c4a44babc1a5b688824bce8",
            "style": "IPY_MODEL_5617344a46e54802902249a465f882d1",
            "value": true
          }
        },
        "892311fbaa614e97ad38d9061cd4c604": {
          "model_module": "@jupyter-widgets/controls",
          "model_module_version": "1.5.0",
          "model_name": "LabelModel",
          "state": {
            "_dom_classes": [],
            "_model_module": "@jupyter-widgets/controls",
            "_model_module_version": "1.5.0",
            "_model_name": "LabelModel",
            "_view_count": null,
            "_view_module": "@jupyter-widgets/controls",
            "_view_module_version": "1.5.0",
            "_view_name": "LabelView",
            "description": "",
            "description_tooltip": null,
            "layout": "IPY_MODEL_0bbbde99f9e84ddfa7512cb2c70e3a82",
            "placeholder": "​",
            "style": "IPY_MODEL_7079cb6aca34426ab80d393448e8b183",
            "value": "Your token has been saved to /root/.cache/huggingface/token"
          }
        },
        "9287d0b98f834e198ac28be1f7ed5f32": {
          "model_module": "@jupyter-widgets/controls",
          "model_module_version": "1.5.0",
          "model_name": "LabelModel",
          "state": {
            "_dom_classes": [],
            "_model_module": "@jupyter-widgets/controls",
            "_model_module_version": "1.5.0",
            "_model_name": "LabelModel",
            "_view_count": null,
            "_view_module": "@jupyter-widgets/controls",
            "_view_module_version": "1.5.0",
            "_view_name": "LabelView",
            "description": "",
            "description_tooltip": null,
            "layout": "IPY_MODEL_e2bc85b91b2b4b4eb0d97507ba6f61f7",
            "placeholder": "​",
            "style": "IPY_MODEL_1be02e79fa1d4663a72f8e9c55fa2472",
            "value": "Connecting..."
          }
        },
        "94941b5c8c0a40bea3b417cef6868eae": {
          "model_module": "@jupyter-widgets/base",
          "model_module_version": "1.2.0",
          "model_name": "LayoutModel",
          "state": {
            "_model_module": "@jupyter-widgets/base",
            "_model_module_version": "1.2.0",
            "_model_name": "LayoutModel",
            "_view_count": null,
            "_view_module": "@jupyter-widgets/base",
            "_view_module_version": "1.2.0",
            "_view_name": "LayoutView",
            "align_content": null,
            "align_items": null,
            "align_self": null,
            "border": null,
            "bottom": null,
            "display": null,
            "flex": null,
            "flex_flow": null,
            "grid_area": null,
            "grid_auto_columns": null,
            "grid_auto_flow": null,
            "grid_auto_rows": null,
            "grid_column": null,
            "grid_gap": null,
            "grid_row": null,
            "grid_template_areas": null,
            "grid_template_columns": null,
            "grid_template_rows": null,
            "height": null,
            "justify_content": null,
            "justify_items": null,
            "left": null,
            "margin": null,
            "max_height": null,
            "max_width": null,
            "min_height": null,
            "min_width": null,
            "object_fit": null,
            "object_position": null,
            "order": null,
            "overflow": null,
            "overflow_x": null,
            "overflow_y": null,
            "padding": null,
            "right": null,
            "top": null,
            "visibility": null,
            "width": null
          }
        },
        "a867f1ec4f18432d890f489e542d225b": {
          "model_module": "@jupyter-widgets/base",
          "model_module_version": "1.2.0",
          "model_name": "LayoutModel",
          "state": {
            "_model_module": "@jupyter-widgets/base",
            "_model_module_version": "1.2.0",
            "_model_name": "LayoutModel",
            "_view_count": null,
            "_view_module": "@jupyter-widgets/base",
            "_view_module_version": "1.2.0",
            "_view_name": "LayoutView",
            "align_content": null,
            "align_items": null,
            "align_self": null,
            "border": null,
            "bottom": null,
            "display": null,
            "flex": null,
            "flex_flow": null,
            "grid_area": null,
            "grid_auto_columns": null,
            "grid_auto_flow": null,
            "grid_auto_rows": null,
            "grid_column": null,
            "grid_gap": null,
            "grid_row": null,
            "grid_template_areas": null,
            "grid_template_columns": null,
            "grid_template_rows": null,
            "height": null,
            "justify_content": null,
            "justify_items": null,
            "left": null,
            "margin": null,
            "max_height": null,
            "max_width": null,
            "min_height": null,
            "min_width": null,
            "object_fit": null,
            "object_position": null,
            "order": null,
            "overflow": null,
            "overflow_x": null,
            "overflow_y": null,
            "padding": null,
            "right": null,
            "top": null,
            "visibility": null,
            "width": null
          }
        },
        "cd521b7617564dbd894fa14186f5e4b7": {
          "model_module": "@jupyter-widgets/controls",
          "model_module_version": "1.5.0",
          "model_name": "HTMLModel",
          "state": {
            "_dom_classes": [],
            "_model_module": "@jupyter-widgets/controls",
            "_model_module_version": "1.5.0",
            "_model_name": "HTMLModel",
            "_view_count": null,
            "_view_module": "@jupyter-widgets/controls",
            "_view_module_version": "1.5.0",
            "_view_name": "HTMLView",
            "description": "",
            "description_tooltip": null,
            "layout": "IPY_MODEL_373e03a6dd8d4fb7814b9a794aaf79a8",
            "placeholder": "​",
            "style": "IPY_MODEL_0c9b382bc02542058e2f4697cab3113e",
            "value": "<center> <img\nsrc=https://huggingface.co/front/assets/huggingface_logo-noborder.svg\nalt='Hugging Face'> <br> Copy a token from <a\nhref=\"https://huggingface.co/settings/tokens\" target=\"_blank\">your Hugging Face\ntokens page</a> and paste it below. <br> Immediately click login after copying\nyour token or it might be stored in plain text in this notebook file. </center>"
          }
        },
        "d9f442a6e3cf4ca580e0ffdc5284f0d3": {
          "model_module": "@jupyter-widgets/controls",
          "model_module_version": "1.5.0",
          "model_name": "PasswordModel",
          "state": {
            "_dom_classes": [],
            "_model_module": "@jupyter-widgets/controls",
            "_model_module_version": "1.5.0",
            "_model_name": "PasswordModel",
            "_view_count": null,
            "_view_module": "@jupyter-widgets/controls",
            "_view_module_version": "1.5.0",
            "_view_name": "PasswordView",
            "continuous_update": true,
            "description": "Token:",
            "description_tooltip": null,
            "disabled": false,
            "layout": "IPY_MODEL_eba5746697c942eca5555f38d06546e6",
            "placeholder": "​",
            "style": "IPY_MODEL_6209242d1f174d9b943aebabd3de0736",
            "value": ""
          }
        },
        "dcb421b29db648129271f8e94eafa2ca": {
          "model_module": "@jupyter-widgets/controls",
          "model_module_version": "1.5.0",
          "model_name": "DescriptionStyleModel",
          "state": {
            "_model_module": "@jupyter-widgets/controls",
            "_model_module_version": "1.5.0",
            "_model_name": "DescriptionStyleModel",
            "_view_count": null,
            "_view_module": "@jupyter-widgets/base",
            "_view_module_version": "1.2.0",
            "_view_name": "StyleView",
            "description_width": ""
          }
        },
        "e0c9a2dfd8d64d88bb4432d5357b9ebe": {
          "model_module": "@jupyter-widgets/controls",
          "model_module_version": "1.5.0",
          "model_name": "DescriptionStyleModel",
          "state": {
            "_model_module": "@jupyter-widgets/controls",
            "_model_module_version": "1.5.0",
            "_model_name": "DescriptionStyleModel",
            "_view_count": null,
            "_view_module": "@jupyter-widgets/base",
            "_view_module_version": "1.2.0",
            "_view_name": "StyleView",
            "description_width": ""
          }
        },
        "e2bc85b91b2b4b4eb0d97507ba6f61f7": {
          "model_module": "@jupyter-widgets/base",
          "model_module_version": "1.2.0",
          "model_name": "LayoutModel",
          "state": {
            "_model_module": "@jupyter-widgets/base",
            "_model_module_version": "1.2.0",
            "_model_name": "LayoutModel",
            "_view_count": null,
            "_view_module": "@jupyter-widgets/base",
            "_view_module_version": "1.2.0",
            "_view_name": "LayoutView",
            "align_content": null,
            "align_items": null,
            "align_self": null,
            "border": null,
            "bottom": null,
            "display": null,
            "flex": null,
            "flex_flow": null,
            "grid_area": null,
            "grid_auto_columns": null,
            "grid_auto_flow": null,
            "grid_auto_rows": null,
            "grid_column": null,
            "grid_gap": null,
            "grid_row": null,
            "grid_template_areas": null,
            "grid_template_columns": null,
            "grid_template_rows": null,
            "height": null,
            "justify_content": null,
            "justify_items": null,
            "left": null,
            "margin": null,
            "max_height": null,
            "max_width": null,
            "min_height": null,
            "min_width": null,
            "object_fit": null,
            "object_position": null,
            "order": null,
            "overflow": null,
            "overflow_x": null,
            "overflow_y": null,
            "padding": null,
            "right": null,
            "top": null,
            "visibility": null,
            "width": null
          }
        },
        "eba5746697c942eca5555f38d06546e6": {
          "model_module": "@jupyter-widgets/base",
          "model_module_version": "1.2.0",
          "model_name": "LayoutModel",
          "state": {
            "_model_module": "@jupyter-widgets/base",
            "_model_module_version": "1.2.0",
            "_model_name": "LayoutModel",
            "_view_count": null,
            "_view_module": "@jupyter-widgets/base",
            "_view_module_version": "1.2.0",
            "_view_name": "LayoutView",
            "align_content": null,
            "align_items": null,
            "align_self": null,
            "border": null,
            "bottom": null,
            "display": null,
            "flex": null,
            "flex_flow": null,
            "grid_area": null,
            "grid_auto_columns": null,
            "grid_auto_flow": null,
            "grid_auto_rows": null,
            "grid_column": null,
            "grid_gap": null,
            "grid_row": null,
            "grid_template_areas": null,
            "grid_template_columns": null,
            "grid_template_rows": null,
            "height": null,
            "justify_content": null,
            "justify_items": null,
            "left": null,
            "margin": null,
            "max_height": null,
            "max_width": null,
            "min_height": null,
            "min_width": null,
            "object_fit": null,
            "object_position": null,
            "order": null,
            "overflow": null,
            "overflow_x": null,
            "overflow_y": null,
            "padding": null,
            "right": null,
            "top": null,
            "visibility": null,
            "width": null
          }
        },
        "f223a91848aa407d9c5215c9cc5e6d6a": {
          "model_module": "@jupyter-widgets/controls",
          "model_module_version": "1.5.0",
          "model_name": "HTMLModel",
          "state": {
            "_dom_classes": [],
            "_model_module": "@jupyter-widgets/controls",
            "_model_module_version": "1.5.0",
            "_model_name": "HTMLModel",
            "_view_count": null,
            "_view_module": "@jupyter-widgets/controls",
            "_view_module_version": "1.5.0",
            "_view_name": "HTMLView",
            "description": "",
            "description_tooltip": null,
            "layout": "IPY_MODEL_0ebb981f94c741eca4e2b9d862e2ae9e",
            "placeholder": "​",
            "style": "IPY_MODEL_19f5e15d98e249a899826754f034ceb7",
            "value": "\n<b>Pro Tip:</b> If you don't already have one, you can create a dedicated\n'notebooks' token with 'write' access, that you can then easily reuse for all\nnotebooks. </center>"
          }
        }
      }
    }
  },
  "nbformat": 4,
  "nbformat_minor": 0
}
