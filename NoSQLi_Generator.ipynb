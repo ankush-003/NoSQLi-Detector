{
  "cells": [
    {
      "cell_type": "code",
      "execution_count": null,
      "metadata": {
        "colab": {
          "base_uri": "https://localhost:8080/"
        },
        "id": "2VcudOstmVV6",
        "outputId": "6f90e6c3-8a9a-493e-8870-0db102b9378e"
      },
      "outputs": [],
      "source": [
        "!pip install -U accelerate\n",
        "!pip install -U transformers\n",
        "!pip install --upgrade huggingface_hub\n",
        "!pip install evaluate"
      ]
    },
    {
      "cell_type": "code",
      "execution_count": null,
      "metadata": {
        "colab": {
          "base_uri": "https://localhost:8080/",
          "height": 145,
          "referenced_widgets": [
            "5c4e887134084fc09b4cd95f414fea25",
            "cd521b7617564dbd894fa14186f5e4b7",
            "d9f442a6e3cf4ca580e0ffdc5284f0d3",
            "7e0172357b3747b0ab569c618e70d5ae",
            "7b92a0a9051f48969aa8295a192c270c",
            "f223a91848aa407d9c5215c9cc5e6d6a",
            "57e94991aff34481bcaa26d7adde667d",
            "373e03a6dd8d4fb7814b9a794aaf79a8",
            "0c9b382bc02542058e2f4697cab3113e",
            "eba5746697c942eca5555f38d06546e6",
            "6209242d1f174d9b943aebabd3de0736",
            "024547e07c4a44babc1a5b688824bce8",
            "5617344a46e54802902249a465f882d1",
            "94941b5c8c0a40bea3b417cef6868eae",
            "0e906d65d7c6403d8e8111d2d0127484",
            "0ebb981f94c741eca4e2b9d862e2ae9e",
            "19f5e15d98e249a899826754f034ceb7",
            "9287d0b98f834e198ac28be1f7ed5f32",
            "e2bc85b91b2b4b4eb0d97507ba6f61f7",
            "1be02e79fa1d4663a72f8e9c55fa2472",
            "5fd597cae83f4332aa1820a038bafe41",
            "1f5787bb824f4afca28281259a5f9709",
            "892311fbaa614e97ad38d9061cd4c604",
            "2773c08782a44aeb8ee2c3a0b0cd0d73",
            "514f21d6f48d4f8c8b336c559e5fa614",
            "0365b05cd4db4690965531565e430360",
            "a867f1ec4f18432d890f489e542d225b",
            "dcb421b29db648129271f8e94eafa2ca",
            "0bbbde99f9e84ddfa7512cb2c70e3a82",
            "7079cb6aca34426ab80d393448e8b183",
            "7d2b67838e164b90b062d4cffbb88346",
            "e0c9a2dfd8d64d88bb4432d5357b9ebe"
          ]
        },
        "id": "2Yrgj6FkprO9",
        "outputId": "dcb0c4f0-ba4d-47d8-8f2c-15ac3f01c9a8"
      },
      "outputs": [],
      "source": [
        "from huggingface_hub import login\n",
        "login()"
      ]
    },
    {
      "cell_type": "code",
      "execution_count": null,
      "metadata": {
        "colab": {
          "base_uri": "https://localhost:8080/",
          "height": 92
        },
        "id": "Zq4q7wLLmoct",
        "outputId": "1a6068a3-d30d-40f7-dbf8-dc8a197df5ea"
      },
      "outputs": [],
      "source": [
        "from google.colab import files\n",
        "\n",
        "uploaded = files.upload()\n",
        "fnames = []\n",
        "for fn in uploaded.keys():\n",
        "  fnames.append(fn)\n",
        "  print('User uploaded file \"{name}\" with length {length} bytes'.format(\n",
        "      name=fn, length=len(uploaded[fn])))"
      ]
    },
    {
      "cell_type": "code",
      "execution_count": null,
      "metadata": {
        "colab": {
          "base_uri": "https://localhost:8080/"
        },
        "id": "216jUTWJnOd-",
        "outputId": "923d50de-1e5c-4d70-b966-5bc20a1e35f8"
      },
      "outputs": [],
      "source": [
        "print(\"nosql_injection_dataset.json\")"
      ]
    },
    {
      "cell_type": "code",
      "execution_count": null,
      "metadata": {},
      "outputs": [],
      "source": [
        "import gc\n",
        "import torch\n",
        "torch.cuda.empty_cache()\n",
        "gc.collect()"
      ]
    },
    {
      "cell_type": "code",
      "execution_count": null,
      "metadata": {
        "colab": {
          "base_uri": "https://localhost:8080/",
          "height": 243
        },
        "id": "LYKkOU8HmfWT",
        "outputId": "dca2e25d-0294-4d9c-a8a8-afea1544c465"
      },
      "outputs": [],
      "source": [
        "import torch\n",
        "import accelerate\n",
        "from transformers import AutoModelForMaskedLM, AutoTokenizer, DataCollatorForLanguageModeling\n",
        "from transformers import Trainer, TrainingArguments\n",
        "from torch.utils.data import Dataset, DataLoader\n",
        "import json\n",
        "\n",
        "# Define the dataset class\n",
        "import torch\n",
        "from torch.utils.data import Dataset, TensorDataset\n",
        "\n",
        "import torch\n",
        "from torch.utils.data import Dataset\n",
        "\n",
        "class NoSQLInjectionDataset(Dataset):\n",
        "    def __init__(self, dataset, tokenizer, split_ratio=0.9):\n",
        "        self.dataset = dataset\n",
        "        self.tokenizer = tokenizer\n",
        "        self.split_ratio = split_ratio\n",
        "        self.train_dataset = self.dataset[:int(len(self.dataset) * self.split_ratio)]\n",
        "        self.eval_dataset = self.dataset[int(len(self.dataset) * self.split_ratio):]\n",
        "\n",
        "    def __len__(self):\n",
        "        return len(self.train_dataset)\n",
        "\n",
        "    def __getitem__(self, idx):\n",
        "        sample = self.train_dataset[idx]\n",
        "        template = sample[\"template\"]\n",
        "        payload = sample[\"payload\"]\n",
        "\n",
        "        # Tokenize template and payload\n",
        "        tokenized_inputs = self.tokenizer.encode_plus(\n",
        "            template,\n",
        "            payload,\n",
        "            truncation=True,\n",
        "            padding=\"max_length\",\n",
        "            max_length=512,\n",
        "            return_tensors=\"pt\"\n",
        "        )\n",
        "\n",
        "        input_ids = tokenized_inputs[\"input_ids\"].squeeze()\n",
        "        attention_mask = tokenized_inputs[\"attention_mask\"].squeeze()\n",
        "\n",
        "        return {\n",
        "            \"input_ids\": input_ids,\n",
        "            \"attention_mask\": attention_mask,\n",
        "            \"labels\": input_ids\n",
        "        }\n",
        "\n",
        "    def get_eval_dataset(self):\n",
        "        eval_dataset = []\n",
        "        for sample in self.eval_dataset:\n",
        "            template = sample[\"template\"]\n",
        "            payload = sample[\"payload\"]\n",
        "\n",
        "            tokenized_inputs = self.tokenizer.encode_plus(\n",
        "                template,\n",
        "                payload,\n",
        "                truncation=True,\n",
        "                padding=\"max_length\",\n",
        "                max_length=512,\n",
        "                return_tensors=\"pt\"\n",
        "            )\n",
        "\n",
        "            input_ids = tokenized_inputs[\"input_ids\"].squeeze()\n",
        "            attention_mask = tokenized_inputs[\"attention_mask\"].squeeze()\n",
        "\n",
        "            eval_dataset.append({\n",
        "                \"input_ids\": input_ids,\n",
        "                \"attention_mask\": attention_mask,\n",
        "                \"labels\": input_ids\n",
        "            })\n",
        "\n",
        "        return eval_dataset\n",
        "with open(\"nosql_injection_dataset.json\", \"r\") as f:\n",
        "    dataset = json.load(f)\n",
        "tokenizer = AutoTokenizer.from_pretrained(\"distilroberta-base\")\n",
        "tokenizer.pad_token = tokenizer.eos_token\n",
        "data_collator = DataCollatorForLanguageModeling(tokenizer=tokenizer, mlm_probability=0.15)\n",
        "# Load the tokenizer and model\n",
        "model = AutoModelForMaskedLM.from_pretrained(\"distilroberta-base\")\n",
        "# Convert the dataset into a PyTorch Dataset\n",
        "train_dataset = NoSQLInjectionDataset(dataset, tokenizer)\n",
        "eval_dataset = train_dataset.get_eval_dataset()\n",
        "# Set up the training arguments and trainer\n",
        "training_args = TrainingArguments(\n",
        "    output_dir=\"fine-tuned-distilroberta-nosql-injection\",\n",
        "    evaluation_strategy=\"epoch\",\n",
        "    num_train_epochs=75, \n",
        "    per_device_train_batch_size=8,\n",
        "    save_steps=1000, \n",
        "    logging_steps=100, # used to adjust the frequency of logging loss values\n",
        "    logging_dir=\"./logs\",\n",
        "    overwrite_output_dir=True,\n",
        "    learning_rate=2e-5,  # Adjust as needed\n",
        "    warmup_steps=100,  # Adjust as needed\n",
        "    weight_decay=0.01,  # Adjust as needed\n",
        "    push_to_hub=True\n",
        ")\n",
        "\n",
        "device = torch.device(\"cuda\" if torch.cuda.is_available() else \"cpu\")\n",
        "model.to(device)\n",
        "\n",
        "trainer = Trainer(\n",
        "    model=model,\n",
        "    args=training_args,\n",
        "    train_dataset=train_dataset,\n",
        "    eval_dataset=eval_dataset,\n",
        "    data_collator=data_collator,\n",
        ")\n",
        "\n",
        "# Fine-tune the model\n",
        "trainer.train()\n",
        "\n",
        "# Save the fine-tuned model\n",
        "\n",
        "# Push the fine-tuned model to the Hugging Face Model Hub\n",
        "trainer.push_to_hub(\"fine-tuned-distilroberta-nosql-injection\")\n",
        "tokenizer.push_to_hub(\"fine-tuned-distilroberta-nosql-injection\")\n",
        "print(\"Fine-tuned model saved and pushed to the Hugging Face Model Hub.\")"
      ]
    },
    {
      "cell_type": "code",
      "execution_count": null,
      "metadata": {},
      "outputs": [],
      "source": [
        "trainer.push_to_hub(\"fine-tuned-distilroberta-nosql-injection\")\n",
        "tokenizer.push_to_hub(\"fine-tuned-distilroberta-nosql-injection\")\n",
        "print(\"Fine-tuned model saved and pushed to the Hugging Face Model Hub.\")"
      ]
    },
    {
      "cell_type": "code",
      "execution_count": null,
      "metadata": {},
      "outputs": [],
      "source": [
        "import math\n",
        "\n",
        "eval_results = trainer.evaluate()\n",
        "print(f\"Perplexity: {math.exp(eval_results['eval_loss']):.2f}\")\n",
        "trainer.push_to_hub()\n",
        "tokenizer.push_to_hub()"
      ]
    },
    {
      "cell_type": "code",
      "execution_count": null,
      "metadata": {
        "id": "bB6FJ7Qwqhs3"
      },
      "outputs": [],
      "source": [
        "from transformers import pipeline\n",
        "\n",
        "mask_filler = pipeline(\"fill-mask\", \"ankush-003/fine-tuned-distilroberta-nosql-injection\")\n",
        "\n",
        "mask_filler(\"{username: <mask>, password: anksh}\", top_k=3)"
      ]
    },
    {
      "cell_type": "code",
      "execution_count": null,
      "metadata": {},
      "outputs": [],
      "source": [
        "!tensorboard --logdir=logs"
      ]
    },
    {
      "cell_type": "markdown",
      "metadata": {},
      "source": [
        "## Trying roberta"
      ]
    },
    {
      "cell_type": "code",
      "execution_count": 1,
      "metadata": {},
      "outputs": [
        {
          "name": "stderr",
          "output_type": "stream",
          "text": [
            "2023-07-18 19:31:39.146214: I tensorflow/core/platform/cpu_feature_guard.cc:182] This TensorFlow binary is optimized to use available CPU instructions in performance-critical operations.\n",
            "To enable the following instructions: AVX2 FMA, in other operations, rebuild TensorFlow with the appropriate compiler flags.\n",
            "2023-07-18 19:31:39.650764: W tensorflow/compiler/tf2tensorrt/utils/py_utils.cc:38] TF-TRT Warning: Could not find TensorRT\n",
            "/home/gariman/Downloads/angus/fine-tuned-roberta-nosql-injection is already a clone of https://huggingface.co/ankush-003/fine-tuned-roberta-nosql-injection. Make sure you pull the latest changes with `repo.git_pull()`.\n",
            "/home/gariman/anaconda3/lib/python3.10/site-packages/transformers/optimization.py:411: FutureWarning: This implementation of AdamW is deprecated and will be removed in a future version. Use the PyTorch implementation torch.optim.AdamW instead, or set `no_deprecation_warning=True` to disable this warning\n",
            "  warnings.warn(\n"
          ]
        },
        {
          "data": {
            "application/vnd.jupyter.widget-view+json": {
              "model_id": "5a27bc9526b94277ab7828583a79a0c6",
              "version_major": 2,
              "version_minor": 0
            },
            "text/plain": [
              "  0%|          | 0/11850 [00:00<?, ?it/s]"
            ]
          },
          "metadata": {},
          "output_type": "display_data"
        },
        {
          "name": "stderr",
          "output_type": "stream",
          "text": [
            "You're using a RobertaTokenizerFast tokenizer. Please note that with a fast tokenizer, using the `__call__` method is faster than using a method to encode the text followed by a call to the `pad` method to get a padded encoding.\n"
          ]
        },
        {
          "name": "stdout",
          "output_type": "stream",
          "text": [
            "{'loss': 1.2572, 'learning_rate': 2e-05, 'epoch': 0.63}\n"
          ]
        },
        {
          "data": {
            "application/vnd.jupyter.widget-view+json": {
              "model_id": "766ad0f8eb9f4ccb89dc61d2e365101b",
              "version_major": 2,
              "version_minor": 0
            },
            "text/plain": [
              "  0%|          | 0/9 [00:00<?, ?it/s]"
            ]
          },
          "metadata": {},
          "output_type": "display_data"
        },
        {
          "name": "stdout",
          "output_type": "stream",
          "text": [
            "{'eval_loss': 0.22349603474140167, 'eval_runtime': 2.0259, 'eval_samples_per_second': 34.553, 'eval_steps_per_second': 4.442, 'epoch': 1.0}\n",
            "{'loss': 0.3488, 'learning_rate': 1.9829787234042554e-05, 'epoch': 1.27}\n",
            "{'loss': 0.1175, 'learning_rate': 1.9659574468085107e-05, 'epoch': 1.9}\n"
          ]
        },
        {
          "data": {
            "application/vnd.jupyter.widget-view+json": {
              "model_id": "15eea2ae992947ca9b412e3cb89cabb0",
              "version_major": 2,
              "version_minor": 0
            },
            "text/plain": [
              "  0%|          | 0/9 [00:00<?, ?it/s]"
            ]
          },
          "metadata": {},
          "output_type": "display_data"
        },
        {
          "name": "stdout",
          "output_type": "stream",
          "text": [
            "{'eval_loss': 0.03252168744802475, 'eval_runtime': 2.0606, 'eval_samples_per_second': 33.971, 'eval_steps_per_second': 4.368, 'epoch': 2.0}\n",
            "{'loss': 0.0454, 'learning_rate': 1.948936170212766e-05, 'epoch': 2.53}\n"
          ]
        },
        {
          "data": {
            "application/vnd.jupyter.widget-view+json": {
              "model_id": "b510a8d7189d42d8bb3ecacbd1d74924",
              "version_major": 2,
              "version_minor": 0
            },
            "text/plain": [
              "  0%|          | 0/9 [00:00<?, ?it/s]"
            ]
          },
          "metadata": {},
          "output_type": "display_data"
        },
        {
          "name": "stdout",
          "output_type": "stream",
          "text": [
            "{'eval_loss': 0.10793640464544296, 'eval_runtime': 2.0654, 'eval_samples_per_second': 33.893, 'eval_steps_per_second': 4.358, 'epoch': 3.0}\n",
            "{'loss': 0.0492, 'learning_rate': 1.9319148936170213e-05, 'epoch': 3.16}\n",
            "{'loss': 0.05, 'learning_rate': 1.914893617021277e-05, 'epoch': 3.8}\n"
          ]
        },
        {
          "data": {
            "application/vnd.jupyter.widget-view+json": {
              "model_id": "369883e409bb492b9b68a94c9e2bad32",
              "version_major": 2,
              "version_minor": 0
            },
            "text/plain": [
              "  0%|          | 0/9 [00:00<?, ?it/s]"
            ]
          },
          "metadata": {},
          "output_type": "display_data"
        },
        {
          "name": "stdout",
          "output_type": "stream",
          "text": [
            "{'eval_loss': 0.02118230238556862, 'eval_runtime': 2.0376, 'eval_samples_per_second': 34.353, 'eval_steps_per_second': 4.417, 'epoch': 4.0}\n",
            "{'loss': 0.0677, 'learning_rate': 1.8978723404255322e-05, 'epoch': 4.43}\n"
          ]
        },
        {
          "data": {
            "application/vnd.jupyter.widget-view+json": {
              "model_id": "3da28a01d578413d853566c5908c1e0a",
              "version_major": 2,
              "version_minor": 0
            },
            "text/plain": [
              "  0%|          | 0/9 [00:00<?, ?it/s]"
            ]
          },
          "metadata": {},
          "output_type": "display_data"
        },
        {
          "name": "stdout",
          "output_type": "stream",
          "text": [
            "{'eval_loss': 0.07134803384542465, 'eval_runtime': 2.0445, 'eval_samples_per_second': 34.239, 'eval_steps_per_second': 4.402, 'epoch': 5.0}\n",
            "{'loss': 0.0496, 'learning_rate': 1.8808510638297875e-05, 'epoch': 5.06}\n",
            "{'loss': 0.0821, 'learning_rate': 1.8638297872340427e-05, 'epoch': 5.7}\n"
          ]
        },
        {
          "data": {
            "application/vnd.jupyter.widget-view+json": {
              "model_id": "1d2071e8992d47f793f3fd2dd5ca02cc",
              "version_major": 2,
              "version_minor": 0
            },
            "text/plain": [
              "  0%|          | 0/9 [00:00<?, ?it/s]"
            ]
          },
          "metadata": {},
          "output_type": "display_data"
        },
        {
          "name": "stdout",
          "output_type": "stream",
          "text": [
            "{'eval_loss': 0.0007128362194634974, 'eval_runtime': 2.0564, 'eval_samples_per_second': 34.04, 'eval_steps_per_second': 4.377, 'epoch': 6.0}\n",
            "{'loss': 0.0536, 'learning_rate': 1.846808510638298e-05, 'epoch': 6.33}\n",
            "{'loss': 0.0259, 'learning_rate': 1.8297872340425533e-05, 'epoch': 6.96}\n"
          ]
        },
        {
          "data": {
            "application/vnd.jupyter.widget-view+json": {
              "model_id": "ba405bd5948243529d8e9088b6e48d71",
              "version_major": 2,
              "version_minor": 0
            },
            "text/plain": [
              "  0%|          | 0/9 [00:00<?, ?it/s]"
            ]
          },
          "metadata": {},
          "output_type": "display_data"
        },
        {
          "name": "stdout",
          "output_type": "stream",
          "text": [
            "{'eval_loss': 0.027743149548768997, 'eval_runtime': 2.036, 'eval_samples_per_second': 34.381, 'eval_steps_per_second': 4.42, 'epoch': 7.0}\n",
            "{'loss': 0.0422, 'learning_rate': 1.8127659574468086e-05, 'epoch': 7.59}\n"
          ]
        },
        {
          "data": {
            "application/vnd.jupyter.widget-view+json": {
              "model_id": "c22c5af7e5a445899b6dfc436e2d695b",
              "version_major": 2,
              "version_minor": 0
            },
            "text/plain": [
              "  0%|          | 0/9 [00:00<?, ?it/s]"
            ]
          },
          "metadata": {},
          "output_type": "display_data"
        },
        {
          "name": "stdout",
          "output_type": "stream",
          "text": [
            "{'eval_loss': 0.006808724254369736, 'eval_runtime': 2.0425, 'eval_samples_per_second': 34.272, 'eval_steps_per_second': 4.406, 'epoch': 8.0}\n",
            "{'loss': 0.0547, 'learning_rate': 1.795744680851064e-05, 'epoch': 8.23}\n",
            "{'loss': 0.0282, 'learning_rate': 1.778723404255319e-05, 'epoch': 8.86}\n"
          ]
        },
        {
          "data": {
            "application/vnd.jupyter.widget-view+json": {
              "model_id": "b6ef49faf17e46f4ac492a88c68d6f7c",
              "version_major": 2,
              "version_minor": 0
            },
            "text/plain": [
              "  0%|          | 0/9 [00:00<?, ?it/s]"
            ]
          },
          "metadata": {},
          "output_type": "display_data"
        },
        {
          "name": "stdout",
          "output_type": "stream",
          "text": [
            "{'eval_loss': 0.049164772033691406, 'eval_runtime': 2.0402, 'eval_samples_per_second': 34.311, 'eval_steps_per_second': 4.411, 'epoch': 9.0}\n",
            "{'loss': 0.0273, 'learning_rate': 1.7617021276595748e-05, 'epoch': 9.49}\n"
          ]
        },
        {
          "data": {
            "application/vnd.jupyter.widget-view+json": {
              "model_id": "f3cbed454adb4e5a92c62e595c67e1a5",
              "version_major": 2,
              "version_minor": 0
            },
            "text/plain": [
              "  0%|          | 0/9 [00:00<?, ?it/s]"
            ]
          },
          "metadata": {},
          "output_type": "display_data"
        },
        {
          "name": "stdout",
          "output_type": "stream",
          "text": [
            "{'eval_loss': 0.0008200591546483338, 'eval_runtime': 2.0565, 'eval_samples_per_second': 34.039, 'eval_steps_per_second': 4.376, 'epoch': 10.0}\n",
            "{'loss': 0.04, 'learning_rate': 1.74468085106383e-05, 'epoch': 10.13}\n",
            "{'loss': 0.0272, 'learning_rate': 1.7276595744680853e-05, 'epoch': 10.76}\n"
          ]
        },
        {
          "data": {
            "application/vnd.jupyter.widget-view+json": {
              "model_id": "2a0144fa6f214d8d832c59000b43b0fc",
              "version_major": 2,
              "version_minor": 0
            },
            "text/plain": [
              "  0%|          | 0/9 [00:00<?, ?it/s]"
            ]
          },
          "metadata": {},
          "output_type": "display_data"
        },
        {
          "name": "stdout",
          "output_type": "stream",
          "text": [
            "{'eval_loss': 0.025606831535696983, 'eval_runtime': 2.056, 'eval_samples_per_second': 34.047, 'eval_steps_per_second': 4.378, 'epoch': 11.0}\n",
            "{'loss': 0.0859, 'learning_rate': 1.7106382978723406e-05, 'epoch': 11.39}\n"
          ]
        },
        {
          "data": {
            "application/vnd.jupyter.widget-view+json": {
              "model_id": "cd89e72e1a214c36b90ab9f204b9e48c",
              "version_major": 2,
              "version_minor": 0
            },
            "text/plain": [
              "  0%|          | 0/9 [00:00<?, ?it/s]"
            ]
          },
          "metadata": {},
          "output_type": "display_data"
        },
        {
          "name": "stdout",
          "output_type": "stream",
          "text": [
            "{'eval_loss': 2.8666681828326546e-05, 'eval_runtime': 2.0935, 'eval_samples_per_second': 33.437, 'eval_steps_per_second': 4.299, 'epoch': 12.0}\n",
            "{'loss': 0.0154, 'learning_rate': 1.693617021276596e-05, 'epoch': 12.03}\n",
            "{'loss': 0.0271, 'learning_rate': 1.676595744680851e-05, 'epoch': 12.66}\n"
          ]
        },
        {
          "data": {
            "application/vnd.jupyter.widget-view+json": {
              "model_id": "1db6220b8781421c8db1b24abea8bf34",
              "version_major": 2,
              "version_minor": 0
            },
            "text/plain": [
              "  0%|          | 0/9 [00:00<?, ?it/s]"
            ]
          },
          "metadata": {},
          "output_type": "display_data"
        },
        {
          "name": "stdout",
          "output_type": "stream",
          "text": [
            "{'eval_loss': 6.481639866251498e-05, 'eval_runtime': 2.0038, 'eval_samples_per_second': 34.934, 'eval_steps_per_second': 4.492, 'epoch': 13.0}\n",
            "{'loss': 0.0583, 'learning_rate': 1.6595744680851064e-05, 'epoch': 13.29}\n",
            "{'loss': 0.0058, 'learning_rate': 1.6425531914893617e-05, 'epoch': 13.92}\n"
          ]
        },
        {
          "data": {
            "application/vnd.jupyter.widget-view+json": {
              "model_id": "d2b4872250ae41f8baaab0dccfb74c82",
              "version_major": 2,
              "version_minor": 0
            },
            "text/plain": [
              "  0%|          | 0/9 [00:00<?, ?it/s]"
            ]
          },
          "metadata": {},
          "output_type": "display_data"
        },
        {
          "name": "stdout",
          "output_type": "stream",
          "text": [
            "{'eval_loss': 0.05833156406879425, 'eval_runtime': 2.0264, 'eval_samples_per_second': 34.544, 'eval_steps_per_second': 4.441, 'epoch': 14.0}\n",
            "{'loss': 0.0121, 'learning_rate': 1.625531914893617e-05, 'epoch': 14.56}\n"
          ]
        },
        {
          "data": {
            "application/vnd.jupyter.widget-view+json": {
              "model_id": "a72d3206221f4e3a995e2f6ea4ba369d",
              "version_major": 2,
              "version_minor": 0
            },
            "text/plain": [
              "  0%|          | 0/9 [00:00<?, ?it/s]"
            ]
          },
          "metadata": {},
          "output_type": "display_data"
        },
        {
          "name": "stdout",
          "output_type": "stream",
          "text": [
            "{'eval_loss': 0.025702187791466713, 'eval_runtime': 2.0421, 'eval_samples_per_second': 34.279, 'eval_steps_per_second': 4.407, 'epoch': 15.0}\n",
            "{'loss': 0.0802, 'learning_rate': 1.6085106382978726e-05, 'epoch': 15.19}\n",
            "{'loss': 0.0189, 'learning_rate': 1.591489361702128e-05, 'epoch': 15.82}\n"
          ]
        },
        {
          "data": {
            "application/vnd.jupyter.widget-view+json": {
              "model_id": "b9a96563346f4707aff9a987566b3c04",
              "version_major": 2,
              "version_minor": 0
            },
            "text/plain": [
              "  0%|          | 0/9 [00:00<?, ?it/s]"
            ]
          },
          "metadata": {},
          "output_type": "display_data"
        },
        {
          "name": "stdout",
          "output_type": "stream",
          "text": [
            "{'eval_loss': 0.06313808262348175, 'eval_runtime': 2.0652, 'eval_samples_per_second': 33.895, 'eval_steps_per_second': 4.358, 'epoch': 16.0}\n",
            "{'loss': 0.0275, 'learning_rate': 1.5744680851063832e-05, 'epoch': 16.46}\n"
          ]
        },
        {
          "data": {
            "application/vnd.jupyter.widget-view+json": {
              "model_id": "f1e46a509cc04086b214f193e80d6def",
              "version_major": 2,
              "version_minor": 0
            },
            "text/plain": [
              "  0%|          | 0/9 [00:00<?, ?it/s]"
            ]
          },
          "metadata": {},
          "output_type": "display_data"
        },
        {
          "name": "stdout",
          "output_type": "stream",
          "text": [
            "{'eval_loss': 0.018600421026349068, 'eval_runtime': 2.038, 'eval_samples_per_second': 34.347, 'eval_steps_per_second': 4.416, 'epoch': 17.0}\n",
            "{'loss': 0.0349, 'learning_rate': 1.5574468085106385e-05, 'epoch': 17.09}\n",
            "{'loss': 0.006, 'learning_rate': 1.5404255319148937e-05, 'epoch': 17.72}\n"
          ]
        },
        {
          "data": {
            "application/vnd.jupyter.widget-view+json": {
              "model_id": "4ba6a7d4c3e1482896f589de4772ee53",
              "version_major": 2,
              "version_minor": 0
            },
            "text/plain": [
              "  0%|          | 0/9 [00:00<?, ?it/s]"
            ]
          },
          "metadata": {},
          "output_type": "display_data"
        },
        {
          "name": "stdout",
          "output_type": "stream",
          "text": [
            "{'eval_loss': 0.0026994061190634966, 'eval_runtime': 2.0051, 'eval_samples_per_second': 34.912, 'eval_steps_per_second': 4.489, 'epoch': 18.0}\n",
            "{'loss': 0.0905, 'learning_rate': 1.523404255319149e-05, 'epoch': 18.35}\n",
            "{'loss': 0.025, 'learning_rate': 1.5063829787234043e-05, 'epoch': 18.99}\n"
          ]
        },
        {
          "data": {
            "application/vnd.jupyter.widget-view+json": {
              "model_id": "02e796f8d28e46d49829578cf8e9a427",
              "version_major": 2,
              "version_minor": 0
            },
            "text/plain": [
              "  0%|          | 0/9 [00:00<?, ?it/s]"
            ]
          },
          "metadata": {},
          "output_type": "display_data"
        },
        {
          "name": "stdout",
          "output_type": "stream",
          "text": [
            "{'eval_loss': 0.03487260639667511, 'eval_runtime': 2.0635, 'eval_samples_per_second': 33.923, 'eval_steps_per_second': 4.362, 'epoch': 19.0}\n",
            "{'loss': 0.0377, 'learning_rate': 1.4893617021276596e-05, 'epoch': 19.62}\n"
          ]
        },
        {
          "data": {
            "application/vnd.jupyter.widget-view+json": {
              "model_id": "cc6e75fd8039465ebb39f667cde4de30",
              "version_major": 2,
              "version_minor": 0
            },
            "text/plain": [
              "  0%|          | 0/9 [00:00<?, ?it/s]"
            ]
          },
          "metadata": {},
          "output_type": "display_data"
        },
        {
          "name": "stdout",
          "output_type": "stream",
          "text": [
            "{'eval_loss': 0.000436119589721784, 'eval_runtime': 2.0492, 'eval_samples_per_second': 34.159, 'eval_steps_per_second': 4.392, 'epoch': 20.0}\n",
            "{'loss': 0.029, 'learning_rate': 1.4723404255319149e-05, 'epoch': 20.25}\n",
            "{'loss': 0.0108, 'learning_rate': 1.4553191489361705e-05, 'epoch': 20.89}\n"
          ]
        },
        {
          "data": {
            "application/vnd.jupyter.widget-view+json": {
              "model_id": "619cc5f6eca042aa88102b075e7c318c",
              "version_major": 2,
              "version_minor": 0
            },
            "text/plain": [
              "  0%|          | 0/9 [00:00<?, ?it/s]"
            ]
          },
          "metadata": {},
          "output_type": "display_data"
        },
        {
          "name": "stdout",
          "output_type": "stream",
          "text": [
            "{'eval_loss': 0.009069104678928852, 'eval_runtime': 2.048, 'eval_samples_per_second': 34.179, 'eval_steps_per_second': 4.394, 'epoch': 21.0}\n",
            "{'loss': 0.0233, 'learning_rate': 1.4382978723404258e-05, 'epoch': 21.52}\n"
          ]
        },
        {
          "data": {
            "application/vnd.jupyter.widget-view+json": {
              "model_id": "cc2ddb85e7e048edbc02367ed3af58af",
              "version_major": 2,
              "version_minor": 0
            },
            "text/plain": [
              "  0%|          | 0/9 [00:00<?, ?it/s]"
            ]
          },
          "metadata": {},
          "output_type": "display_data"
        },
        {
          "name": "stdout",
          "output_type": "stream",
          "text": [
            "{'eval_loss': 0.07717707753181458, 'eval_runtime': 2.0443, 'eval_samples_per_second': 34.242, 'eval_steps_per_second': 4.403, 'epoch': 22.0}\n",
            "{'loss': 0.0225, 'learning_rate': 1.421276595744681e-05, 'epoch': 22.15}\n",
            "{'loss': 0.0216, 'learning_rate': 1.4042553191489363e-05, 'epoch': 22.78}\n"
          ]
        },
        {
          "data": {
            "application/vnd.jupyter.widget-view+json": {
              "model_id": "e47cec8b9e9e43a7a78c42cd3daeafec",
              "version_major": 2,
              "version_minor": 0
            },
            "text/plain": [
              "  0%|          | 0/9 [00:00<?, ?it/s]"
            ]
          },
          "metadata": {},
          "output_type": "display_data"
        },
        {
          "name": "stdout",
          "output_type": "stream",
          "text": [
            "{'eval_loss': 3.670170599434641e-06, 'eval_runtime': 2.0413, 'eval_samples_per_second': 34.292, 'eval_steps_per_second': 4.409, 'epoch': 23.0}\n",
            "{'loss': 0.0255, 'learning_rate': 1.3872340425531916e-05, 'epoch': 23.42}\n"
          ]
        },
        {
          "data": {
            "application/vnd.jupyter.widget-view+json": {
              "model_id": "933b124cd4f2420ebd100180cc673faf",
              "version_major": 2,
              "version_minor": 0
            },
            "text/plain": [
              "  0%|          | 0/9 [00:00<?, ?it/s]"
            ]
          },
          "metadata": {},
          "output_type": "display_data"
        },
        {
          "name": "stdout",
          "output_type": "stream",
          "text": [
            "{'eval_loss': 0.060653094202280045, 'eval_runtime': 2.0236, 'eval_samples_per_second': 34.592, 'eval_steps_per_second': 4.448, 'epoch': 24.0}\n",
            "{'loss': 0.0149, 'learning_rate': 1.3702127659574469e-05, 'epoch': 24.05}\n",
            "{'loss': 0.0211, 'learning_rate': 1.3531914893617022e-05, 'epoch': 24.68}\n"
          ]
        },
        {
          "data": {
            "application/vnd.jupyter.widget-view+json": {
              "model_id": "3066fd58f0ff47f7bf6de8553056092b",
              "version_major": 2,
              "version_minor": 0
            },
            "text/plain": [
              "  0%|          | 0/9 [00:00<?, ?it/s]"
            ]
          },
          "metadata": {},
          "output_type": "display_data"
        },
        {
          "name": "stdout",
          "output_type": "stream",
          "text": [
            "{'eval_loss': 0.025050142779946327, 'eval_runtime': 2.0558, 'eval_samples_per_second': 34.049, 'eval_steps_per_second': 4.378, 'epoch': 25.0}\n",
            "{'loss': 0.0019, 'learning_rate': 1.3361702127659574e-05, 'epoch': 25.32}\n",
            "{'loss': 0.037, 'learning_rate': 1.3191489361702127e-05, 'epoch': 25.95}\n"
          ]
        },
        {
          "data": {
            "application/vnd.jupyter.widget-view+json": {
              "model_id": "bf588cf0b0e341d3babc2d0f2a0cfcf4",
              "version_major": 2,
              "version_minor": 0
            },
            "text/plain": [
              "  0%|          | 0/9 [00:00<?, ?it/s]"
            ]
          },
          "metadata": {},
          "output_type": "display_data"
        },
        {
          "name": "stdout",
          "output_type": "stream",
          "text": [
            "{'eval_loss': 0.02225312776863575, 'eval_runtime': 2.0397, 'eval_samples_per_second': 34.319, 'eval_steps_per_second': 4.412, 'epoch': 26.0}\n",
            "{'loss': 0.0057, 'learning_rate': 1.3021276595744683e-05, 'epoch': 26.58}\n"
          ]
        },
        {
          "data": {
            "application/vnd.jupyter.widget-view+json": {
              "model_id": "85fb949ca2a94d1a9563704b46cea895",
              "version_major": 2,
              "version_minor": 0
            },
            "text/plain": [
              "  0%|          | 0/9 [00:00<?, ?it/s]"
            ]
          },
          "metadata": {},
          "output_type": "display_data"
        },
        {
          "name": "stdout",
          "output_type": "stream",
          "text": [
            "{'eval_loss': 0.037502843886613846, 'eval_runtime': 2.0442, 'eval_samples_per_second': 34.243, 'eval_steps_per_second': 4.403, 'epoch': 27.0}\n",
            "{'loss': 0.0082, 'learning_rate': 1.2851063829787236e-05, 'epoch': 27.22}\n",
            "{'loss': 0.0464, 'learning_rate': 1.2680851063829789e-05, 'epoch': 27.85}\n"
          ]
        },
        {
          "data": {
            "application/vnd.jupyter.widget-view+json": {
              "model_id": "485e7382649942be89fc7103f2c55cce",
              "version_major": 2,
              "version_minor": 0
            },
            "text/plain": [
              "  0%|          | 0/9 [00:00<?, ?it/s]"
            ]
          },
          "metadata": {},
          "output_type": "display_data"
        },
        {
          "name": "stdout",
          "output_type": "stream",
          "text": [
            "{'eval_loss': 0.06586397439241409, 'eval_runtime': 2.0705, 'eval_samples_per_second': 33.809, 'eval_steps_per_second': 4.347, 'epoch': 28.0}\n",
            "{'loss': 0.0446, 'learning_rate': 1.2510638297872342e-05, 'epoch': 28.48}\n"
          ]
        },
        {
          "data": {
            "application/vnd.jupyter.widget-view+json": {
              "model_id": "eca607f5de9b46c1b92e5138f845bcd7",
              "version_major": 2,
              "version_minor": 0
            },
            "text/plain": [
              "  0%|          | 0/9 [00:00<?, ?it/s]"
            ]
          },
          "metadata": {},
          "output_type": "display_data"
        },
        {
          "name": "stdout",
          "output_type": "stream",
          "text": [
            "{'eval_loss': 0.02349529042840004, 'eval_runtime': 2.0379, 'eval_samples_per_second': 34.35, 'eval_steps_per_second': 4.416, 'epoch': 29.0}\n",
            "{'loss': 0.0199, 'learning_rate': 1.2340425531914895e-05, 'epoch': 29.11}\n",
            "{'loss': 0.0453, 'learning_rate': 1.2170212765957448e-05, 'epoch': 29.75}\n"
          ]
        },
        {
          "data": {
            "application/vnd.jupyter.widget-view+json": {
              "model_id": "b25f21a043a740a4b060df14b35b5b09",
              "version_major": 2,
              "version_minor": 0
            },
            "text/plain": [
              "  0%|          | 0/9 [00:00<?, ?it/s]"
            ]
          },
          "metadata": {},
          "output_type": "display_data"
        },
        {
          "name": "stdout",
          "output_type": "stream",
          "text": [
            "{'eval_loss': 0.02776062674820423, 'eval_runtime': 2.0625, 'eval_samples_per_second': 33.94, 'eval_steps_per_second': 4.364, 'epoch': 30.0}\n",
            "{'loss': 0.0033, 'learning_rate': 1.2e-05, 'epoch': 30.38}\n"
          ]
        },
        {
          "data": {
            "application/vnd.jupyter.widget-view+json": {
              "model_id": "5add78e9f5c5418cbdc0c211f4efa1e9",
              "version_major": 2,
              "version_minor": 0
            },
            "text/plain": [
              "  0%|          | 0/9 [00:00<?, ?it/s]"
            ]
          },
          "metadata": {},
          "output_type": "display_data"
        },
        {
          "name": "stdout",
          "output_type": "stream",
          "text": [
            "{'eval_loss': 0.041656725108623505, 'eval_runtime': 2.0286, 'eval_samples_per_second': 34.506, 'eval_steps_per_second': 4.437, 'epoch': 31.0}\n",
            "{'loss': 0.0091, 'learning_rate': 1.1829787234042553e-05, 'epoch': 31.01}\n",
            "{'loss': 0.0104, 'learning_rate': 1.1659574468085106e-05, 'epoch': 31.65}\n"
          ]
        },
        {
          "data": {
            "application/vnd.jupyter.widget-view+json": {
              "model_id": "a19d516460b64d0f8beb7bc8b0dce5a5",
              "version_major": 2,
              "version_minor": 0
            },
            "text/plain": [
              "  0%|          | 0/9 [00:00<?, ?it/s]"
            ]
          },
          "metadata": {},
          "output_type": "display_data"
        },
        {
          "name": "stdout",
          "output_type": "stream",
          "text": [
            "{'eval_loss': 0.054390206933021545, 'eval_runtime': 2.041, 'eval_samples_per_second': 34.297, 'eval_steps_per_second': 4.41, 'epoch': 32.0}\n",
            "{'loss': 0.016, 'learning_rate': 1.1489361702127662e-05, 'epoch': 32.28}\n",
            "{'loss': 0.0084, 'learning_rate': 1.1319148936170215e-05, 'epoch': 32.91}\n"
          ]
        },
        {
          "data": {
            "application/vnd.jupyter.widget-view+json": {
              "model_id": "1be35f3bcf974146a370e07ef64fe1d8",
              "version_major": 2,
              "version_minor": 0
            },
            "text/plain": [
              "  0%|          | 0/9 [00:00<?, ?it/s]"
            ]
          },
          "metadata": {},
          "output_type": "display_data"
        },
        {
          "name": "stdout",
          "output_type": "stream",
          "text": [
            "{'eval_loss': 1.4113105862634256e-05, 'eval_runtime': 2.0464, 'eval_samples_per_second': 34.206, 'eval_steps_per_second': 4.398, 'epoch': 33.0}\n",
            "{'loss': 0.0004, 'learning_rate': 1.1148936170212768e-05, 'epoch': 33.54}\n"
          ]
        },
        {
          "data": {
            "application/vnd.jupyter.widget-view+json": {
              "model_id": "2e517b69d5f6490eb4121d2f517a74a6",
              "version_major": 2,
              "version_minor": 0
            },
            "text/plain": [
              "  0%|          | 0/9 [00:00<?, ?it/s]"
            ]
          },
          "metadata": {},
          "output_type": "display_data"
        },
        {
          "name": "stdout",
          "output_type": "stream",
          "text": [
            "{'eval_loss': 0.02471860498189926, 'eval_runtime': 1.9992, 'eval_samples_per_second': 35.014, 'eval_steps_per_second': 4.502, 'epoch': 34.0}\n",
            "{'loss': 0.0136, 'learning_rate': 1.097872340425532e-05, 'epoch': 34.18}\n",
            "{'loss': 0.0185, 'learning_rate': 1.0808510638297873e-05, 'epoch': 34.81}\n"
          ]
        },
        {
          "data": {
            "application/vnd.jupyter.widget-view+json": {
              "model_id": "4c77d9cad4734c90bcc8c697bd4964c3",
              "version_major": 2,
              "version_minor": 0
            },
            "text/plain": [
              "  0%|          | 0/9 [00:00<?, ?it/s]"
            ]
          },
          "metadata": {},
          "output_type": "display_data"
        },
        {
          "name": "stdout",
          "output_type": "stream",
          "text": [
            "{'eval_loss': 0.00024850681074894965, 'eval_runtime': 2.0576, 'eval_samples_per_second': 34.02, 'eval_steps_per_second': 4.374, 'epoch': 35.0}\n",
            "{'loss': 0.0165, 'learning_rate': 1.0638297872340426e-05, 'epoch': 35.44}\n"
          ]
        },
        {
          "data": {
            "application/vnd.jupyter.widget-view+json": {
              "model_id": "f5afde1385344c34ac8dda882c4eaf36",
              "version_major": 2,
              "version_minor": 0
            },
            "text/plain": [
              "  0%|          | 0/9 [00:00<?, ?it/s]"
            ]
          },
          "metadata": {},
          "output_type": "display_data"
        },
        {
          "name": "stdout",
          "output_type": "stream",
          "text": [
            "{'eval_loss': 1.9791293937032606e-07, 'eval_runtime': 2.0538, 'eval_samples_per_second': 34.083, 'eval_steps_per_second': 4.382, 'epoch': 36.0}\n",
            "{'loss': 0.0199, 'learning_rate': 1.0468085106382979e-05, 'epoch': 36.08}\n",
            "{'loss': 0.0381, 'learning_rate': 1.0297872340425532e-05, 'epoch': 36.71}\n"
          ]
        },
        {
          "data": {
            "application/vnd.jupyter.widget-view+json": {
              "model_id": "3ed109c0b86c4dc0afb39a131c928d49",
              "version_major": 2,
              "version_minor": 0
            },
            "text/plain": [
              "  0%|          | 0/9 [00:00<?, ?it/s]"
            ]
          },
          "metadata": {},
          "output_type": "display_data"
        },
        {
          "name": "stdout",
          "output_type": "stream",
          "text": [
            "{'eval_loss': 2.9436971544782864e-06, 'eval_runtime': 2.0463, 'eval_samples_per_second': 34.207, 'eval_steps_per_second': 4.398, 'epoch': 37.0}\n",
            "{'loss': 0.0154, 'learning_rate': 1.0127659574468085e-05, 'epoch': 37.34}\n",
            "{'loss': 0.0281, 'learning_rate': 9.957446808510639e-06, 'epoch': 37.97}\n"
          ]
        },
        {
          "data": {
            "application/vnd.jupyter.widget-view+json": {
              "model_id": "ce7ef752d5dd460ba708ca6e69016e6c",
              "version_major": 2,
              "version_minor": 0
            },
            "text/plain": [
              "  0%|          | 0/9 [00:00<?, ?it/s]"
            ]
          },
          "metadata": {},
          "output_type": "display_data"
        },
        {
          "name": "stdout",
          "output_type": "stream",
          "text": [
            "{'eval_loss': 2.4415126972598955e-05, 'eval_runtime': 2.0118, 'eval_samples_per_second': 34.795, 'eval_steps_per_second': 4.474, 'epoch': 38.0}\n",
            "{'loss': 0.006, 'learning_rate': 9.787234042553192e-06, 'epoch': 38.61}\n"
          ]
        },
        {
          "data": {
            "application/vnd.jupyter.widget-view+json": {
              "model_id": "e492671467e0475ebe66cafc877fdd07",
              "version_major": 2,
              "version_minor": 0
            },
            "text/plain": [
              "  0%|          | 0/9 [00:00<?, ?it/s]"
            ]
          },
          "metadata": {},
          "output_type": "display_data"
        },
        {
          "name": "stdout",
          "output_type": "stream",
          "text": [
            "{'eval_loss': 0.008495540358126163, 'eval_runtime': 2.0341, 'eval_samples_per_second': 34.414, 'eval_steps_per_second': 4.425, 'epoch': 39.0}\n",
            "{'loss': 0.0057, 'learning_rate': 9.617021276595745e-06, 'epoch': 39.24}\n",
            "{'loss': 0.0083, 'learning_rate': 9.446808510638299e-06, 'epoch': 39.87}\n"
          ]
        },
        {
          "data": {
            "application/vnd.jupyter.widget-view+json": {
              "model_id": "8433ab1e337b4a1ba8594db016b188da",
              "version_major": 2,
              "version_minor": 0
            },
            "text/plain": [
              "  0%|          | 0/9 [00:00<?, ?it/s]"
            ]
          },
          "metadata": {},
          "output_type": "display_data"
        },
        {
          "name": "stdout",
          "output_type": "stream",
          "text": [
            "{'eval_loss': 2.0793393673557148e-07, 'eval_runtime': 2.06, 'eval_samples_per_second': 33.98, 'eval_steps_per_second': 4.369, 'epoch': 40.0}\n",
            "{'loss': 0.0101, 'learning_rate': 9.276595744680852e-06, 'epoch': 40.51}\n"
          ]
        },
        {
          "data": {
            "application/vnd.jupyter.widget-view+json": {
              "model_id": "c3c0740e8a694553818221645f8e1323",
              "version_major": 2,
              "version_minor": 0
            },
            "text/plain": [
              "  0%|          | 0/9 [00:00<?, ?it/s]"
            ]
          },
          "metadata": {},
          "output_type": "display_data"
        },
        {
          "name": "stdout",
          "output_type": "stream",
          "text": [
            "{'eval_loss': 0.0005709591205231845, 'eval_runtime': 2.0664, 'eval_samples_per_second': 33.875, 'eval_steps_per_second': 4.355, 'epoch': 41.0}\n",
            "{'loss': 0.0226, 'learning_rate': 9.106382978723405e-06, 'epoch': 41.14}\n",
            "{'loss': 0.0282, 'learning_rate': 8.936170212765958e-06, 'epoch': 41.77}\n"
          ]
        },
        {
          "data": {
            "application/vnd.jupyter.widget-view+json": {
              "model_id": "f07ba1264ee34618a41e3b378d95528c",
              "version_major": 2,
              "version_minor": 0
            },
            "text/plain": [
              "  0%|          | 0/9 [00:00<?, ?it/s]"
            ]
          },
          "metadata": {},
          "output_type": "display_data"
        },
        {
          "name": "stdout",
          "output_type": "stream",
          "text": [
            "{'eval_loss': 0.00029736990109086037, 'eval_runtime': 2.0278, 'eval_samples_per_second': 34.521, 'eval_steps_per_second': 4.438, 'epoch': 42.0}\n",
            "{'loss': 0.0202, 'learning_rate': 8.765957446808512e-06, 'epoch': 42.41}\n"
          ]
        },
        {
          "data": {
            "application/vnd.jupyter.widget-view+json": {
              "model_id": "588861b4523b4522afd065b58bc1a162",
              "version_major": 2,
              "version_minor": 0
            },
            "text/plain": [
              "  0%|          | 0/9 [00:00<?, ?it/s]"
            ]
          },
          "metadata": {},
          "output_type": "display_data"
        },
        {
          "name": "stdout",
          "output_type": "stream",
          "text": [
            "{'eval_loss': 0.02051628567278385, 'eval_runtime': 2.0385, 'eval_samples_per_second': 34.339, 'eval_steps_per_second': 4.415, 'epoch': 43.0}\n",
            "{'loss': 0.0073, 'learning_rate': 8.595744680851065e-06, 'epoch': 43.04}\n",
            "{'loss': 0.0053, 'learning_rate': 8.425531914893618e-06, 'epoch': 43.67}\n"
          ]
        },
        {
          "data": {
            "application/vnd.jupyter.widget-view+json": {
              "model_id": "e04cf55ac9424e50b1e9f130daa169ea",
              "version_major": 2,
              "version_minor": 0
            },
            "text/plain": [
              "  0%|          | 0/9 [00:00<?, ?it/s]"
            ]
          },
          "metadata": {},
          "output_type": "display_data"
        },
        {
          "name": "stdout",
          "output_type": "stream",
          "text": [
            "{'eval_loss': 0.027531065046787262, 'eval_runtime': 2.0518, 'eval_samples_per_second': 34.117, 'eval_steps_per_second': 4.386, 'epoch': 44.0}\n",
            "{'loss': 0.0086, 'learning_rate': 8.25531914893617e-06, 'epoch': 44.3}\n",
            "{'loss': 0.0293, 'learning_rate': 8.085106382978723e-06, 'epoch': 44.94}\n"
          ]
        },
        {
          "data": {
            "application/vnd.jupyter.widget-view+json": {
              "model_id": "0066587a1855451f99ed8b8d84a7e51c",
              "version_major": 2,
              "version_minor": 0
            },
            "text/plain": [
              "  0%|          | 0/9 [00:00<?, ?it/s]"
            ]
          },
          "metadata": {},
          "output_type": "display_data"
        },
        {
          "name": "stdout",
          "output_type": "stream",
          "text": [
            "{'eval_loss': 0.04849638044834137, 'eval_runtime': 2.0605, 'eval_samples_per_second': 33.972, 'eval_steps_per_second': 4.368, 'epoch': 45.0}\n",
            "{'loss': 0.0119, 'learning_rate': 7.914893617021278e-06, 'epoch': 45.57}\n"
          ]
        },
        {
          "data": {
            "application/vnd.jupyter.widget-view+json": {
              "model_id": "75f005599bb1427daf1468ee641655be",
              "version_major": 2,
              "version_minor": 0
            },
            "text/plain": [
              "  0%|          | 0/9 [00:00<?, ?it/s]"
            ]
          },
          "metadata": {},
          "output_type": "display_data"
        },
        {
          "name": "stdout",
          "output_type": "stream",
          "text": [
            "{'eval_loss': 1.8044698663288727e-05, 'eval_runtime': 2.0341, 'eval_samples_per_second': 34.413, 'eval_steps_per_second': 4.424, 'epoch': 46.0}\n",
            "{'loss': 0.0105, 'learning_rate': 7.74468085106383e-06, 'epoch': 46.2}\n",
            "{'loss': 0.0045, 'learning_rate': 7.574468085106383e-06, 'epoch': 46.84}\n"
          ]
        },
        {
          "data": {
            "application/vnd.jupyter.widget-view+json": {
              "model_id": "3397d03717264d5a8f09d6922f8c048c",
              "version_major": 2,
              "version_minor": 0
            },
            "text/plain": [
              "  0%|          | 0/9 [00:00<?, ?it/s]"
            ]
          },
          "metadata": {},
          "output_type": "display_data"
        },
        {
          "name": "stdout",
          "output_type": "stream",
          "text": [
            "{'eval_loss': 6.849841582834415e-08, 'eval_runtime': 2.0343, 'eval_samples_per_second': 34.411, 'eval_steps_per_second': 4.424, 'epoch': 47.0}\n",
            "{'loss': 0.0066, 'learning_rate': 7.404255319148936e-06, 'epoch': 47.47}\n"
          ]
        },
        {
          "data": {
            "application/vnd.jupyter.widget-view+json": {
              "model_id": "3fabeaf2ae814466a9a6f749d49abc06",
              "version_major": 2,
              "version_minor": 0
            },
            "text/plain": [
              "  0%|          | 0/9 [00:00<?, ?it/s]"
            ]
          },
          "metadata": {},
          "output_type": "display_data"
        },
        {
          "name": "stdout",
          "output_type": "stream",
          "text": [
            "{'eval_loss': 0.026837799698114395, 'eval_runtime': 2.0117, 'eval_samples_per_second': 34.796, 'eval_steps_per_second': 4.474, 'epoch': 48.0}\n",
            "{'loss': 0.013, 'learning_rate': 7.234042553191491e-06, 'epoch': 48.1}\n",
            "{'loss': 0.0191, 'learning_rate': 7.0638297872340434e-06, 'epoch': 48.73}\n"
          ]
        },
        {
          "data": {
            "application/vnd.jupyter.widget-view+json": {
              "model_id": "a2ae0635f6d94f68810a4080c9a8692a",
              "version_major": 2,
              "version_minor": 0
            },
            "text/plain": [
              "  0%|          | 0/9 [00:00<?, ?it/s]"
            ]
          },
          "metadata": {},
          "output_type": "display_data"
        },
        {
          "name": "stdout",
          "output_type": "stream",
          "text": [
            "{'eval_loss': 0.010271746665239334, 'eval_runtime': 2.012, 'eval_samples_per_second': 34.791, 'eval_steps_per_second': 4.473, 'epoch': 49.0}\n",
            "{'loss': 0.0093, 'learning_rate': 6.893617021276596e-06, 'epoch': 49.37}\n",
            "{'loss': 0.0007, 'learning_rate': 6.723404255319149e-06, 'epoch': 50.0}\n"
          ]
        },
        {
          "data": {
            "application/vnd.jupyter.widget-view+json": {
              "model_id": "2eec9b7730fa4a458b1fad9e1fd8615e",
              "version_major": 2,
              "version_minor": 0
            },
            "text/plain": [
              "  0%|          | 0/9 [00:00<?, ?it/s]"
            ]
          },
          "metadata": {},
          "output_type": "display_data"
        },
        {
          "name": "stdout",
          "output_type": "stream",
          "text": [
            "{'eval_loss': 0.03859660029411316, 'eval_runtime': 2.0115, 'eval_samples_per_second': 34.8, 'eval_steps_per_second': 4.474, 'epoch': 50.0}\n",
            "{'loss': 0.0072, 'learning_rate': 6.553191489361702e-06, 'epoch': 50.63}\n"
          ]
        },
        {
          "data": {
            "application/vnd.jupyter.widget-view+json": {
              "model_id": "65a040ed2619490a94127b718a420c70",
              "version_major": 2,
              "version_minor": 0
            },
            "text/plain": [
              "  0%|          | 0/9 [00:00<?, ?it/s]"
            ]
          },
          "metadata": {},
          "output_type": "display_data"
        },
        {
          "name": "stdout",
          "output_type": "stream",
          "text": [
            "{'eval_loss': 2.2711220992732706e-07, 'eval_runtime': 1.9864, 'eval_samples_per_second': 35.239, 'eval_steps_per_second': 4.531, 'epoch': 51.0}\n",
            "{'loss': 0.0116, 'learning_rate': 6.382978723404256e-06, 'epoch': 51.27}\n",
            "{'loss': 0.0031, 'learning_rate': 6.212765957446809e-06, 'epoch': 51.9}\n"
          ]
        },
        {
          "data": {
            "application/vnd.jupyter.widget-view+json": {
              "model_id": "5cb06c889ab0415abee827763f858cdb",
              "version_major": 2,
              "version_minor": 0
            },
            "text/plain": [
              "  0%|          | 0/9 [00:00<?, ?it/s]"
            ]
          },
          "metadata": {},
          "output_type": "display_data"
        },
        {
          "name": "stdout",
          "output_type": "stream",
          "text": [
            "{'eval_loss': 2.905081259996223e-07, 'eval_runtime': 1.994, 'eval_samples_per_second': 35.106, 'eval_steps_per_second': 4.514, 'epoch': 52.0}\n",
            "{'loss': 0.0037, 'learning_rate': 6.042553191489362e-06, 'epoch': 52.53}\n"
          ]
        },
        {
          "data": {
            "application/vnd.jupyter.widget-view+json": {
              "model_id": "96546466205d417ba0d2fe7ccfa0fb58",
              "version_major": 2,
              "version_minor": 0
            },
            "text/plain": [
              "  0%|          | 0/9 [00:00<?, ?it/s]"
            ]
          },
          "metadata": {},
          "output_type": "display_data"
        },
        {
          "name": "stdout",
          "output_type": "stream",
          "text": [
            "{'eval_loss': 0.02251076139509678, 'eval_runtime': 2.0131, 'eval_samples_per_second': 34.772, 'eval_steps_per_second': 4.471, 'epoch': 53.0}\n",
            "{'loss': 0.0146, 'learning_rate': 5.872340425531915e-06, 'epoch': 53.16}\n",
            "{'loss': 0.0135, 'learning_rate': 5.702127659574469e-06, 'epoch': 53.8}\n"
          ]
        },
        {
          "data": {
            "application/vnd.jupyter.widget-view+json": {
              "model_id": "c9d8ea1154784c6ebe7f42291e106a30",
              "version_major": 2,
              "version_minor": 0
            },
            "text/plain": [
              "  0%|          | 0/9 [00:00<?, ?it/s]"
            ]
          },
          "metadata": {},
          "output_type": "display_data"
        },
        {
          "name": "stdout",
          "output_type": "stream",
          "text": [
            "{'eval_loss': 0.0002886891888920218, 'eval_runtime': 1.9899, 'eval_samples_per_second': 35.177, 'eval_steps_per_second': 4.523, 'epoch': 54.0}\n",
            "{'loss': 0.0015, 'learning_rate': 5.531914893617022e-06, 'epoch': 54.43}\n"
          ]
        },
        {
          "data": {
            "application/vnd.jupyter.widget-view+json": {
              "model_id": "4c99d3db7b4b47da982dd052750025cb",
              "version_major": 2,
              "version_minor": 0
            },
            "text/plain": [
              "  0%|          | 0/9 [00:00<?, ?it/s]"
            ]
          },
          "metadata": {},
          "output_type": "display_data"
        },
        {
          "name": "stdout",
          "output_type": "stream",
          "text": [
            "{'eval_loss': 0.00018878122500609607, 'eval_runtime': 2.0001, 'eval_samples_per_second': 34.999, 'eval_steps_per_second': 4.5, 'epoch': 55.0}\n",
            "{'loss': 0.0096, 'learning_rate': 5.361702127659575e-06, 'epoch': 55.06}\n",
            "{'loss': 0.0066, 'learning_rate': 5.191489361702128e-06, 'epoch': 55.7}\n"
          ]
        },
        {
          "data": {
            "application/vnd.jupyter.widget-view+json": {
              "model_id": "7685fd3322cb4dafb57273aa248fcbea",
              "version_major": 2,
              "version_minor": 0
            },
            "text/plain": [
              "  0%|          | 0/9 [00:00<?, ?it/s]"
            ]
          },
          "metadata": {},
          "output_type": "display_data"
        },
        {
          "name": "stdout",
          "output_type": "stream",
          "text": [
            "{'eval_loss': 0.002451034262776375, 'eval_runtime': 2.0049, 'eval_samples_per_second': 34.914, 'eval_steps_per_second': 4.489, 'epoch': 56.0}\n",
            "{'loss': 0.0095, 'learning_rate': 5.0212765957446805e-06, 'epoch': 56.33}\n",
            "{'loss': 0.0281, 'learning_rate': 4.851063829787234e-06, 'epoch': 56.96}\n"
          ]
        },
        {
          "data": {
            "application/vnd.jupyter.widget-view+json": {
              "model_id": "f97b4334dbf64a23b85f00d3e11df668",
              "version_major": 2,
              "version_minor": 0
            },
            "text/plain": [
              "  0%|          | 0/9 [00:00<?, ?it/s]"
            ]
          },
          "metadata": {},
          "output_type": "display_data"
        },
        {
          "name": "stdout",
          "output_type": "stream",
          "text": [
            "{'eval_loss': 0.014494474977254868, 'eval_runtime': 1.9895, 'eval_samples_per_second': 35.184, 'eval_steps_per_second': 4.524, 'epoch': 57.0}\n",
            "{'loss': 0.012, 'learning_rate': 4.680851063829788e-06, 'epoch': 57.59}\n"
          ]
        },
        {
          "data": {
            "application/vnd.jupyter.widget-view+json": {
              "model_id": "041c49789d0e44a891b2763c7b54b87e",
              "version_major": 2,
              "version_minor": 0
            },
            "text/plain": [
              "  0%|          | 0/9 [00:00<?, ?it/s]"
            ]
          },
          "metadata": {},
          "output_type": "display_data"
        },
        {
          "name": "stdout",
          "output_type": "stream",
          "text": [
            "{'eval_loss': 1.6533118696315796e-06, 'eval_runtime': 2.0604, 'eval_samples_per_second': 33.974, 'eval_steps_per_second': 4.368, 'epoch': 58.0}\n",
            "{'loss': 0.0318, 'learning_rate': 4.5106382978723406e-06, 'epoch': 58.23}\n",
            "{'loss': 0.0065, 'learning_rate': 4.340425531914894e-06, 'epoch': 58.86}\n"
          ]
        },
        {
          "data": {
            "application/vnd.jupyter.widget-view+json": {
              "model_id": "2ecc0529794647c6b435e1ff8e73f765",
              "version_major": 2,
              "version_minor": 0
            },
            "text/plain": [
              "  0%|          | 0/9 [00:00<?, ?it/s]"
            ]
          },
          "metadata": {},
          "output_type": "display_data"
        },
        {
          "name": "stdout",
          "output_type": "stream",
          "text": [
            "{'eval_loss': 1.133670579633872e-07, 'eval_runtime': 2.0522, 'eval_samples_per_second': 34.11, 'eval_steps_per_second': 4.386, 'epoch': 59.0}\n",
            "{'loss': 0.0054, 'learning_rate': 4.170212765957447e-06, 'epoch': 59.49}\n"
          ]
        },
        {
          "data": {
            "application/vnd.jupyter.widget-view+json": {
              "model_id": "f3a31362f9b749b398b37558ce6b5fd9",
              "version_major": 2,
              "version_minor": 0
            },
            "text/plain": [
              "  0%|          | 0/9 [00:00<?, ?it/s]"
            ]
          },
          "metadata": {},
          "output_type": "display_data"
        },
        {
          "name": "stdout",
          "output_type": "stream",
          "text": [
            "{'eval_loss': 0.008161806501448154, 'eval_runtime': 2.0468, 'eval_samples_per_second': 34.2, 'eval_steps_per_second': 4.397, 'epoch': 60.0}\n",
            "{'loss': 0.0047, 'learning_rate': 4.000000000000001e-06, 'epoch': 60.13}\n",
            "{'loss': 0.0104, 'learning_rate': 3.8297872340425535e-06, 'epoch': 60.76}\n"
          ]
        },
        {
          "data": {
            "application/vnd.jupyter.widget-view+json": {
              "model_id": "6393daf60f7b41aa94eeab32c8ce3d16",
              "version_major": 2,
              "version_minor": 0
            },
            "text/plain": [
              "  0%|          | 0/9 [00:00<?, ?it/s]"
            ]
          },
          "metadata": {},
          "output_type": "display_data"
        },
        {
          "name": "stdout",
          "output_type": "stream",
          "text": [
            "{'eval_loss': 6.927690066049763e-08, 'eval_runtime': 2.0219, 'eval_samples_per_second': 34.621, 'eval_steps_per_second': 4.451, 'epoch': 61.0}\n",
            "{'loss': 0.0005, 'learning_rate': 3.6595744680851063e-06, 'epoch': 61.39}\n"
          ]
        },
        {
          "data": {
            "application/vnd.jupyter.widget-view+json": {
              "model_id": "4432abba589f409388013a59b0458cd5",
              "version_major": 2,
              "version_minor": 0
            },
            "text/plain": [
              "  0%|          | 0/9 [00:00<?, ?it/s]"
            ]
          },
          "metadata": {},
          "output_type": "display_data"
        },
        {
          "name": "stdout",
          "output_type": "stream",
          "text": [
            "{'eval_loss': 0.030300242826342583, 'eval_runtime': 2.0196, 'eval_samples_per_second': 34.661, 'eval_steps_per_second': 4.456, 'epoch': 62.0}\n",
            "{'loss': 0.0158, 'learning_rate': 3.48936170212766e-06, 'epoch': 62.03}\n",
            "{'loss': 0.005, 'learning_rate': 3.3191489361702127e-06, 'epoch': 62.66}\n"
          ]
        },
        {
          "data": {
            "application/vnd.jupyter.widget-view+json": {
              "model_id": "923a25822702429382707cec64543da2",
              "version_major": 2,
              "version_minor": 0
            },
            "text/plain": [
              "  0%|          | 0/9 [00:00<?, ?it/s]"
            ]
          },
          "metadata": {},
          "output_type": "display_data"
        },
        {
          "name": "stdout",
          "output_type": "stream",
          "text": [
            "{'eval_loss': 5.990250429022126e-08, 'eval_runtime': 2.0842, 'eval_samples_per_second': 33.585, 'eval_steps_per_second': 4.318, 'epoch': 63.0}\n",
            "{'loss': 0.0001, 'learning_rate': 3.1489361702127664e-06, 'epoch': 63.29}\n"
          ]
        }
      ],
      "source": [
        "from transformers import AutoTokenizer, RobertaForMaskedLM, DataCollatorForLanguageModeling\n",
        "import torch\n",
        "import accelerate\n",
        "from transformers import Trainer, TrainingArguments\n",
        "from torch.utils.data import Dataset, DataLoader\n",
        "import json\n",
        "\n",
        "class NoSQLInjectionDataset(Dataset):\n",
        "    def __init__(self, dataset, tokenizer, split_ratio=0.9):\n",
        "        self.dataset = dataset\n",
        "        self.tokenizer = tokenizer\n",
        "        self.split_ratio = split_ratio\n",
        "        self.train_dataset = self.dataset[:int(len(self.dataset) * self.split_ratio)]\n",
        "        self.eval_dataset = self.dataset[int(len(self.dataset) * self.split_ratio):]\n",
        "\n",
        "    def __len__(self):\n",
        "        return len(self.train_dataset)\n",
        "\n",
        "    def __getitem__(self, idx):\n",
        "        sample = self.train_dataset[idx]\n",
        "        template = sample[\"template\"]\n",
        "        payload = sample[\"payload\"]\n",
        "\n",
        "        # Tokenize template and payload\n",
        "        tokenized_inputs = self.tokenizer.encode_plus(\n",
        "            template,\n",
        "            payload,\n",
        "            truncation=True,\n",
        "            padding=\"max_length\",\n",
        "            max_length=512,\n",
        "            return_tensors=\"pt\"\n",
        "        )\n",
        "\n",
        "        input_ids = tokenized_inputs[\"input_ids\"].squeeze()\n",
        "        attention_mask = tokenized_inputs[\"attention_mask\"].squeeze()\n",
        "\n",
        "        return {\n",
        "            \"input_ids\": input_ids,\n",
        "            \"attention_mask\": attention_mask,\n",
        "            \"labels\": input_ids\n",
        "        }\n",
        "\n",
        "    def get_eval_dataset(self):\n",
        "        eval_dataset = []\n",
        "        for sample in self.eval_dataset:\n",
        "            template = sample[\"template\"]\n",
        "            payload = sample[\"payload\"]\n",
        "\n",
        "            tokenized_inputs = self.tokenizer.encode_plus(\n",
        "                template,\n",
        "                payload,\n",
        "                truncation=True,\n",
        "                padding=\"max_length\",\n",
        "                max_length=512,\n",
        "                return_tensors=\"pt\"\n",
        "            )\n",
        "\n",
        "            input_ids = tokenized_inputs[\"input_ids\"].squeeze()\n",
        "            attention_mask = tokenized_inputs[\"attention_mask\"].squeeze()\n",
        "\n",
        "            eval_dataset.append({\n",
        "                \"input_ids\": input_ids,\n",
        "                \"attention_mask\": attention_mask,\n",
        "                \"labels\": input_ids\n",
        "            })\n",
        "\n",
        "        return eval_dataset\n",
        "with open(\"nosql_injection_dataset.json\", \"r\") as f:\n",
        "    dataset = json.load(f)\n",
        "\n",
        "tokenizer = AutoTokenizer.from_pretrained(\"roberta-base\")\n",
        "tokenizer.pad_token = tokenizer.eos_token\n",
        "data_collator = DataCollatorForLanguageModeling(tokenizer=tokenizer, mlm_probability=0.15)\n",
        "\n",
        "train_dataset = NoSQLInjectionDataset(dataset, tokenizer)\n",
        "eval_dataset = train_dataset.get_eval_dataset()\n",
        "\n",
        "model = RobertaForMaskedLM.from_pretrained(\"roberta-base\")\n",
        "\n",
        "# Set up the training arguments and trainer\n",
        "training_args = TrainingArguments(\n",
        "    output_dir=\"fine-tuned-roberta-nosql-injection\",\n",
        "    evaluation_strategy=\"epoch\",\n",
        "    num_train_epochs=75, \n",
        "    per_device_train_batch_size=4,\n",
        "    save_steps=1000, \n",
        "    logging_steps=100, # used to adjust the frequency of logging loss values\n",
        "    logging_dir=\"./logs\",\n",
        "    overwrite_output_dir=True,\n",
        "    learning_rate=2e-5,  # Adjust as needed\n",
        "    warmup_steps=100,  # Adjust as needed\n",
        "    weight_decay=0.01,  # Adjust as needed\n",
        "    push_to_hub=True\n",
        ")\n",
        "\n",
        "device = torch.device(\"cuda\" if torch.cuda.is_available() else \"cpu\")\n",
        "model.to(device)\n",
        "\n",
        "trainer = Trainer(\n",
        "    model=model,\n",
        "    args=training_args,\n",
        "    train_dataset=train_dataset,\n",
        "    eval_dataset=eval_dataset,\n",
        "    data_collator=data_collator,\n",
        ")\n",
        "\n",
        "# Fine-tune the model\n",
        "trainer.train()\n",
        "\n",
        "# Save the fine-tuned model\n",
        "\n",
        "# Push the fine-tuned model to the Hugging Face Model Hub\n",
        "trainer.push_to_hub(\"fine-tuned-roberta-nosql-injection\")\n",
        "tokenizer.push_to_hub(\"fine-tuned-roberta-nosql-injection\")\n",
        "print(\"Fine-tuned model saved and pushed to the Hugging Face Model Hub.\")"
      ]
    },
    {
      "cell_type": "code",
      "execution_count": null,
      "metadata": {},
      "outputs": [],
      "source": []
    }
  ],
  "metadata": {
    "colab": {
      "provenance": []
    },
    "kernelspec": {
      "display_name": "Python 3",
      "name": "python3"
    },
    "language_info": {
      "codemirror_mode": {
        "name": "ipython",
        "version": 3
      },
      "file_extension": ".py",
      "mimetype": "text/x-python",
      "name": "python",
      "nbconvert_exporter": "python",
      "pygments_lexer": "ipython3",
      "version": "3.10.9"
    },
    "widgets": {
      "application/vnd.jupyter.widget-state+json": {
        "024547e07c4a44babc1a5b688824bce8": {
          "model_module": "@jupyter-widgets/base",
          "model_module_version": "1.2.0",
          "model_name": "LayoutModel",
          "state": {
            "_model_module": "@jupyter-widgets/base",
            "_model_module_version": "1.2.0",
            "_model_name": "LayoutModel",
            "_view_count": null,
            "_view_module": "@jupyter-widgets/base",
            "_view_module_version": "1.2.0",
            "_view_name": "LayoutView",
            "align_content": null,
            "align_items": null,
            "align_self": null,
            "border": null,
            "bottom": null,
            "display": null,
            "flex": null,
            "flex_flow": null,
            "grid_area": null,
            "grid_auto_columns": null,
            "grid_auto_flow": null,
            "grid_auto_rows": null,
            "grid_column": null,
            "grid_gap": null,
            "grid_row": null,
            "grid_template_areas": null,
            "grid_template_columns": null,
            "grid_template_rows": null,
            "height": null,
            "justify_content": null,
            "justify_items": null,
            "left": null,
            "margin": null,
            "max_height": null,
            "max_width": null,
            "min_height": null,
            "min_width": null,
            "object_fit": null,
            "object_position": null,
            "order": null,
            "overflow": null,
            "overflow_x": null,
            "overflow_y": null,
            "padding": null,
            "right": null,
            "top": null,
            "visibility": null,
            "width": null
          }
        },
        "0365b05cd4db4690965531565e430360": {
          "model_module": "@jupyter-widgets/controls",
          "model_module_version": "1.5.0",
          "model_name": "DescriptionStyleModel",
          "state": {
            "_model_module": "@jupyter-widgets/controls",
            "_model_module_version": "1.5.0",
            "_model_name": "DescriptionStyleModel",
            "_view_count": null,
            "_view_module": "@jupyter-widgets/base",
            "_view_module_version": "1.2.0",
            "_view_name": "StyleView",
            "description_width": ""
          }
        },
        "0bbbde99f9e84ddfa7512cb2c70e3a82": {
          "model_module": "@jupyter-widgets/base",
          "model_module_version": "1.2.0",
          "model_name": "LayoutModel",
          "state": {
            "_model_module": "@jupyter-widgets/base",
            "_model_module_version": "1.2.0",
            "_model_name": "LayoutModel",
            "_view_count": null,
            "_view_module": "@jupyter-widgets/base",
            "_view_module_version": "1.2.0",
            "_view_name": "LayoutView",
            "align_content": null,
            "align_items": null,
            "align_self": null,
            "border": null,
            "bottom": null,
            "display": null,
            "flex": null,
            "flex_flow": null,
            "grid_area": null,
            "grid_auto_columns": null,
            "grid_auto_flow": null,
            "grid_auto_rows": null,
            "grid_column": null,
            "grid_gap": null,
            "grid_row": null,
            "grid_template_areas": null,
            "grid_template_columns": null,
            "grid_template_rows": null,
            "height": null,
            "justify_content": null,
            "justify_items": null,
            "left": null,
            "margin": null,
            "max_height": null,
            "max_width": null,
            "min_height": null,
            "min_width": null,
            "object_fit": null,
            "object_position": null,
            "order": null,
            "overflow": null,
            "overflow_x": null,
            "overflow_y": null,
            "padding": null,
            "right": null,
            "top": null,
            "visibility": null,
            "width": null
          }
        },
        "0c9b382bc02542058e2f4697cab3113e": {
          "model_module": "@jupyter-widgets/controls",
          "model_module_version": "1.5.0",
          "model_name": "DescriptionStyleModel",
          "state": {
            "_model_module": "@jupyter-widgets/controls",
            "_model_module_version": "1.5.0",
            "_model_name": "DescriptionStyleModel",
            "_view_count": null,
            "_view_module": "@jupyter-widgets/base",
            "_view_module_version": "1.2.0",
            "_view_name": "StyleView",
            "description_width": ""
          }
        },
        "0e906d65d7c6403d8e8111d2d0127484": {
          "model_module": "@jupyter-widgets/controls",
          "model_module_version": "1.5.0",
          "model_name": "ButtonStyleModel",
          "state": {
            "_model_module": "@jupyter-widgets/controls",
            "_model_module_version": "1.5.0",
            "_model_name": "ButtonStyleModel",
            "_view_count": null,
            "_view_module": "@jupyter-widgets/base",
            "_view_module_version": "1.2.0",
            "_view_name": "StyleView",
            "button_color": null,
            "font_weight": ""
          }
        },
        "0ebb981f94c741eca4e2b9d862e2ae9e": {
          "model_module": "@jupyter-widgets/base",
          "model_module_version": "1.2.0",
          "model_name": "LayoutModel",
          "state": {
            "_model_module": "@jupyter-widgets/base",
            "_model_module_version": "1.2.0",
            "_model_name": "LayoutModel",
            "_view_count": null,
            "_view_module": "@jupyter-widgets/base",
            "_view_module_version": "1.2.0",
            "_view_name": "LayoutView",
            "align_content": null,
            "align_items": null,
            "align_self": null,
            "border": null,
            "bottom": null,
            "display": null,
            "flex": null,
            "flex_flow": null,
            "grid_area": null,
            "grid_auto_columns": null,
            "grid_auto_flow": null,
            "grid_auto_rows": null,
            "grid_column": null,
            "grid_gap": null,
            "grid_row": null,
            "grid_template_areas": null,
            "grid_template_columns": null,
            "grid_template_rows": null,
            "height": null,
            "justify_content": null,
            "justify_items": null,
            "left": null,
            "margin": null,
            "max_height": null,
            "max_width": null,
            "min_height": null,
            "min_width": null,
            "object_fit": null,
            "object_position": null,
            "order": null,
            "overflow": null,
            "overflow_x": null,
            "overflow_y": null,
            "padding": null,
            "right": null,
            "top": null,
            "visibility": null,
            "width": null
          }
        },
        "19f5e15d98e249a899826754f034ceb7": {
          "model_module": "@jupyter-widgets/controls",
          "model_module_version": "1.5.0",
          "model_name": "DescriptionStyleModel",
          "state": {
            "_model_module": "@jupyter-widgets/controls",
            "_model_module_version": "1.5.0",
            "_model_name": "DescriptionStyleModel",
            "_view_count": null,
            "_view_module": "@jupyter-widgets/base",
            "_view_module_version": "1.2.0",
            "_view_name": "StyleView",
            "description_width": ""
          }
        },
        "1be02e79fa1d4663a72f8e9c55fa2472": {
          "model_module": "@jupyter-widgets/controls",
          "model_module_version": "1.5.0",
          "model_name": "DescriptionStyleModel",
          "state": {
            "_model_module": "@jupyter-widgets/controls",
            "_model_module_version": "1.5.0",
            "_model_name": "DescriptionStyleModel",
            "_view_count": null,
            "_view_module": "@jupyter-widgets/base",
            "_view_module_version": "1.2.0",
            "_view_name": "StyleView",
            "description_width": ""
          }
        },
        "1f5787bb824f4afca28281259a5f9709": {
          "model_module": "@jupyter-widgets/controls",
          "model_module_version": "1.5.0",
          "model_name": "LabelModel",
          "state": {
            "_dom_classes": [],
            "_model_module": "@jupyter-widgets/controls",
            "_model_module_version": "1.5.0",
            "_model_name": "LabelModel",
            "_view_count": null,
            "_view_module": "@jupyter-widgets/controls",
            "_view_module_version": "1.5.0",
            "_view_name": "LabelView",
            "description": "",
            "description_tooltip": null,
            "layout": "IPY_MODEL_a867f1ec4f18432d890f489e542d225b",
            "placeholder": "​",
            "style": "IPY_MODEL_dcb421b29db648129271f8e94eafa2ca",
            "value": "Your token has been saved in your configured git credential helpers (store)."
          }
        },
        "2773c08782a44aeb8ee2c3a0b0cd0d73": {
          "model_module": "@jupyter-widgets/controls",
          "model_module_version": "1.5.0",
          "model_name": "LabelModel",
          "state": {
            "_dom_classes": [],
            "_model_module": "@jupyter-widgets/controls",
            "_model_module_version": "1.5.0",
            "_model_name": "LabelModel",
            "_view_count": null,
            "_view_module": "@jupyter-widgets/controls",
            "_view_module_version": "1.5.0",
            "_view_name": "LabelView",
            "description": "",
            "description_tooltip": null,
            "layout": "IPY_MODEL_7d2b67838e164b90b062d4cffbb88346",
            "placeholder": "​",
            "style": "IPY_MODEL_e0c9a2dfd8d64d88bb4432d5357b9ebe",
            "value": "Login successful"
          }
        },
        "373e03a6dd8d4fb7814b9a794aaf79a8": {
          "model_module": "@jupyter-widgets/base",
          "model_module_version": "1.2.0",
          "model_name": "LayoutModel",
          "state": {
            "_model_module": "@jupyter-widgets/base",
            "_model_module_version": "1.2.0",
            "_model_name": "LayoutModel",
            "_view_count": null,
            "_view_module": "@jupyter-widgets/base",
            "_view_module_version": "1.2.0",
            "_view_name": "LayoutView",
            "align_content": null,
            "align_items": null,
            "align_self": null,
            "border": null,
            "bottom": null,
            "display": null,
            "flex": null,
            "flex_flow": null,
            "grid_area": null,
            "grid_auto_columns": null,
            "grid_auto_flow": null,
            "grid_auto_rows": null,
            "grid_column": null,
            "grid_gap": null,
            "grid_row": null,
            "grid_template_areas": null,
            "grid_template_columns": null,
            "grid_template_rows": null,
            "height": null,
            "justify_content": null,
            "justify_items": null,
            "left": null,
            "margin": null,
            "max_height": null,
            "max_width": null,
            "min_height": null,
            "min_width": null,
            "object_fit": null,
            "object_position": null,
            "order": null,
            "overflow": null,
            "overflow_x": null,
            "overflow_y": null,
            "padding": null,
            "right": null,
            "top": null,
            "visibility": null,
            "width": null
          }
        },
        "514f21d6f48d4f8c8b336c559e5fa614": {
          "model_module": "@jupyter-widgets/base",
          "model_module_version": "1.2.0",
          "model_name": "LayoutModel",
          "state": {
            "_model_module": "@jupyter-widgets/base",
            "_model_module_version": "1.2.0",
            "_model_name": "LayoutModel",
            "_view_count": null,
            "_view_module": "@jupyter-widgets/base",
            "_view_module_version": "1.2.0",
            "_view_name": "LayoutView",
            "align_content": null,
            "align_items": null,
            "align_self": null,
            "border": null,
            "bottom": null,
            "display": null,
            "flex": null,
            "flex_flow": null,
            "grid_area": null,
            "grid_auto_columns": null,
            "grid_auto_flow": null,
            "grid_auto_rows": null,
            "grid_column": null,
            "grid_gap": null,
            "grid_row": null,
            "grid_template_areas": null,
            "grid_template_columns": null,
            "grid_template_rows": null,
            "height": null,
            "justify_content": null,
            "justify_items": null,
            "left": null,
            "margin": null,
            "max_height": null,
            "max_width": null,
            "min_height": null,
            "min_width": null,
            "object_fit": null,
            "object_position": null,
            "order": null,
            "overflow": null,
            "overflow_x": null,
            "overflow_y": null,
            "padding": null,
            "right": null,
            "top": null,
            "visibility": null,
            "width": null
          }
        },
        "5617344a46e54802902249a465f882d1": {
          "model_module": "@jupyter-widgets/controls",
          "model_module_version": "1.5.0",
          "model_name": "DescriptionStyleModel",
          "state": {
            "_model_module": "@jupyter-widgets/controls",
            "_model_module_version": "1.5.0",
            "_model_name": "DescriptionStyleModel",
            "_view_count": null,
            "_view_module": "@jupyter-widgets/base",
            "_view_module_version": "1.2.0",
            "_view_name": "StyleView",
            "description_width": ""
          }
        },
        "57e94991aff34481bcaa26d7adde667d": {
          "model_module": "@jupyter-widgets/base",
          "model_module_version": "1.2.0",
          "model_name": "LayoutModel",
          "state": {
            "_model_module": "@jupyter-widgets/base",
            "_model_module_version": "1.2.0",
            "_model_name": "LayoutModel",
            "_view_count": null,
            "_view_module": "@jupyter-widgets/base",
            "_view_module_version": "1.2.0",
            "_view_name": "LayoutView",
            "align_content": null,
            "align_items": "center",
            "align_self": null,
            "border": null,
            "bottom": null,
            "display": "flex",
            "flex": null,
            "flex_flow": "column",
            "grid_area": null,
            "grid_auto_columns": null,
            "grid_auto_flow": null,
            "grid_auto_rows": null,
            "grid_column": null,
            "grid_gap": null,
            "grid_row": null,
            "grid_template_areas": null,
            "grid_template_columns": null,
            "grid_template_rows": null,
            "height": null,
            "justify_content": null,
            "justify_items": null,
            "left": null,
            "margin": null,
            "max_height": null,
            "max_width": null,
            "min_height": null,
            "min_width": null,
            "object_fit": null,
            "object_position": null,
            "order": null,
            "overflow": null,
            "overflow_x": null,
            "overflow_y": null,
            "padding": null,
            "right": null,
            "top": null,
            "visibility": null,
            "width": "50%"
          }
        },
        "5c4e887134084fc09b4cd95f414fea25": {
          "model_module": "@jupyter-widgets/controls",
          "model_module_version": "1.5.0",
          "model_name": "VBoxModel",
          "state": {
            "_dom_classes": [],
            "_model_module": "@jupyter-widgets/controls",
            "_model_module_version": "1.5.0",
            "_model_name": "VBoxModel",
            "_view_count": null,
            "_view_module": "@jupyter-widgets/controls",
            "_view_module_version": "1.5.0",
            "_view_name": "VBoxView",
            "box_style": "",
            "children": [
              "IPY_MODEL_5fd597cae83f4332aa1820a038bafe41",
              "IPY_MODEL_1f5787bb824f4afca28281259a5f9709",
              "IPY_MODEL_892311fbaa614e97ad38d9061cd4c604",
              "IPY_MODEL_2773c08782a44aeb8ee2c3a0b0cd0d73"
            ],
            "layout": "IPY_MODEL_57e94991aff34481bcaa26d7adde667d"
          }
        },
        "5fd597cae83f4332aa1820a038bafe41": {
          "model_module": "@jupyter-widgets/controls",
          "model_module_version": "1.5.0",
          "model_name": "LabelModel",
          "state": {
            "_dom_classes": [],
            "_model_module": "@jupyter-widgets/controls",
            "_model_module_version": "1.5.0",
            "_model_name": "LabelModel",
            "_view_count": null,
            "_view_module": "@jupyter-widgets/controls",
            "_view_module_version": "1.5.0",
            "_view_name": "LabelView",
            "description": "",
            "description_tooltip": null,
            "layout": "IPY_MODEL_514f21d6f48d4f8c8b336c559e5fa614",
            "placeholder": "​",
            "style": "IPY_MODEL_0365b05cd4db4690965531565e430360",
            "value": "Token is valid (permission: write)."
          }
        },
        "6209242d1f174d9b943aebabd3de0736": {
          "model_module": "@jupyter-widgets/controls",
          "model_module_version": "1.5.0",
          "model_name": "DescriptionStyleModel",
          "state": {
            "_model_module": "@jupyter-widgets/controls",
            "_model_module_version": "1.5.0",
            "_model_name": "DescriptionStyleModel",
            "_view_count": null,
            "_view_module": "@jupyter-widgets/base",
            "_view_module_version": "1.2.0",
            "_view_name": "StyleView",
            "description_width": ""
          }
        },
        "7079cb6aca34426ab80d393448e8b183": {
          "model_module": "@jupyter-widgets/controls",
          "model_module_version": "1.5.0",
          "model_name": "DescriptionStyleModel",
          "state": {
            "_model_module": "@jupyter-widgets/controls",
            "_model_module_version": "1.5.0",
            "_model_name": "DescriptionStyleModel",
            "_view_count": null,
            "_view_module": "@jupyter-widgets/base",
            "_view_module_version": "1.2.0",
            "_view_name": "StyleView",
            "description_width": ""
          }
        },
        "7b92a0a9051f48969aa8295a192c270c": {
          "model_module": "@jupyter-widgets/controls",
          "model_module_version": "1.5.0",
          "model_name": "ButtonModel",
          "state": {
            "_dom_classes": [],
            "_model_module": "@jupyter-widgets/controls",
            "_model_module_version": "1.5.0",
            "_model_name": "ButtonModel",
            "_view_count": null,
            "_view_module": "@jupyter-widgets/controls",
            "_view_module_version": "1.5.0",
            "_view_name": "ButtonView",
            "button_style": "",
            "description": "Login",
            "disabled": false,
            "icon": "",
            "layout": "IPY_MODEL_94941b5c8c0a40bea3b417cef6868eae",
            "style": "IPY_MODEL_0e906d65d7c6403d8e8111d2d0127484",
            "tooltip": ""
          }
        },
        "7d2b67838e164b90b062d4cffbb88346": {
          "model_module": "@jupyter-widgets/base",
          "model_module_version": "1.2.0",
          "model_name": "LayoutModel",
          "state": {
            "_model_module": "@jupyter-widgets/base",
            "_model_module_version": "1.2.0",
            "_model_name": "LayoutModel",
            "_view_count": null,
            "_view_module": "@jupyter-widgets/base",
            "_view_module_version": "1.2.0",
            "_view_name": "LayoutView",
            "align_content": null,
            "align_items": null,
            "align_self": null,
            "border": null,
            "bottom": null,
            "display": null,
            "flex": null,
            "flex_flow": null,
            "grid_area": null,
            "grid_auto_columns": null,
            "grid_auto_flow": null,
            "grid_auto_rows": null,
            "grid_column": null,
            "grid_gap": null,
            "grid_row": null,
            "grid_template_areas": null,
            "grid_template_columns": null,
            "grid_template_rows": null,
            "height": null,
            "justify_content": null,
            "justify_items": null,
            "left": null,
            "margin": null,
            "max_height": null,
            "max_width": null,
            "min_height": null,
            "min_width": null,
            "object_fit": null,
            "object_position": null,
            "order": null,
            "overflow": null,
            "overflow_x": null,
            "overflow_y": null,
            "padding": null,
            "right": null,
            "top": null,
            "visibility": null,
            "width": null
          }
        },
        "7e0172357b3747b0ab569c618e70d5ae": {
          "model_module": "@jupyter-widgets/controls",
          "model_module_version": "1.5.0",
          "model_name": "CheckboxModel",
          "state": {
            "_dom_classes": [],
            "_model_module": "@jupyter-widgets/controls",
            "_model_module_version": "1.5.0",
            "_model_name": "CheckboxModel",
            "_view_count": null,
            "_view_module": "@jupyter-widgets/controls",
            "_view_module_version": "1.5.0",
            "_view_name": "CheckboxView",
            "description": "Add token as git credential?",
            "description_tooltip": null,
            "disabled": false,
            "indent": true,
            "layout": "IPY_MODEL_024547e07c4a44babc1a5b688824bce8",
            "style": "IPY_MODEL_5617344a46e54802902249a465f882d1",
            "value": true
          }
        },
        "892311fbaa614e97ad38d9061cd4c604": {
          "model_module": "@jupyter-widgets/controls",
          "model_module_version": "1.5.0",
          "model_name": "LabelModel",
          "state": {
            "_dom_classes": [],
            "_model_module": "@jupyter-widgets/controls",
            "_model_module_version": "1.5.0",
            "_model_name": "LabelModel",
            "_view_count": null,
            "_view_module": "@jupyter-widgets/controls",
            "_view_module_version": "1.5.0",
            "_view_name": "LabelView",
            "description": "",
            "description_tooltip": null,
            "layout": "IPY_MODEL_0bbbde99f9e84ddfa7512cb2c70e3a82",
            "placeholder": "​",
            "style": "IPY_MODEL_7079cb6aca34426ab80d393448e8b183",
            "value": "Your token has been saved to /root/.cache/huggingface/token"
          }
        },
        "9287d0b98f834e198ac28be1f7ed5f32": {
          "model_module": "@jupyter-widgets/controls",
          "model_module_version": "1.5.0",
          "model_name": "LabelModel",
          "state": {
            "_dom_classes": [],
            "_model_module": "@jupyter-widgets/controls",
            "_model_module_version": "1.5.0",
            "_model_name": "LabelModel",
            "_view_count": null,
            "_view_module": "@jupyter-widgets/controls",
            "_view_module_version": "1.5.0",
            "_view_name": "LabelView",
            "description": "",
            "description_tooltip": null,
            "layout": "IPY_MODEL_e2bc85b91b2b4b4eb0d97507ba6f61f7",
            "placeholder": "​",
            "style": "IPY_MODEL_1be02e79fa1d4663a72f8e9c55fa2472",
            "value": "Connecting..."
          }
        },
        "94941b5c8c0a40bea3b417cef6868eae": {
          "model_module": "@jupyter-widgets/base",
          "model_module_version": "1.2.0",
          "model_name": "LayoutModel",
          "state": {
            "_model_module": "@jupyter-widgets/base",
            "_model_module_version": "1.2.0",
            "_model_name": "LayoutModel",
            "_view_count": null,
            "_view_module": "@jupyter-widgets/base",
            "_view_module_version": "1.2.0",
            "_view_name": "LayoutView",
            "align_content": null,
            "align_items": null,
            "align_self": null,
            "border": null,
            "bottom": null,
            "display": null,
            "flex": null,
            "flex_flow": null,
            "grid_area": null,
            "grid_auto_columns": null,
            "grid_auto_flow": null,
            "grid_auto_rows": null,
            "grid_column": null,
            "grid_gap": null,
            "grid_row": null,
            "grid_template_areas": null,
            "grid_template_columns": null,
            "grid_template_rows": null,
            "height": null,
            "justify_content": null,
            "justify_items": null,
            "left": null,
            "margin": null,
            "max_height": null,
            "max_width": null,
            "min_height": null,
            "min_width": null,
            "object_fit": null,
            "object_position": null,
            "order": null,
            "overflow": null,
            "overflow_x": null,
            "overflow_y": null,
            "padding": null,
            "right": null,
            "top": null,
            "visibility": null,
            "width": null
          }
        },
        "a867f1ec4f18432d890f489e542d225b": {
          "model_module": "@jupyter-widgets/base",
          "model_module_version": "1.2.0",
          "model_name": "LayoutModel",
          "state": {
            "_model_module": "@jupyter-widgets/base",
            "_model_module_version": "1.2.0",
            "_model_name": "LayoutModel",
            "_view_count": null,
            "_view_module": "@jupyter-widgets/base",
            "_view_module_version": "1.2.0",
            "_view_name": "LayoutView",
            "align_content": null,
            "align_items": null,
            "align_self": null,
            "border": null,
            "bottom": null,
            "display": null,
            "flex": null,
            "flex_flow": null,
            "grid_area": null,
            "grid_auto_columns": null,
            "grid_auto_flow": null,
            "grid_auto_rows": null,
            "grid_column": null,
            "grid_gap": null,
            "grid_row": null,
            "grid_template_areas": null,
            "grid_template_columns": null,
            "grid_template_rows": null,
            "height": null,
            "justify_content": null,
            "justify_items": null,
            "left": null,
            "margin": null,
            "max_height": null,
            "max_width": null,
            "min_height": null,
            "min_width": null,
            "object_fit": null,
            "object_position": null,
            "order": null,
            "overflow": null,
            "overflow_x": null,
            "overflow_y": null,
            "padding": null,
            "right": null,
            "top": null,
            "visibility": null,
            "width": null
          }
        },
        "cd521b7617564dbd894fa14186f5e4b7": {
          "model_module": "@jupyter-widgets/controls",
          "model_module_version": "1.5.0",
          "model_name": "HTMLModel",
          "state": {
            "_dom_classes": [],
            "_model_module": "@jupyter-widgets/controls",
            "_model_module_version": "1.5.0",
            "_model_name": "HTMLModel",
            "_view_count": null,
            "_view_module": "@jupyter-widgets/controls",
            "_view_module_version": "1.5.0",
            "_view_name": "HTMLView",
            "description": "",
            "description_tooltip": null,
            "layout": "IPY_MODEL_373e03a6dd8d4fb7814b9a794aaf79a8",
            "placeholder": "​",
            "style": "IPY_MODEL_0c9b382bc02542058e2f4697cab3113e",
            "value": "<center> <img\nsrc=https://huggingface.co/front/assets/huggingface_logo-noborder.svg\nalt='Hugging Face'> <br> Copy a token from <a\nhref=\"https://huggingface.co/settings/tokens\" target=\"_blank\">your Hugging Face\ntokens page</a> and paste it below. <br> Immediately click login after copying\nyour token or it might be stored in plain text in this notebook file. </center>"
          }
        },
        "d9f442a6e3cf4ca580e0ffdc5284f0d3": {
          "model_module": "@jupyter-widgets/controls",
          "model_module_version": "1.5.0",
          "model_name": "PasswordModel",
          "state": {
            "_dom_classes": [],
            "_model_module": "@jupyter-widgets/controls",
            "_model_module_version": "1.5.0",
            "_model_name": "PasswordModel",
            "_view_count": null,
            "_view_module": "@jupyter-widgets/controls",
            "_view_module_version": "1.5.0",
            "_view_name": "PasswordView",
            "continuous_update": true,
            "description": "Token:",
            "description_tooltip": null,
            "disabled": false,
            "layout": "IPY_MODEL_eba5746697c942eca5555f38d06546e6",
            "placeholder": "​",
            "style": "IPY_MODEL_6209242d1f174d9b943aebabd3de0736",
            "value": ""
          }
        },
        "dcb421b29db648129271f8e94eafa2ca": {
          "model_module": "@jupyter-widgets/controls",
          "model_module_version": "1.5.0",
          "model_name": "DescriptionStyleModel",
          "state": {
            "_model_module": "@jupyter-widgets/controls",
            "_model_module_version": "1.5.0",
            "_model_name": "DescriptionStyleModel",
            "_view_count": null,
            "_view_module": "@jupyter-widgets/base",
            "_view_module_version": "1.2.0",
            "_view_name": "StyleView",
            "description_width": ""
          }
        },
        "e0c9a2dfd8d64d88bb4432d5357b9ebe": {
          "model_module": "@jupyter-widgets/controls",
          "model_module_version": "1.5.0",
          "model_name": "DescriptionStyleModel",
          "state": {
            "_model_module": "@jupyter-widgets/controls",
            "_model_module_version": "1.5.0",
            "_model_name": "DescriptionStyleModel",
            "_view_count": null,
            "_view_module": "@jupyter-widgets/base",
            "_view_module_version": "1.2.0",
            "_view_name": "StyleView",
            "description_width": ""
          }
        },
        "e2bc85b91b2b4b4eb0d97507ba6f61f7": {
          "model_module": "@jupyter-widgets/base",
          "model_module_version": "1.2.0",
          "model_name": "LayoutModel",
          "state": {
            "_model_module": "@jupyter-widgets/base",
            "_model_module_version": "1.2.0",
            "_model_name": "LayoutModel",
            "_view_count": null,
            "_view_module": "@jupyter-widgets/base",
            "_view_module_version": "1.2.0",
            "_view_name": "LayoutView",
            "align_content": null,
            "align_items": null,
            "align_self": null,
            "border": null,
            "bottom": null,
            "display": null,
            "flex": null,
            "flex_flow": null,
            "grid_area": null,
            "grid_auto_columns": null,
            "grid_auto_flow": null,
            "grid_auto_rows": null,
            "grid_column": null,
            "grid_gap": null,
            "grid_row": null,
            "grid_template_areas": null,
            "grid_template_columns": null,
            "grid_template_rows": null,
            "height": null,
            "justify_content": null,
            "justify_items": null,
            "left": null,
            "margin": null,
            "max_height": null,
            "max_width": null,
            "min_height": null,
            "min_width": null,
            "object_fit": null,
            "object_position": null,
            "order": null,
            "overflow": null,
            "overflow_x": null,
            "overflow_y": null,
            "padding": null,
            "right": null,
            "top": null,
            "visibility": null,
            "width": null
          }
        },
        "eba5746697c942eca5555f38d06546e6": {
          "model_module": "@jupyter-widgets/base",
          "model_module_version": "1.2.0",
          "model_name": "LayoutModel",
          "state": {
            "_model_module": "@jupyter-widgets/base",
            "_model_module_version": "1.2.0",
            "_model_name": "LayoutModel",
            "_view_count": null,
            "_view_module": "@jupyter-widgets/base",
            "_view_module_version": "1.2.0",
            "_view_name": "LayoutView",
            "align_content": null,
            "align_items": null,
            "align_self": null,
            "border": null,
            "bottom": null,
            "display": null,
            "flex": null,
            "flex_flow": null,
            "grid_area": null,
            "grid_auto_columns": null,
            "grid_auto_flow": null,
            "grid_auto_rows": null,
            "grid_column": null,
            "grid_gap": null,
            "grid_row": null,
            "grid_template_areas": null,
            "grid_template_columns": null,
            "grid_template_rows": null,
            "height": null,
            "justify_content": null,
            "justify_items": null,
            "left": null,
            "margin": null,
            "max_height": null,
            "max_width": null,
            "min_height": null,
            "min_width": null,
            "object_fit": null,
            "object_position": null,
            "order": null,
            "overflow": null,
            "overflow_x": null,
            "overflow_y": null,
            "padding": null,
            "right": null,
            "top": null,
            "visibility": null,
            "width": null
          }
        },
        "f223a91848aa407d9c5215c9cc5e6d6a": {
          "model_module": "@jupyter-widgets/controls",
          "model_module_version": "1.5.0",
          "model_name": "HTMLModel",
          "state": {
            "_dom_classes": [],
            "_model_module": "@jupyter-widgets/controls",
            "_model_module_version": "1.5.0",
            "_model_name": "HTMLModel",
            "_view_count": null,
            "_view_module": "@jupyter-widgets/controls",
            "_view_module_version": "1.5.0",
            "_view_name": "HTMLView",
            "description": "",
            "description_tooltip": null,
            "layout": "IPY_MODEL_0ebb981f94c741eca4e2b9d862e2ae9e",
            "placeholder": "​",
            "style": "IPY_MODEL_19f5e15d98e249a899826754f034ceb7",
            "value": "\n<b>Pro Tip:</b> If you don't already have one, you can create a dedicated\n'notebooks' token with 'write' access, that you can then easily reuse for all\nnotebooks. </center>"
          }
        }
      }
    }
  },
  "nbformat": 4,
  "nbformat_minor": 0
}
